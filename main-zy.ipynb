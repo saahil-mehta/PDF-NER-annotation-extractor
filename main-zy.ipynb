{
 "cells": [
  {
   "cell_type": "code",
   "execution_count": 1,
   "metadata": {
    "ExecuteTime": {
     "end_time": "2021-05-01T18:07:42.673716Z",
     "start_time": "2021-05-01T18:07:41.941378Z"
    }
   },
   "outputs": [],
   "source": [
    "import pandas as pd\n",
    "from docx2pdf import convert\n",
    "import pdfminer\n",
    "from pdfminer.pdfparser import PDFParser\n",
    "from pdfminer.pdfdocument import PDFDocument\n",
    "import pdfplumber\n",
    "from docx import *\n",
    "import glob\n",
    "import os\n",
    "import docx"
   ]
  },
  {
   "cell_type": "markdown",
   "metadata": {},
   "source": [
    "## Setting paths"
   ]
  },
  {
   "cell_type": "code",
   "execution_count": 1,
   "metadata": {
    "ExecuteTime": {
     "end_time": "2021-05-01T04:25:26.504880Z",
     "start_time": "2021-05-01T04:25:25.130259Z"
    }
   },
   "outputs": [],
   "source": [
    "convert(\"Training_data/\", output_path=\"PDFs/\")"
   ]
  },
  {
   "cell_type": "code",
   "execution_count": 15,
   "metadata": {
    "ExecuteTime": {
     "end_time": "2021-05-01T18:08:55.625846Z",
     "start_time": "2021-05-01T18:08:55.623311Z"
    }
   },
   "outputs": [],
   "source": [
    "default_directory = os.getcwd()"
   ]
  },
  {
   "cell_type": "code",
   "execution_count": 16,
   "metadata": {
    "ExecuteTime": {
     "end_time": "2021-05-01T18:09:56.217066Z",
     "start_time": "2021-05-01T18:09:56.214481Z"
    }
   },
   "outputs": [],
   "source": [
    "os.chdir(\"Training_data/\")"
   ]
  },
  {
   "cell_type": "code",
   "execution_count": 17,
   "metadata": {
    "ExecuteTime": {
     "end_time": "2021-05-01T18:09:59.704482Z",
     "start_time": "2021-05-01T18:09:59.700823Z"
    }
   },
   "outputs": [],
   "source": [
    "mylist = [f for f in glob.glob(\"*.docx\")]"
   ]
  },
  {
   "cell_type": "markdown",
   "metadata": {},
   "source": [
    "## Iterating through the directory"
   ]
  },
  {
   "cell_type": "code",
   "execution_count": 18,
   "metadata": {
    "ExecuteTime": {
     "end_time": "2021-05-01T18:10:00.058564Z",
     "start_time": "2021-05-01T18:10:00.053987Z"
    },
    "scrolled": true
   },
   "outputs": [
    {
     "data": {
      "text/plain": [
       "['343492954-Rent-Agreement-3E.pdf.docx',\n",
       " '54945838-Rental-Agreement.pdf.docx',\n",
       " '288024755-Rental-Agreement-1.pdf.docx',\n",
       " '267005869-Rental-Tenant.pdf.docx',\n",
       " '62126501-Rental-Agreement.pdf.docx',\n",
       " '50070534-RENTAL-AGREEMENT (1).pdf.docx',\n",
       " '251798216-Rental-Agreement-Format1.pdf.docx',\n",
       " '116950326-December-2012-Rental-Agreement.pdf.docx',\n",
       " '54770958-Rental-Agreement.pdf.docx',\n",
       " '203615996-Rental-Agreement-Format.pdf.docx',\n",
       " '248636461-Rental-Agreement.pdf.docx',\n",
       " '195231682-This-RENTAL-AGREEMENT-is-Made-and-Executed-on-24th-Day-of-September.pdf.docx',\n",
       " '269760124-97646-41223-Rental-Agreement.pdf.docx',\n",
       " '249104436-House-Rental-Agreement.pdf.docx',\n",
       " '36199312-Rental-Agreement.pdf.docx',\n",
       " '99699504-Rental-Agreement-English-Model.pdf.docx',\n",
       " '323828497-Rental-Agreement-Micky.pdf.docx',\n",
       " '170499354-Anand-Nagar-Agreement.pdf.docx',\n",
       " '6683127-House-Rental-Contract-GERALDINE-GALINATO-v2-Page-1.pdf.docx',\n",
       " '56736420-Rental-Agreement.pdf.docx',\n",
       " '63793679-Rental-Agreement.pdf.docx',\n",
       " '77112358-Jaggu-Rental-Agreemnt.pdf.docx',\n",
       " '100999172-House-Rental-Agreement.pdf.docx',\n",
       " '392810415-RENT-AGREEMENT.pdf.docx',\n",
       " '175488575-House-Rental-Agreement.pdf.docx',\n",
       " '47854715-RENTAL-AGREEMENT.pdf.docx',\n",
       " '95980236-Rental-Agreement.pdf.docx',\n",
       " '294331674-Rental-Agreement.pdf.docx',\n",
       " '136441742-Rental-Agreement-Format.pdf.docx',\n",
       " '334060786-House-Rental-Agreement.pdf.docx',\n",
       " '6683129-House-Rental-Contract-Geraldine-Galinato-v2.pdf.docx',\n",
       " '216973836-Rental-Agreement-Sample.pdf.docx',\n",
       " '63057680-Rental-Agreement.pdf.docx',\n",
       " '62144960-Rental-Agreement.pdf.docx',\n",
       " '18325926-Rental-Agreement-1.pdf.docx',\n",
       " '269137702-Rental-Agreement.pdf.docx',\n",
       " '269135973-Udaya-Rental-Agreement.pdf.docx',\n",
       " '44737744-Maddireddy-Bhargava-Reddy-Rental-Agreement.pdf.docx',\n",
       " '308044452-Rental-Agreement.pdf.docx',\n",
       " '95421373-Agreement.pdf.docx',\n",
       " '46239065-Standard-Rental-Agreement-Rental-With-Performance-Fee.pdf.docx',\n",
       " '81655723-Rental-Agreement.pdf.docx',\n",
       " '142106117-Rental-Agreement.pdf.docx']"
      ]
     },
     "execution_count": 18,
     "metadata": {},
     "output_type": "execute_result"
    }
   ],
   "source": [
    "mylist"
   ]
  },
  {
   "cell_type": "code",
   "execution_count": 20,
   "metadata": {
    "ExecuteTime": {
     "end_time": "2021-05-01T18:10:41.433341Z",
     "start_time": "2021-05-01T18:10:41.429430Z"
    }
   },
   "outputs": [
    {
     "data": {
      "text/plain": [
       "'54945838-Rental-Agreement.pdf.docx'"
      ]
     },
     "execution_count": 20,
     "metadata": {},
     "output_type": "execute_result"
    }
   ],
   "source": [
    "mylist[1]"
   ]
  },
  {
   "cell_type": "markdown",
   "metadata": {},
   "source": [
    "## Function to extract the text from paragraphs"
   ]
  },
  {
   "cell_type": "code",
   "execution_count": 22,
   "metadata": {
    "ExecuteTime": {
     "end_time": "2021-05-01T18:13:53.300060Z",
     "start_time": "2021-05-01T18:13:53.296457Z"
    }
   },
   "outputs": [],
   "source": [
    "def getText(filename):\n",
    "    doc = docx.Document(filename)\n",
    "    fullText = []\n",
    "    for para in doc.paragraphs:\n",
    "        fullText.append(para.text)\n",
    "    return '\\n'.join(fullText)"
   ]
  },
  {
   "cell_type": "code",
   "execution_count": 25,
   "metadata": {
    "ExecuteTime": {
     "end_time": "2021-05-01T18:14:45.208186Z",
     "start_time": "2021-05-01T18:14:45.197820Z"
    },
    "scrolled": true
   },
   "outputs": [
    {
     "data": {
      "text/plain": [
       "\"\\n\\n\\n\\n\\n\\n\\n\\n\\n\\n\\n\\n\\n\\n\\n\\n\\n\\n\\n\\n\\n\\n\\n\\n\\n\\n\\n\\n\\n\\n\\n\\n\\n\\n\\n\\n\\n\\nRENTAL AGREEMENT\\nThis RENTAL AGREEMENT is made & executed on 20 April 2011 between: Mrs.Asha Ramesh &Mr.Ramesh.K.N. Residing at 1st Floor, 82A, Vysya Bank Colony, ShantiniketanLayout, Arakere Post, Bannerghatta Road, Bangalore-560076, henceforth calld the LESSOR (OWNERS), which term include their heirs, administrators and assignees of the ONE PART\\nAND\\nMrs.Sadasivuni Deepti & Mr.Sadasivuni Kiran native 53-38-20, KRM Colony, Maddilapalem, Vishakapatnam, AP530013 henceforth called the LESSEE (TENANT) which term shall mean and include their heirs, executors, administrators, legal representatives and assigns of the OTHER PART witnessed as follows:\\n\\nWHEREAS the LESSOR at the request of the LESSEE agreed to let out the entire 2nd floor\\tpremise except the\\nfront room, mentioned in the schedule below on a monthly rent of Rs.5500/-(Five thousand five hundred only}\\nThe LESSEE shall pay the monthly rent on or before 5th of every English calendarmonth.\\nThe LESSEE has deposited with the LESSOR a sum of Rs. 55,000/-(Rs. Fifty five thousand only) as Non Interest Bearing Security Deposit and the LESSOR have acknowledged with recept. The LESSOR will return the deposit to the LESSEES on the termination of rent agreement less dues if any.\\nThe rent agreement shall be in force for a period of 11 (months) from the date of Tenancy.\\nThe LESSEE shall pay the monthly electricity charges to the concerned authorities directly and keep a record. The LESSEE shall pay half of the water bill & Association Bill that comes on a monthly basis, to the LESSOR towards water &sewerage. Motor and electricity charges will be Rs. 100/month extra.\\nThe LESSEE shall maintain the cleanliness of the premise inside and outside on a daily basis, to take necessary timely action and maintain the premise well. LESSOR has the right to recover appropriate amount if there is loss/deterioration.\\nIt is hereby agreed that 2{Two} months' notice is required on either side for the termination of this Rental Agreement and all the keys &items returned as mentioned in the schedule below.\\nThe LESSEES will pay to the LESSOR 10% increment in rent on completion of 12 months stay from the date of this agreement.\\nThe LESSEE will pay to the LESSOR an amount appropriate if any damage / wear out caused to the premise including fittings electrical etc at the time of the tenancy / termination of the agreement.\\nThe LESSOR holds the right to terminate the agreement if the LESSEE fails to pay the rent regularly for consecutive period of 2 months or commits a breach of any terms herein and can take possession of the premise.\\nThe LESSEE shall use the premise for peaceful & residential purpose only and shall not do any alteration without the Consent of the LESSOR. Also the LESSEEE will not sublet, underlet, part let or part with the possession of the premise.\\nThe LESSEE& LESSOR both have retained a copy of this agreement.\\nSCHEDULE\\nThe premise is on the 2nd Floor on Site # 82A, Vysya Bank Colony, ShantiniketanLyt, Arakere Post, Bannerghatta Road, Bangalore 560 0076 and consists of one hall, one kitchen, one bedroom with shelf s,Bath Room with electric Geezer, one two wheeler parking at the ground floor, Overheadtanks, Sumps,. Complete with 3Kw AEH power electric & light fittings, glazed wall tiles in bath room, Granite Floors & Slabs in the kitchen.\\nLESSOR\\tLESSEE\\nASHARAMESH\\tSADASIVUNI DEEPTI\\nSADASHIVUNI KIRAN\""
      ]
     },
     "execution_count": 25,
     "metadata": {},
     "output_type": "execute_result"
    }
   ],
   "source": [
    "getText(mylist[1])"
   ]
  },
  {
   "cell_type": "markdown",
   "metadata": {},
   "source": [
    "## Metadata extractor (only meta information)"
   ]
  },
  {
   "cell_type": "code",
   "execution_count": 4,
   "metadata": {
    "ExecuteTime": {
     "end_time": "2021-05-01T17:18:23.273226Z",
     "start_time": "2021-05-01T17:18:23.210315Z"
    }
   },
   "outputs": [
    {
     "name": "stdout",
     "output_type": "stream",
     "text": [
      "[{'Title': b'Microsoft Word - 269135973-Udaya-Rental-Agreement.pdf.docx', 'Producer': b'macOS Version 10.15.7 (Build 19H524) Quartz PDFContext', 'Creator': b'Word', 'CreationDate': b\"D:20210501043846Z00'00'\", 'ModDate': b\"D:20210501043846Z00'00'\"}]\n"
     ]
    }
   ],
   "source": [
    "fp = open('PDFs/269135973-Udaya-Rental-Agreement.pdf.pdf', 'rb')\n",
    "parser = PDFParser(fp)\n",
    "doc = PDFDocument(parser)\n",
    "\n",
    "print(doc.info) "
   ]
  },
  {
   "cell_type": "markdown",
   "metadata": {},
   "source": [
    "## There are two problems to solve for what we're trying to do. The first is iterating over all the block-level elements in the document, in document order. The second is iterating over all the inline elements within each block element, in the order they appear."
   ]
  },
  {
   "cell_type": "code",
   "execution_count": 28,
   "metadata": {
    "ExecuteTime": {
     "end_time": "2021-05-02T06:24:43.235195Z",
     "start_time": "2021-05-02T06:24:43.232822Z"
    }
   },
   "outputs": [],
   "source": [
    "path = 'PDFs/'"
   ]
  },
  {
   "cell_type": "code",
   "execution_count": 43,
   "metadata": {
    "ExecuteTime": {
     "end_time": "2021-05-01T17:51:18.869752Z",
     "start_time": "2021-05-01T17:51:18.866149Z"
    }
   },
   "outputs": [],
   "source": [
    "ext = \"*.pdf\"\n",
    "# Find all the files with that extension\n",
    "files = []\n",
    "for dirpath, dirnames, filenames in os.walk(path):\n",
    "    files += glob.glob(os.path.join(dirpath, ext))"
   ]
  },
  {
   "cell_type": "code",
   "execution_count": 33,
   "metadata": {
    "ExecuteTime": {
     "end_time": "2021-05-02T06:25:18.009697Z",
     "start_time": "2021-05-02T06:25:18.007059Z"
    }
   },
   "outputs": [],
   "source": [
    "os.chdir(\"/Users/sahmehta/Downloads/Zycus/PDFs\")"
   ]
  },
  {
   "cell_type": "code",
   "execution_count": 35,
   "metadata": {
    "ExecuteTime": {
     "end_time": "2021-05-02T06:25:44.089807Z",
     "start_time": "2021-05-02T06:25:44.087217Z"
    }
   },
   "outputs": [],
   "source": [
    "path = os.getcwd()"
   ]
  },
  {
   "cell_type": "code",
   "execution_count": 36,
   "metadata": {
    "ExecuteTime": {
     "end_time": "2021-05-02T06:25:44.441011Z",
     "start_time": "2021-05-02T06:25:44.432155Z"
    },
    "scrolled": true
   },
   "outputs": [
    {
     "ename": "IsADirectoryError",
     "evalue": "[Errno 21] Is a directory: '/Users/sahmehta/Downloads/Zycus/PDFs'",
     "output_type": "error",
     "traceback": [
      "\u001b[0;31m---------------------------------------------------------------------------\u001b[0m",
      "\u001b[0;31mIsADirectoryError\u001b[0m                         Traceback (most recent call last)",
      "\u001b[0;32m<ipython-input-36-e8d11278943e>\u001b[0m in \u001b[0;36m<module>\u001b[0;34m\u001b[0m\n\u001b[0;32m----> 1\u001b[0;31m \u001b[0;32mwith\u001b[0m \u001b[0mpdfplumber\u001b[0m\u001b[0;34m.\u001b[0m\u001b[0mopen\u001b[0m\u001b[0;34m(\u001b[0m\u001b[0mpath\u001b[0m\u001b[0;34m)\u001b[0m \u001b[0;32mas\u001b[0m \u001b[0mpdf\u001b[0m\u001b[0;34m:\u001b[0m\u001b[0;34m\u001b[0m\u001b[0;34m\u001b[0m\u001b[0m\n\u001b[0m\u001b[1;32m      2\u001b[0m     \u001b[0;32mfor\u001b[0m  \u001b[0mpage\u001b[0m \u001b[0;32min\u001b[0m \u001b[0mpdf\u001b[0m\u001b[0;34m.\u001b[0m\u001b[0mpages\u001b[0m\u001b[0;34m:\u001b[0m\u001b[0;34m\u001b[0m\u001b[0;34m\u001b[0m\u001b[0m\n\u001b[1;32m      3\u001b[0m         \u001b[0mprint\u001b[0m\u001b[0;34m(\u001b[0m\u001b[0mpage\u001b[0m\u001b[0;34m)\u001b[0m\u001b[0;34m\u001b[0m\u001b[0;34m\u001b[0m\u001b[0m\n\u001b[1;32m      4\u001b[0m \u001b[0;31m#         print(page.extract_text())\u001b[0m\u001b[0;34m\u001b[0m\u001b[0;34m\u001b[0m\u001b[0;34m\u001b[0m\u001b[0m\n",
      "\u001b[0;32m/opt/anaconda3/lib/python3.8/site-packages/pdfplumber/pdf.py\u001b[0m in \u001b[0;36mopen\u001b[0;34m(cls, path_or_fp, **kwargs)\u001b[0m\n\u001b[1;32m     53\u001b[0m     \u001b[0;32mdef\u001b[0m \u001b[0mopen\u001b[0m\u001b[0;34m(\u001b[0m\u001b[0mcls\u001b[0m\u001b[0;34m,\u001b[0m \u001b[0mpath_or_fp\u001b[0m\u001b[0;34m,\u001b[0m \u001b[0;34m**\u001b[0m\u001b[0mkwargs\u001b[0m\u001b[0;34m)\u001b[0m\u001b[0;34m:\u001b[0m\u001b[0;34m\u001b[0m\u001b[0;34m\u001b[0m\u001b[0m\n\u001b[1;32m     54\u001b[0m         \u001b[0;32mif\u001b[0m \u001b[0misinstance\u001b[0m\u001b[0;34m(\u001b[0m\u001b[0mpath_or_fp\u001b[0m\u001b[0;34m,\u001b[0m \u001b[0;34m(\u001b[0m\u001b[0mstr\u001b[0m\u001b[0;34m,\u001b[0m \u001b[0mpathlib\u001b[0m\u001b[0;34m.\u001b[0m\u001b[0mPath\u001b[0m\u001b[0;34m)\u001b[0m\u001b[0;34m)\u001b[0m\u001b[0;34m:\u001b[0m\u001b[0;34m\u001b[0m\u001b[0;34m\u001b[0m\u001b[0m\n\u001b[0;32m---> 55\u001b[0;31m             \u001b[0mfp\u001b[0m \u001b[0;34m=\u001b[0m \u001b[0mopen\u001b[0m\u001b[0;34m(\u001b[0m\u001b[0mpath_or_fp\u001b[0m\u001b[0;34m,\u001b[0m \u001b[0;34m\"rb\"\u001b[0m\u001b[0;34m)\u001b[0m\u001b[0;34m\u001b[0m\u001b[0;34m\u001b[0m\u001b[0m\n\u001b[0m\u001b[1;32m     56\u001b[0m             \u001b[0minst\u001b[0m \u001b[0;34m=\u001b[0m \u001b[0mcls\u001b[0m\u001b[0;34m(\u001b[0m\u001b[0mfp\u001b[0m\u001b[0;34m,\u001b[0m \u001b[0;34m**\u001b[0m\u001b[0mkwargs\u001b[0m\u001b[0;34m)\u001b[0m\u001b[0;34m\u001b[0m\u001b[0;34m\u001b[0m\u001b[0m\n\u001b[1;32m     57\u001b[0m             \u001b[0minst\u001b[0m\u001b[0;34m.\u001b[0m\u001b[0mclose_file\u001b[0m \u001b[0;34m=\u001b[0m \u001b[0mfp\u001b[0m\u001b[0;34m.\u001b[0m\u001b[0mclose\u001b[0m\u001b[0;34m\u001b[0m\u001b[0;34m\u001b[0m\u001b[0m\n",
      "\u001b[0;31mIsADirectoryError\u001b[0m: [Errno 21] Is a directory: '/Users/sahmehta/Downloads/Zycus/PDFs'"
     ]
    }
   ],
   "source": [
    "with pdfplumber.open(path) as pdf:\n",
    "    for  page in pdf.pages:\n",
    "        print(page)\n",
    "#         print(page.extract_text())"
   ]
  },
  {
   "cell_type": "code",
   "execution_count": 11,
   "metadata": {
    "ExecuteTime": {
     "end_time": "2021-05-01T17:28:17.904846Z",
     "start_time": "2021-05-01T17:28:16.932182Z"
    },
    "scrolled": true
   },
   "outputs": [
    {
     "name": "stdout",
     "output_type": "stream",
     "text": [
      "                                             filename  \\\n",
      "0             PDFs/308044452-Rental-Agreement.pdf.pdf   \n",
      "1   PDFs/99699504-Rental-Agreement-English-Model.p...   \n",
      "2       PDFs/334060786-House-Rental-Agreement.pdf.pdf   \n",
      "3   PDFs/6683127-House-Rental-Contract-GERALDINE-G...   \n",
      "4     PDFs/251798216-Rental-Agreement-Format1.pdf.pdf   \n",
      "5          PDFs/50070534-RENTAL-AGREEMENT (1).pdf.pdf   \n",
      "6             PDFs/248636461-Rental-Agreement.pdf.pdf   \n",
      "7              PDFs/54945838-Rental-Agreement.pdf.pdf   \n",
      "8         PDFs/77112358-Jaggu-Rental-Agreemnt.pdf.pdf   \n",
      "9              PDFs/62144960-Rental-Agreement.pdf.pdf   \n",
      "10           PDFs/18325926-Rental-Agreement-1.pdf.pdf   \n",
      "11  PDFs/195231682-This-RENTAL-AGREEMENT-is-Made-a...   \n",
      "12                    PDFs/95421373-Agreement.pdf.pdf   \n",
      "13           PDFs/343492954-Rent-Agreement-3E.pdf.pdf   \n",
      "14             PDFs/63057680-Rental-Agreement.pdf.pdf   \n",
      "15      PDFs/323828497-Rental-Agreement-Micky.pdf.pdf   \n",
      "16             PDFs/62126501-Rental-Agreement.pdf.pdf   \n",
      "17     PDFs/216973836-Rental-Agreement-Sample.pdf.pdf   \n",
      "18             PDFs/47854715-RENTAL-AGREEMENT.pdf.pdf   \n",
      "19              PDFs/392810415-RENT-AGREEMENT.pdf.pdf   \n",
      "20  PDFs/269760124-97646-41223-Rental-Agreement.pd...   \n",
      "21            PDFs/142106117-Rental-Agreement.pdf.pdf   \n",
      "22             PDFs/56736420-Rental-Agreement.pdf.pdf   \n",
      "23            PDFs/269137702-Rental-Agreement.pdf.pdf   \n",
      "24            PDFs/294331674-Rental-Agreement.pdf.pdf   \n",
      "25               PDFs/267005869-Rental-Tenant.pdf.pdf   \n",
      "26     PDFs/203615996-Rental-Agreement-Format.pdf.pdf   \n",
      "27  PDFs/44737744-Maddireddy-Bhargava-Reddy-Rental...   \n",
      "28             PDFs/36199312-Rental-Agreement.pdf.pdf   \n",
      "29      PDFs/269135973-Udaya-Rental-Agreement.pdf.pdf   \n",
      "30             PDFs/63793679-Rental-Agreement.pdf.pdf   \n",
      "31  PDFs/6683129-House-Rental-Contract-Geraldine-G...   \n",
      "32     PDFs/136441742-Rental-Agreement-Format.pdf.pdf   \n",
      "33      PDFs/175488575-House-Rental-Agreement.pdf.pdf   \n",
      "34             PDFs/81655723-Rental-Agreement.pdf.pdf   \n",
      "35  PDFs/116950326-December-2012-Rental-Agreement....   \n",
      "36      PDFs/100999172-House-Rental-Agreement.pdf.pdf   \n",
      "37      PDFs/249104436-House-Rental-Agreement.pdf.pdf   \n",
      "38             PDFs/95980236-Rental-Agreement.pdf.pdf   \n",
      "39             PDFs/54770958-Rental-Agreement.pdf.pdf   \n",
      "40  PDFs/46239065-Standard-Rental-Agreement-Rental...   \n",
      "41          PDFs/288024755-Rental-Agreement-1.pdf.pdf   \n",
      "42       PDFs/170499354-Anand-Nagar-Agreement.pdf.pdf   \n",
      "\n",
      "                                                 text  \n",
      "0   \\n\\n\\n\\n\\n\\n\\n\\n\\n\\n\\n\\n\\n\\n\\n\\n\\n\\n\\n\\n\\n\\n\\n...  \n",
      "1   \\n\\n\\n\\n\\n\\n\\n\\n\\n\\n\\n\\n\\n\\n\\n\\n\\n\\n\\n\\n\\n\\n\\n...  \n",
      "2   \\n\\n\\n\\n\\n\\n\\n\\n\\n\\n\\n\\n\\n\\n\\n\\n\\n\\n\\n\\n\\n\\n\\n...  \n",
      "3   \\n\\n\\n\\n\\n\\n\\n\\n\\n\\n\\n\\n\\n\\n\\n\\n\\n\\n\\n\\n\\n\\n\\n...  \n",
      "4   \\n\\n\\n\\n\\n\\n\\n\\n\\n\\n\\n\\n\\n\\n\\n\\n\\n\\n\\n\\n\\n\\n\\n...  \n",
      "5   \\n\\n\\n\\n\\n\\n\\n\\n\\n\\n\\n\\n\\n\\n\\n\\n\\n\\n\\n\\n\\n\\n\\n...  \n",
      "6   \\n\\n\\n\\n\\n\\n\\n\\n\\n\\n\\n\\n\\n\\n\\n\\n\\n\\n\\n\\n\\n\\n\\n...  \n",
      "7   \\n\\n\\n\\n\\n\\n\\n\\n\\n\\n\\n\\n\\n\\n\\n\\n\\n\\n\\n\\n\\n\\n\\n...  \n",
      "8   \\n\\n\\n\\n\\n\\n\\n\\n\\n\\n\\n\\n\\n\\n\\n\\n\\n\\n\\n\\n\\n\\n\\n...  \n",
      "9   \\n\\n\\n\\n\\n\\n\\n\\n\\n\\n\\n\\n\\n\\n\\n\\n\\n\\n\\n\\n\\n\\n\\n...  \n",
      "10  \\n\\n\\n\\n\\n\\n\\n\\n\\n\\n\\n\\n\\n\\n\\n\\n\\n\\n\\n\\n\\n\\n\\n...  \n",
      "11  \\n\\n\\n\\n\\n\\n\\n\\n\\n\\n\\n\\n\\n\\n\\n\\n\\n\\n\\n\\n\\n\\n\\n...  \n",
      "12  \\n\\n\\n\\n\\n\\n\\n\\n\\n\\n\\n\\n\\n\\n\\n\\n\\n\\n\\n\\n\\n\\n\\n...  \n",
      "13  \\n\\n\\n\\n\\n\\n\\n\\n\\n\\n\\n\\n\\n\\n\\n\\n\\n\\n\\n\\n\\n\\n\\n...  \n",
      "14  \\n\\n\\n\\n\\n\\n\\n\\n\\n\\n\\n\\n\\n\\n\\n\\n\\n\\n\\n\\n\\n\\n\\n...  \n",
      "15  \\n\\n\\n\\n\\n\\n\\n\\n\\n\\n\\n\\n\\n\\n\\n\\n\\n\\n\\n\\n\\n\\n\\n...  \n",
      "16  \\n\\n\\n\\n\\n\\n\\n\\n\\n\\n\\n\\n\\n\\n\\n\\n\\n\\n\\n\\n\\n\\n\\n...  \n",
      "17  \\n\\n\\n\\n\\n\\n\\n\\n\\n\\n\\n\\n\\n\\n\\n\\n\\n\\n\\n\\n\\n\\n\\n...  \n",
      "18  \\n\\n\\n\\n\\n\\n\\n\\n\\n\\n\\n\\n\\n\\n\\n\\n\\n\\n\\n\\n\\n\\n\\n...  \n",
      "19  \\n\\n\\n\\n\\n\\n\\n\\n\\n\\n\\n\\n\\n\\n\\n\\n\\n\\n\\n\\n\\n\\n\\n...  \n",
      "20  \\n\\n\\n\\n\\n\\n\\n\\n\\n\\n\\n\\n\\n\\n\\n\\n\\n\\n\\n\\n\\n\\n\\n...  \n",
      "21  \\n\\n\\n\\n\\n\\n\\n\\n\\n\\n\\n\\n\\n\\n\\n\\n\\n\\n\\n\\n\\n\\n\\n...  \n",
      "22  \\n\\n\\n\\n\\n\\n\\n\\n\\n\\n\\n\\n\\n\\n\\n\\n\\n\\n\\n\\n\\n\\n\\n...  \n",
      "23  \\n\\n\\n\\n\\n\\n\\n\\n\\n\\n\\n\\n\\n\\n\\n\\n\\n\\n\\n\\n\\n\\n\\n...  \n",
      "24  \\n\\n\\n\\n\\n\\n\\n\\n\\n\\n\\n\\n\\n\\n\\n\\n\\n\\n\\n\\n\\n\\n\\n...  \n",
      "25  \\n\\n\\n\\n\\n\\n\\n\\n\\n\\n\\n\\n\\n\\n\\n\\n\\n\\n\\n\\n\\n\\n\\n...  \n",
      "26  \\n\\n\\n\\n\\n\\n\\n\\n\\n\\n\\n\\n\\n\\n\\n\\n\\n\\n\\n\\n\\n\\n\\n...  \n",
      "27  \\n\\n\\n\\n\\n\\n\\n\\n\\n\\n\\n\\n\\n\\n\\n\\n\\n\\n\\n\\n\\n\\n\\n...  \n",
      "28  \\n\\n\\n\\n\\n\\n\\n\\n\\n\\n\\n\\n\\n\\n\\n\\n\\n\\n\\n\\n\\n\\n\\n...  \n",
      "29  \\n\\n\\n\\n\\n\\n\\n\\n\\n\\n\\n\\n\\n\\n\\n\\n\\n\\n\\n\\n\\n\\n\\n...  \n",
      "30  \\n\\n\\n\\n\\n\\n\\n\\n\\n\\n\\n\\n\\n\\n\\n\\n\\n\\n\\n\\n\\n\\n\\n...  \n",
      "31  \\n\\n\\n\\n\\n\\n\\n\\n\\n\\n\\n\\n\\n\\n\\n\\n\\n\\n\\n\\n\\n\\n\\n...  \n",
      "32  \\n\\n\\n\\n\\n\\n\\n\\n\\n\\n\\n\\n\\n\\n\\n\\n\\n\\n\\n\\n\\n\\n\\n...  \n",
      "33  \\n\\n\\n\\n\\n\\n\\n\\n\\n\\n\\n\\n\\n\\n\\n\\n\\n\\n\\n\\n\\n\\n\\n...  \n",
      "34  \\n\\n\\n\\n\\n\\n\\n\\n\\n\\n\\n\\n\\n\\n\\n\\n\\n\\n\\n\\n\\n\\n\\n...  \n",
      "35  \\n\\n\\n\\n\\n\\n\\n\\n\\n\\n\\n\\n\\n\\n\\n\\n\\n\\n\\n\\n\\n\\n\\n...  \n",
      "36  \\n\\n\\n\\n\\n\\n\\n\\n\\n\\n\\n\\n\\n\\n\\n\\n\\n\\n\\n\\n\\n\\n\\n...  \n",
      "37  \\n\\n\\n\\n\\n\\n\\n\\n\\n\\n\\n\\n\\n\\n\\n\\n\\n\\n\\n\\n\\n\\n\\n...  \n",
      "38  \\n\\n\\n\\n\\n\\n\\n\\n\\n\\n\\n\\n\\n\\n\\n\\n\\n\\n\\n\\n\\n\\n\\n...  \n",
      "39  \\n\\n\\n\\n\\n\\n\\n\\n\\n\\n\\n\\n\\n\\n\\n\\n\\n\\n\\n\\n\\n\\n\\n...  \n",
      "40  \\n\\n\\n\\n\\n\\n\\n\\n\\n\\n\\n\\n\\n\\n\\n\\n\\n\\n\\n\\n\\n\\n\\n...  \n",
      "41  \\n\\n\\n\\n\\n\\n\\n\\n\\n\\n\\n\\n\\n\\n\\n\\n\\n\\n\\n\\n\\n\\n\\n...  \n",
      "42  \\n\\n\\n\\n\\n\\n\\n\\n\\n\\n\\n\\n\\n\\n\\n\\n\\n\\n\\n\\n\\n\\n\\n...  \n"
     ]
    }
   ],
   "source": [
    "import os\n",
    "import glob\n",
    "from tika import parser\n",
    "from pandas import DataFrame\n",
    "\n",
    "# What file extension to find, and where to look from\n",
    "ext = \"*.pdf\"\n",
    "PATH = \"PDFs/\"\n",
    "\n",
    "# Find all the files with that extension\n",
    "files = []\n",
    "for dirpath, dirnames, filenames in os.walk(PATH):\n",
    "    files += glob.glob(os.path.join(dirpath, ext))\n",
    "\n",
    "# Create a Pandas Dataframe to hold the filenames and the text\n",
    "df = DataFrame(columns=(\"filename\", \"text\"))\n",
    "\n",
    "# Process each file in turn, parsing with Tika and storing in the dataframe\n",
    "for idx, filename in enumerate(files):\n",
    "    data = parser.from_file(filename)\n",
    "    text = data[\"content\"]\n",
    "    df.loc[idx] = [filename, text]\n",
    "\n",
    "# For debugging, print what we found\n",
    "print(df)"
   ]
  },
  {
   "cell_type": "code",
   "execution_count": 45,
   "metadata": {
    "ExecuteTime": {
     "end_time": "2021-05-01T17:52:23.448532Z",
     "start_time": "2021-05-01T17:52:23.444426Z"
    },
    "scrolled": true
   },
   "outputs": [
    {
     "data": {
      "text/plain": [
       "\"Microsoft Word - 308044452-Rental-Agreement.pdf.docx\\n\\n\\nRENTAL AGREEMENT \\n\\nThis rental agreement is made and executed on this on the 27th day January 2010 by and \\nbetween: \\n\\nSRI.N.VIJAY KUMAR, \\nAged about 51 years , \\nNo .9.18th Main,5th Cross, \\nBTM 1st Stage, Thavarekere post, \\nBanaglore-566029. \\n\\nHereinafter called the ' L E S S O  R/O W N E R' of the one part, and \\n\\nSHRI.DURGA SHANKAR GUPTA, working at \\nTVS COMPNAY LIMITED \\nPermanent Address: P.B NO 4,HARITA, \\nHOSUR-635 109, \\n3/230 ,vidhichanda TAMIL NADU \\n,INDIA. \\nAuraiya uttar Pradesh \\nPin-206122 \\n\\nHereinafter called the ' L E S S E  E/T E N A N T' of the other part. \\n\\nWhereas the terms the lessor and lessee shall mean and include their respective heirs ,legal \\nrepresentatives and assigns.\\n\\n\\n\\nWhereas the lessor in the sole and absolute owner of the schedule property described \\nhereunder and whereas the lessor is intend to let out the said house to the lessee on the \\nrental basis for a monthly rent of Rs 9 500/-( Rupees nine thousand five hundred only) \\n\\nAnd whereas lessee is willing to take the below house and agreeing to pay the rent to the \\nlessor regularly .if the tenant vacate with in 11 month he has to pay one month rent to owner. \\n\\nThis lease executed for the period of 11 month from the date of but it \\nmay extended by mutual consent of the of the lessor and lessee .The rent will be enhanced \\nby 5 % once in 11 month on the existing rent. \\n\\nWhereas the lessee has to paid a sum of Rs. Advance to the lessor \\nbefore the following witness and acknowledge the receipt of the same, this amount will be \\nrefunded to the lessee by the lessor at the time of vacating the house and this amount will \\nnot carry any interest. \\n\\nWhereas the lessee shall not sub-let/under -let the said house to any person without written \\npermission from the lessor .on case the lessee does not pay the said rent to the lessor \\ncontinuously three months the lessor is at liberty to evict the lessee from the premise. \\n\\nWhereas the lessee hereby agree to pay the electricity charges separate to the concerned \\nauthority without arrears at the time of vacating the premises the same will be deducted from \\nthe advance amount. \\n\\nWhereas the lessee hereby agreed to pay the said rent to lessor on or before 5th of every \\nEnglish calendar month.\\n\\n\\n\\nWhereas either party should give 1 month prior notice for termination of this lease. \\n\\nWhereas the lessee shall use the schedule house for residential purpose only. \\nNot for any purpose. \\n\\nWhereas the lessee hereby agreed to keep the premises/fittings in good and tenantable \\ncondition without damages ,if any damages caused by lessee, the same will replaced by the \\nlessee or the the said amount will be deducted from the advance. \\n\\nWhereas the lessee shall not make any additional alteration to the schedule premises. \\n\\nWhereas the lessee shall not allow the lessor or his legal representative in the schedule \\npremises under the lease for inspection schedule premises at all reasonable times. \\n\\nWhereas as the lessee shall not store and keep any highly inflammable explosive materials \\nendangering life and property in the schedule property and neighbourhood. \\n\\nWhereas at the time of the vacating the leased portion of the lessee shall not ask or demand \\nany compensation from the lessor at any cost and shall hand over the vacant possession of \\nthe house to the lessor party only. \\n\\nWhereas the lessee hereby agreed to re-paint the schedule premises at the time of vacating \\n,if fails to do so, paint charges will be deducted by the lessor from the advance amount.\\n\\n\\n\\n2. \\n\\n \\n\\nAll the piece and parcels of the property bearing ground floor, premises situated at No.9 \\n18th Main, 5th Cross, BTM 1st Stage, Thavaerekere post, Bangalore- 560029. \\n\\nConsisting of: one hall, kitchen one bedroom, \\n\\nFittings: \\n\\nIN WITNESS WHEREOF the above named parties lessor and lessee have \\nAffixed their signature to this rental agreement made on the day, month and year first \\nwritten at Bangalore. \\n\\nWITNESSES: \\n\\n1. \\nL E S S O R  \\n\\nL E S S E E  \""
      ]
     },
     "execution_count": 45,
     "metadata": {},
     "output_type": "execute_result"
    }
   ],
   "source": [
    "df[\"text\"].iloc[0].strip(\"\\n\")"
   ]
  },
  {
   "cell_type": "code",
   "execution_count": null,
   "metadata": {},
   "outputs": [],
   "source": []
  },
  {
   "cell_type": "code",
   "execution_count": null,
   "metadata": {},
   "outputs": [],
   "source": [
    "Train = pd.read_csv(\"Tr\")"
   ]
  },
  {
   "cell_type": "code",
   "execution_count": null,
   "metadata": {},
   "outputs": [],
   "source": []
  }
 ],
 "metadata": {
  "kernelspec": {
   "display_name": "Python 3",
   "language": "python",
   "name": "python3"
  },
  "language_info": {
   "codemirror_mode": {
    "name": "ipython",
    "version": 3
   },
   "file_extension": ".py",
   "mimetype": "text/x-python",
   "name": "python",
   "nbconvert_exporter": "python",
   "pygments_lexer": "ipython3",
   "version": "3.8.3"
  },
  "varInspector": {
   "cols": {
    "lenName": 16,
    "lenType": 16,
    "lenVar": 40
   },
   "kernels_config": {
    "python": {
     "delete_cmd_postfix": "",
     "delete_cmd_prefix": "del ",
     "library": "var_list.py",
     "varRefreshCmd": "print(var_dic_list())"
    },
    "r": {
     "delete_cmd_postfix": ") ",
     "delete_cmd_prefix": "rm(",
     "library": "var_list.r",
     "varRefreshCmd": "cat(var_dic_list()) "
    }
   },
   "types_to_exclude": [
    "module",
    "function",
    "builtin_function_or_method",
    "instance",
    "_Feature"
   ],
   "window_display": false
  }
 },
 "nbformat": 4,
 "nbformat_minor": 4
}
