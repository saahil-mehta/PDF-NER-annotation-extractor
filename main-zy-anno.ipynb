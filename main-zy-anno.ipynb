{
 "cells": [
  {
   "cell_type": "markdown",
   "metadata": {},
   "source": [
    "## Importing libraries"
   ]
  },
  {
   "cell_type": "code",
   "execution_count": 1,
   "metadata": {
    "ExecuteTime": {
     "end_time": "2021-05-04T07:01:44.581650Z",
     "start_time": "2021-05-04T07:01:43.786428Z"
    }
   },
   "outputs": [],
   "source": [
    "import pandas as pd\n",
    "from docx2pdf import convert\n",
    "import pdfminer\n",
    "from pdfminer.pdfparser import PDFParser\n",
    "from pdfminer.pdfdocument import PDFDocument\n",
    "import pdfplumber\n",
    "from docx import *\n",
    "import pandas as pd\n",
    "import re\n",
    "from spacy_annotator.pandas_annotations import annotate as pd_annotate\n",
    "import glob\n",
    "import os"
   ]
  },
  {
   "cell_type": "markdown",
   "metadata": {},
   "source": [
    "## Setting paths for input and output"
   ]
  },
  {
   "cell_type": "code",
   "execution_count": 5,
   "metadata": {
    "ExecuteTime": {
     "end_time": "2021-05-04T07:02:04.550478Z",
     "start_time": "2021-05-04T07:02:04.548119Z"
    }
   },
   "outputs": [],
   "source": [
    "convert(\"Training_data/\", output_path=\"PDFs/\")"
   ]
  },
  {
   "cell_type": "code",
   "execution_count": 7,
   "metadata": {
    "ExecuteTime": {
     "end_time": "2021-05-04T07:02:27.721643Z",
     "start_time": "2021-05-04T07:02:27.718715Z"
    }
   },
   "outputs": [],
   "source": [
    "default_directory = os.getcwd()"
   ]
  },
  {
   "cell_type": "code",
   "execution_count": 8,
   "metadata": {
    "ExecuteTime": {
     "end_time": "2021-05-04T07:02:30.930274Z",
     "start_time": "2021-05-04T07:02:30.927364Z"
    }
   },
   "outputs": [],
   "source": [
    "os.chdir(\"Training_data/\")"
   ]
  },
  {
   "cell_type": "markdown",
   "metadata": {},
   "source": [
    "## Iterating through the directory"
   ]
  },
  {
   "cell_type": "code",
   "execution_count": 150,
   "metadata": {
    "ExecuteTime": {
     "end_time": "2021-05-04T08:39:14.833272Z",
     "start_time": "2021-05-04T08:39:14.829943Z"
    }
   },
   "outputs": [],
   "source": [
    "mylist = [f for f in glob.glob(\"*.docx\")]"
   ]
  },
  {
   "cell_type": "code",
   "execution_count": 151,
   "metadata": {
    "ExecuteTime": {
     "end_time": "2021-05-04T08:39:15.092846Z",
     "start_time": "2021-05-04T08:39:15.088481Z"
    },
    "scrolled": true
   },
   "outputs": [
    {
     "data": {
      "text/plain": [
       "['343492954-Rent-Agreement-3E.pdf.docx',\n",
       " '54945838-Rental-Agreement.pdf.docx',\n",
       " '288024755-Rental-Agreement-1.pdf.docx',\n",
       " '267005869-Rental-Tenant.pdf.docx',\n",
       " '62126501-Rental-Agreement.pdf.docx',\n",
       " '50070534-RENTAL-AGREEMENT (1).pdf.docx',\n",
       " '251798216-Rental-Agreement-Format1.pdf.docx',\n",
       " '116950326-December-2012-Rental-Agreement.pdf.docx',\n",
       " '54770958-Rental-Agreement.pdf.docx',\n",
       " '203615996-Rental-Agreement-Format.pdf.docx',\n",
       " '248636461-Rental-Agreement.pdf.docx',\n",
       " '195231682-This-RENTAL-AGREEMENT-is-Made-and-Executed-on-24th-Day-of-September.pdf.docx',\n",
       " '269760124-97646-41223-Rental-Agreement.pdf.docx',\n",
       " '249104436-House-Rental-Agreement.pdf.docx',\n",
       " '36199312-Rental-Agreement.pdf.docx',\n",
       " '99699504-Rental-Agreement-English-Model.pdf.docx',\n",
       " '323828497-Rental-Agreement-Micky.pdf.docx',\n",
       " '170499354-Anand-Nagar-Agreement.pdf.docx',\n",
       " '6683127-House-Rental-Contract-GERALDINE-GALINATO-v2-Page-1.pdf.docx',\n",
       " '56736420-Rental-Agreement.pdf.docx',\n",
       " '63793679-Rental-Agreement.pdf.docx',\n",
       " '77112358-Jaggu-Rental-Agreemnt.pdf.docx',\n",
       " '100999172-House-Rental-Agreement.pdf.docx',\n",
       " '392810415-RENT-AGREEMENT.pdf.docx',\n",
       " '175488575-House-Rental-Agreement.pdf.docx',\n",
       " '47854715-RENTAL-AGREEMENT.pdf.docx',\n",
       " '95980236-Rental-Agreement.pdf.docx',\n",
       " '294331674-Rental-Agreement.pdf.docx',\n",
       " '136441742-Rental-Agreement-Format.pdf.docx',\n",
       " '334060786-House-Rental-Agreement.pdf.docx',\n",
       " '6683129-House-Rental-Contract-Geraldine-Galinato-v2.pdf.docx',\n",
       " '216973836-Rental-Agreement-Sample.pdf.docx',\n",
       " '63057680-Rental-Agreement.pdf.docx',\n",
       " '62144960-Rental-Agreement.pdf.docx',\n",
       " '18325926-Rental-Agreement-1.pdf.docx',\n",
       " '269137702-Rental-Agreement.pdf.docx',\n",
       " '269135973-Udaya-Rental-Agreement.pdf.docx',\n",
       " '44737744-Maddireddy-Bhargava-Reddy-Rental-Agreement.pdf.docx',\n",
       " '308044452-Rental-Agreement.pdf.docx',\n",
       " '95421373-Agreement.pdf.docx',\n",
       " '46239065-Standard-Rental-Agreement-Rental-With-Performance-Fee.pdf.docx',\n",
       " '81655723-Rental-Agreement.pdf.docx',\n",
       " '142106117-Rental-Agreement.pdf.docx']"
      ]
     },
     "execution_count": 151,
     "metadata": {},
     "output_type": "execute_result"
    }
   ],
   "source": [
    "mylist"
   ]
  },
  {
   "cell_type": "markdown",
   "metadata": {},
   "source": [
    "## Test function to extract data from a file. This can later be scaled up to work on each file in directory."
   ]
  },
  {
   "cell_type": "code",
   "execution_count": 12,
   "metadata": {
    "ExecuteTime": {
     "end_time": "2021-05-04T07:02:36.647158Z",
     "start_time": "2021-05-04T07:02:36.643023Z"
    }
   },
   "outputs": [],
   "source": [
    "def getText(filename):\n",
    "    doc = docx.Document(filename)\n",
    "    fullText = []\n",
    "    for para in doc.paragraphs:\n",
    "        fullText.append(para.text)\n",
    "    return '\\n'.join(fullText)"
   ]
  },
  {
   "cell_type": "code",
   "execution_count": 100,
   "metadata": {
    "ExecuteTime": {
     "end_time": "2021-05-04T08:15:12.838114Z",
     "start_time": "2021-05-04T08:15:12.829722Z"
    },
    "scrolled": true
   },
   "outputs": [
    {
     "data": {
      "text/plain": [
       "['\\n\\n\\n\\n\\n\\n\\n\\n\\n\\n\\n\\n\\n\\n\\n\\n\\n\\n\\n\\n\\n\\n\\n\\n\\n\\n\\n\\n\\n\\n\\n\\n\\n\\nRENTAL AGREEMENT\\nTHIS DEED OF RENTAL AGREEMENT executed at Chennai this 19th day of August 2013 between:\\nMrs. M. Geetha, W/o. V. Manoharan, aged about 53 years, residing at No.62-D, Saravana Flats, 1st Floor, Pinagapani Street, Devaki Nagar, Kundrathur, Chennai-600 069. Hereinafter called the owner (Which expression shall, wherever the context so requires, be deemed to mean and include her legal heirs, executors, administrators and assignees) of the one part.\\nAND\\nTo and in favour of M/s. Siruvani Traders Private Limited Represented by Mr. J. L. Saravana, aged about 33 years S/o M S Jambulingam, residing at No. 13/5, Janakiraman Street, Muthurangam Block, Jafferkhanpet, Ashok Nagar, Chennai - 600 083, hereinafter called the tenant (which expression shall, wherever the context so requires be deemed to mean and include his successors- in- interest and assignees) of the other part witnesses as follows:\\n-2-\\nWhereas Mrs. M. Geetha is the absolute owner of the property at No.62-D, Saravana Flats, 1st Floor, Pinagapani Street, Devaki Nagar, Kundrathur, Chennai - 600 069 measuring 250 sq.ft and in possession and enjoyment of the same.\\nWhereas the tenant has approached the owner to take on rent the First Floor premises of the building referred in the schedule hereunder for running their business activities and the owner has also agreed for the same.\\nWHEREAS the parties herein mentioned felt expedient to reduce the terms and conditions of the rental agreement into writing.\\nTHIS RENTAL AGREEMENT WITNESSETH AS FOLLOWS:\\nThat in pursuance of the above said offer and acceptance and in consideration of a monthly rent of Rs.2500 /- herein mentioned, the owner hereby lets out the First Floor of the building bearing, No.62-D, Saravana Flats, 1st Floor, Pinagapani Street, Devaki Nagar, Kundrathur, Chennai-600 069 subject to the terms, conditions and convenants specified hereunder.\\nThis Rental Agreement shall be for a period of 11 Months commencing from August 2014.\\nThe agreed rent of Rs.2500/- has to be paid on or before 5th of every month.\\nWhile the owner shall bear the property tax, water tax, in respect of the Rented Flat, the tenant shall bear Electricity, Maintenance and Water Charges.\\nThe tenant shall use the schedule property only for the Office use.\\nThe tenant hereby covenants with the owner and assures here that.\\nThey will keep the flat in a neat and tenantable condition.\\nThey will not carry out any structural alte',\n",
       " 'ation to the flat leased out;\\nThey will not cause any nuisance either to the owner or to the other occupants in the building / neighbors.\\nOn the expiry of the lease he will peacefully surrender vacant possession of the schedule property to the owner.\\nThe tenant shall not sub-lease / Sub-let the flat leased out to them to anyone\\nNotwithstanding anything contained herein either party can terminate this lease by serving the other party a notice in writing 4 months in advance.\\nThe tenant shall permit the owner or her agents to inspect the flat leased out at all reasonable time to see whether all the terms and conditions of the lease are complied with by the tenant.\\nThe rental agreement can be renewed once in every 11 months with the mutual consent of the parties to this agreement\\nIN WITNESS WHEREOF THE PARHES HERETO HAVE SET AND SUBSCRIBED THEIR RESPECTIVE HANDS AND SEALS HEREUNTO ON THE DAY AND YEAR FIRST ABOVE WRISTTEN\\nWITNESSES:\\n1.\\n(OWNER)\\n2.\\n(TENANT)']"
      ]
     },
     "execution_count": 100,
     "metadata": {},
     "output_type": "execute_result"
    }
   ],
   "source": [
    "getText(mylist[11]).split(\"rn\")"
   ]
  },
  {
   "cell_type": "markdown",
   "metadata": {},
   "source": [
    "## The function works but we need the data in a dataframe. So the below line is condensed version of getting the Dataframe from a string."
   ]
  },
  {
   "cell_type": "code",
   "execution_count": 110,
   "metadata": {
    "ExecuteTime": {
     "end_time": "2021-05-04T08:18:00.723228Z",
     "start_time": "2021-05-04T08:18:00.711993Z"
    },
    "scrolled": true
   },
   "outputs": [
    {
     "data": {
      "text/html": [
       "<div>\n",
       "<style scoped>\n",
       "    .dataframe tbody tr th:only-of-type {\n",
       "        vertical-align: middle;\n",
       "    }\n",
       "\n",
       "    .dataframe tbody tr th {\n",
       "        vertical-align: top;\n",
       "    }\n",
       "\n",
       "    .dataframe thead th {\n",
       "        text-align: right;\n",
       "    }\n",
       "</style>\n",
       "<table border=\"1\" class=\"dataframe\">\n",
       "  <thead>\n",
       "    <tr style=\"text-align: right;\">\n",
       "      <th></th>\n",
       "      <th>0</th>\n",
       "    </tr>\n",
       "  </thead>\n",
       "  <tbody>\n",
       "    <tr>\n",
       "      <th>0</th>\n",
       "      <td>\\n\\n\\n\\n\\n\\n\\n\\n\\n\\n\\n\\n\\n\\n\\n\\n\\n\\n\\n\\n\\n\\n\\n...</td>\n",
       "    </tr>\n",
       "  </tbody>\n",
       "</table>\n",
       "</div>"
      ],
      "text/plain": [
       "                                                   0\n",
       "0  \\n\\n\\n\\n\\n\\n\\n\\n\\n\\n\\n\\n\\n\\n\\n\\n\\n\\n\\n\\n\\n\\n\\n..."
      ]
     },
     "execution_count": 110,
     "metadata": {},
     "output_type": "execute_result"
    }
   ],
   "source": [
    "pd.DataFrame(pd.Series(getText(mylist[11])))"
   ]
  },
  {
   "cell_type": "markdown",
   "metadata": {},
   "source": [
    "## Scaling up"
   ]
  },
  {
   "cell_type": "code",
   "execution_count": 156,
   "metadata": {
    "ExecuteTime": {
     "end_time": "2021-05-04T08:40:40.133069Z",
     "start_time": "2021-05-04T08:40:39.909499Z"
    },
    "scrolled": true
   },
   "outputs": [],
   "source": [
    "entire_text_df = []\n",
    "for i in range(len(mylist)):\n",
    "    entire_text_df.append(pd.Series(getText(mylist[i])))"
   ]
  },
  {
   "cell_type": "markdown",
   "metadata": {},
   "source": [
    "## Assigning results and appending them."
   ]
  },
  {
   "cell_type": "code",
   "execution_count": 165,
   "metadata": {
    "ExecuteTime": {
     "end_time": "2021-05-04T08:42:05.692097Z",
     "start_time": "2021-05-04T08:42:05.684972Z"
    },
    "scrolled": true
   },
   "outputs": [],
   "source": [
    "df = pd.DataFrame(entire_text_df).rename(columns={0:'full_text'})"
   ]
  },
  {
   "cell_type": "code",
   "execution_count": 164,
   "metadata": {
    "ExecuteTime": {
     "end_time": "2021-05-04T08:42:01.437201Z",
     "start_time": "2021-05-04T08:42:01.435565Z"
    }
   },
   "outputs": [],
   "source": [
    "# df = pd.DataFrame.from_dict({'full_text' : pd.Series(getText(mylist[11]))})"
   ]
  },
  {
   "cell_type": "markdown",
   "metadata": {},
   "source": [
    "## Since the data files are in PDF format. \n",
    "## I have converted and this is the flow, PDF>Extraction to text> Conversion to Dataframe> Coerce to dict and assign to a large appended Dataframe"
   ]
  },
  {
   "cell_type": "markdown",
   "metadata": {},
   "source": [
    "## Below is the manual annotation for each file (43 PDFs)."
   ]
  },
  {
   "cell_type": "markdown",
   "metadata": {},
   "source": [
    "### The widget will be visible based on running state. Running live images have been attached to the \"file-name\" doc."
   ]
  },
  {
   "cell_type": "markdown",
   "metadata": {},
   "source": [
    "## The annotations cannot be in any format for a NLP-NER model. They have to be a list of tuples, these tuples are nested in the form (string, entity , start location, end location)."
   ]
  },
  {
   "cell_type": "markdown",
   "metadata": {},
   "source": [
    "### Tried multiple different approaches.\n",
    "### ** Look at the summary after the block."
   ]
  },
  {
   "cell_type": "code",
   "execution_count": 166,
   "metadata": {
    "ExecuteTime": {
     "end_time": "2021-05-04T08:42:07.009312Z",
     "start_time": "2021-05-04T08:42:06.968572Z"
    },
    "scrolled": false
   },
   "outputs": [
    {
     "name": "stdout",
     "output_type": "stream",
     "text": [
      "\u001b[1mInstructions\u001b[0m \n",
      "Input must be in the following format: \n",
      "labelA: item1, item2; \n",
      "labelB: itemX, itemZ; \n",
      "\n",
      "If no entities in text, leave as is and press submit. \n",
      "Similarly, if no entities for a particular label, leave as is (or delete the line for that label). \n",
      "\n",
      "Buttons: \n",
      "*submit inserts new annotation (or overwrites existing one if one is present). \n",
      "*skip moves forward and leaves empty string (or existing annotation if one is present). \n",
      "*finish terminates the annotation session.\n"
     ]
    },
    {
     "data": {
      "application/vnd.jupyter.widget-view+json": {
       "model_id": "051378ff1379494cbdf79b24f602334f",
       "version_major": 2,
       "version_minor": 0
      },
      "text/plain": [
       "HTML(value='-1 examples annotated, 44 examples left')"
      ]
     },
     "metadata": {},
     "output_type": "display_data"
    },
    {
     "data": {
      "application/vnd.jupyter.widget-view+json": {
       "model_id": "2053c08c503a41fcb7a363a6e083ab62",
       "version_major": 2,
       "version_minor": 0
      },
      "text/plain": [
       "Textarea(value='AggValue: insert;\\nAggStart: insert;\\nAggEnd: insert;\\nPartyOne: insert;\\nPartyTwo: insert;\\nN…"
      ]
     },
     "metadata": {},
     "output_type": "display_data"
    },
    {
     "data": {
      "application/vnd.jupyter.widget-view+json": {
       "model_id": "68042a5e33bb42a1a0a685dbd0cd36c7",
       "version_major": 2,
       "version_minor": 0
      },
      "text/plain": [
       "HBox(children=(Button(description='submit', style=ButtonStyle()), Button(description='skip', style=ButtonStyle…"
      ]
     },
     "metadata": {},
     "output_type": "display_data"
    },
    {
     "data": {
      "application/vnd.jupyter.widget-view+json": {
       "model_id": "7b8ac613ed16400bba701228745b5b7e",
       "version_major": 2,
       "version_minor": 0
      },
      "text/plain": [
       "Output()"
      ]
     },
     "metadata": {},
     "output_type": "display_data"
    }
   ],
   "source": [
    "# Annotations\n",
    "pd_dd = pd_annotate(df,\n",
    "            col_text = 'full_text',     # Column in pandas dataframe containing text to be labelled\n",
    "            labels = ['AggValue', 'AggStart','AggEnd','PartyOne','PartyTwo','Notice'], # List of labels\n",
    "            sample_size=1,              # Size of the sample to be labelled\n",
    "            delimiter='~',              # Delimiter to separate entities in GUI\n",
    "            model = None,               # spaCy model for noisy pre-labelling\n",
    "            regex_flags=re.IGNORECASE   # One (or more) regex flags to be applied when searching for entities in text\n",
    "            )"
   ]
  },
  {
   "cell_type": "markdown",
   "metadata": {},
   "source": [
    "## The annotations have been appended into a series which is joined to the previous dataframe."
   ]
  },
  {
   "cell_type": "code",
   "execution_count": 173,
   "metadata": {
    "ExecuteTime": {
     "end_time": "2021-05-04T09:52:47.459582Z",
     "start_time": "2021-05-04T09:52:47.456920Z"
    }
   },
   "outputs": [],
   "source": [
    "annotseries = pd_dd['annotations']\n",
    "annotdf = pd_dd"
   ]
  },
  {
   "cell_type": "code",
   "execution_count": 180,
   "metadata": {
    "ExecuteTime": {
     "end_time": "2021-05-04T09:59:21.455685Z",
     "start_time": "2021-05-04T09:59:21.428262Z"
    }
   },
   "outputs": [],
   "source": [
    "annotdf.to_csv(\"annotations.csv\")"
   ]
  },
  {
   "cell_type": "markdown",
   "metadata": {},
   "source": [
    "##  This is the final df with annotations and has been outputted as \"annotations.csv\".\n",
    "## The format of annotations can be found by looking at the individual cell of annotations column."
   ]
  },
  {
   "cell_type": "code",
   "execution_count": 174,
   "metadata": {
    "ExecuteTime": {
     "end_time": "2021-05-04T09:52:48.300461Z",
     "start_time": "2021-05-04T09:52:48.262185Z"
    },
    "scrolled": true
   },
   "outputs": [
    {
     "data": {
      "text/html": [
       "<div>\n",
       "<style scoped>\n",
       "    .dataframe tbody tr th:only-of-type {\n",
       "        vertical-align: middle;\n",
       "    }\n",
       "\n",
       "    .dataframe tbody tr th {\n",
       "        vertical-align: top;\n",
       "    }\n",
       "\n",
       "    .dataframe thead th {\n",
       "        text-align: right;\n",
       "    }\n",
       "</style>\n",
       "<table border=\"1\" class=\"dataframe\">\n",
       "  <thead>\n",
       "    <tr style=\"text-align: right;\">\n",
       "      <th></th>\n",
       "      <th>full_text</th>\n",
       "      <th>annotations</th>\n",
       "    </tr>\n",
       "  </thead>\n",
       "  <tbody>\n",
       "    <tr>\n",
       "      <th>0</th>\n",
       "      <td>STANDARD REAL ESTATE RENTAL AGREEMENT\\nThis Ag...</td>\n",
       "      <td>(STANDARD REAL ESTATE RENTAL AGREEMENT\\nThis A...</td>\n",
       "    </tr>\n",
       "    <tr>\n",
       "      <th>1</th>\n",
       "      <td>HOUSE RENTAL AGREEMENT\\nRental Agreement made ...</td>\n",
       "      <td>(HOUSE RENTAL AGREEMENT\\nRental Agreement made...</td>\n",
       "    </tr>\n",
       "    <tr>\n",
       "      <th>2</th>\n",
       "      <td>Rental Agreement\\nThis agreement made this 19\"...</td>\n",
       "      <td>(Rental Agreement\\nThis agreement made this 19...</td>\n",
       "    </tr>\n",
       "    <tr>\n",
       "      <th>3</th>\n",
       "      <td>\\nTENANCY AGREEMENT\\n\\nThis Tenancy Agreement ...</td>\n",
       "      <td>(\\nTENANCY AGREEMENT\\n\\nThis Tenancy Agreement...</td>\n",
       "    </tr>\n",
       "    <tr>\n",
       "      <th>4</th>\n",
       "      <td>RENTAL AGREEMENT\\nTHE AGREEMENT\\nThe landlord ...</td>\n",
       "      <td>(RENTAL AGREEMENT\\nTHE AGREEMENT\\nThe landlord...</td>\n",
       "    </tr>\n",
       "    <tr>\n",
       "      <th>5</th>\n",
       "      <td>RENTAL AGREEMENT\\nThis Rental Agreement made a...</td>\n",
       "      <td>(RENTAL AGREEMENT\\nThis Rental Agreement made ...</td>\n",
       "    </tr>\n",
       "    <tr>\n",
       "      <th>6</th>\n",
       "      <td>\\n\\n\\n\\n\\n\\n\\n\\n\\n\\n\\n\\n\\n\\n\\n\\n\\n\\n\\nRENTAL A...</td>\n",
       "      <td>(\\n\\n\\n\\n\\n\\n\\n\\n\\n\\n\\n\\n\\n\\n\\n\\n\\n\\n\\nRENTAL ...</td>\n",
       "    </tr>\n",
       "    <tr>\n",
       "      <th>7</th>\n",
       "      <td>HOUSE RENTAL AGREEMENT\\nThis Rental Agreement ...</td>\n",
       "      <td>(HOUSE RENTAL AGREEMENT\\nThis Rental Agreement...</td>\n",
       "    </tr>\n",
       "    <tr>\n",
       "      <th>8</th>\n",
       "      <td>RENTAL AGREEMENT\\nParties\\nThe parties to this...</td>\n",
       "      <td>(RENTAL AGREEMENT\\nParties\\nThe parties to thi...</td>\n",
       "    </tr>\n",
       "    <tr>\n",
       "      <th>9</th>\n",
       "      <td>\\n\\nROOM RENTAL AGREEMENT\\nThis is a legally b...</td>\n",
       "      <td>(\\n\\nROOM RENTAL AGREEMENT\\nThis is a legally ...</td>\n",
       "    </tr>\n",
       "    <tr>\n",
       "      <th>10</th>\n",
       "      <td>\\n\\n\\n\\n\\n\\n\\n\\n\\n\\n\\n\\n\\n\\n\\n\\nLEASSE AGREEEN...</td>\n",
       "      <td>(\\n\\n\\n\\n\\n\\n\\n\\n\\n\\n\\n\\n\\n\\n\\n\\nLEASSE AGREEE...</td>\n",
       "    </tr>\n",
       "    <tr>\n",
       "      <th>11</th>\n",
       "      <td>\\n\\nRENTAL AGREEMENT\\nTHIS AGREEMENT made this...</td>\n",
       "      <td>(\\n\\nRENTAL AGREEMENT\\nTHIS AGREEMENT made thi...</td>\n",
       "    </tr>\n",
       "    <tr>\n",
       "      <th>12</th>\n",
       "      <td>\\n\\n\\n\\n\\n\\n\\n\\n\\n\\n\\n\\n\\n\\n\\n\\n\\n\\n\\n\\n\\n\\n\\n...</td>\n",
       "      <td>(\\n\\n\\n\\n\\n\\n\\n\\n\\n\\n\\n\\n\\n\\n\\n\\n\\n\\n\\n\\n\\n\\n\\...</td>\n",
       "    </tr>\n",
       "    <tr>\n",
       "      <th>13</th>\n",
       "      <td>RENTAL AGREEMENT\\nThis Rental Agreement is mad...</td>\n",
       "      <td>(RENTAL AGREEMENT\\nThis Rental Agreement is ma...</td>\n",
       "    </tr>\n",
       "    <tr>\n",
       "      <th>14</th>\n",
       "      <td>\\n\\n\\n\\n\\n\\n\\n\\n\\n\\n\\n\\n\\n\\n\\n\\n\\n\\n\\n\\n\\n\\n\\n...</td>\n",
       "      <td>(\\n\\n\\n\\n\\n\\n\\n\\n\\n\\n\\n\\n\\n\\n\\n\\n\\n\\n\\n\\n\\n\\n\\...</td>\n",
       "    </tr>\n",
       "    <tr>\n",
       "      <th>15</th>\n",
       "      <td>RENTAL AGREEMENT\\nThis agreement of rent is ma...</td>\n",
       "      <td>(RENTAL AGREEMENT\\nThis agreement of rent is m...</td>\n",
       "    </tr>\n",
       "    <tr>\n",
       "      <th>16</th>\n",
       "      <td>\\n\\n\\n\\n\\n\\n\\n\\n\\n\\n\\n\\n\\n\\n\\n\\n\\n\\n\\n\\n\\n\\n\\n...</td>\n",
       "      <td>(\\n\\n\\n\\n\\n\\n\\n\\n\\n\\n\\n\\n\\n\\n\\n\\n\\n\\n\\n\\n\\n\\n\\...</td>\n",
       "    </tr>\n",
       "    <tr>\n",
       "      <th>17</th>\n",
       "      <td>\\n\\n\\n\\n\\n\\n\\n\\n\\n\\n\\n\\n\\n\\n\\n\\n\\n\\n\\n\\nRENTAL...</td>\n",
       "      <td>(\\n\\n\\n\\n\\n\\n\\n\\n\\n\\n\\n\\n\\n\\n\\n\\n\\n\\n\\n\\nRENTA...</td>\n",
       "    </tr>\n",
       "    <tr>\n",
       "      <th>18</th>\n",
       "      <td>LEASE AGREEMENT\\nThis DEED OF RENTAL AGREEMENT...</td>\n",
       "      <td>(LEASE AGREEMENT\\nThis DEED OF RENTAL AGREEMEN...</td>\n",
       "    </tr>\n",
       "    <tr>\n",
       "      <th>19</th>\n",
       "      <td>House Rental Contract\\nKNOWN ALL MEN BY THESE ...</td>\n",
       "      <td>(House Rental Contract\\nKNOWN ALL MEN BY THESE...</td>\n",
       "    </tr>\n",
       "    <tr>\n",
       "      <th>20</th>\n",
       "      <td>\\n\\n\\n\\n\\n\\n\\n\\n\\n\\n\\n\\n\\n\\n\\n\\n\\n\\n\\n\\n\\n\\n\\n...</td>\n",
       "      <td>(\\n\\n\\n\\n\\n\\n\\n\\n\\n\\n\\n\\n\\n\\n\\n\\n\\n\\n\\n\\n\\n\\n\\...</td>\n",
       "    </tr>\n",
       "    <tr>\n",
       "      <th>21</th>\n",
       "      <td>\\n\\n\\n\\n\\n\\n\\n\\n\\n\\n\\n\\n\\n\\n\\n\\nRENTAL AGREEME...</td>\n",
       "      <td>(\\n\\n\\n\\n\\n\\n\\n\\n\\n\\n\\n\\n\\n\\n\\n\\nRENTAL AGREEM...</td>\n",
       "    </tr>\n",
       "    <tr>\n",
       "      <th>22</th>\n",
       "      <td>This agreement is made on the 1st day of May 2...</td>\n",
       "      <td>(This agreement is made on the 1st day of May ...</td>\n",
       "    </tr>\n",
       "    <tr>\n",
       "      <th>23</th>\n",
       "      <td>\\n\\n\\n\\n\\n\\n\\n\\n\\n\\n\\n\\n\\n\\n\\n\\n\\n\\n\\n\\n\\n\\n\\n...</td>\n",
       "      <td>(\\n\\n\\n\\n\\n\\n\\n\\n\\n\\n\\n\\n\\n\\n\\n\\n\\n\\n\\n\\n\\n\\n\\...</td>\n",
       "    </tr>\n",
       "    <tr>\n",
       "      <th>24</th>\n",
       "      <td>\\n\\n\\n\\n\\nHouse Rental Contract\\nKNOWN ALL MEN...</td>\n",
       "      <td>(\\n\\n\\n\\n\\nHouse Rental Contract\\nKNOWN ALL ME...</td>\n",
       "    </tr>\n",
       "    <tr>\n",
       "      <th>25</th>\n",
       "      <td>2003\\ns,«r.s\\t66v*trm&amp;tf'of *&amp;*Hiiti**&lt;i \"3000...</td>\n",
       "      <td>(2003\\ns,«r.s\\t66v*trm&amp;tf'of *&amp;*Hiiti**&lt;i \"300...</td>\n",
       "    </tr>\n",
       "    <tr>\n",
       "      <th>26</th>\n",
       "      <td>\\n\\n\\n\\n\\n\\n\\n\\n\\n\\nRENTAL AGREEMENT\\nThis dee...</td>\n",
       "      <td>(\\n\\n\\n\\n\\n\\n\\n\\n\\n\\nRENTAL AGREEMENT\\nThis de...</td>\n",
       "    </tr>\n",
       "    <tr>\n",
       "      <th>27</th>\n",
       "      <td>\\n\\n\\n\\n\\n\\n\\n\\n\\n\\n\\n\\n\\n\\n\\n\\n\\n\\n\\n\\n\\n\\n\\n...</td>\n",
       "      <td>(\\n\\n\\n\\n\\n\\n\\n\\n\\n\\n\\n\\n\\n\\n\\n\\n\\n\\n\\n\\n\\n\\n\\...</td>\n",
       "    </tr>\n",
       "    <tr>\n",
       "      <th>28</th>\n",
       "      <td>RENTAL AGREEMENT\\nThis agreement of Tenancy is...</td>\n",
       "      <td>(RENTAL AGREEMENT\\nThis agreement of Tenancy i...</td>\n",
       "    </tr>\n",
       "    <tr>\n",
       "      <th>29</th>\n",
       "      <td>Tenancy Agreement\\nPerjanjian Kontrak Penyewa\\...</td>\n",
       "      <td>(Tenancy Agreement\\nPerjanjian Kontrak Penyewa...</td>\n",
       "    </tr>\n",
       "    <tr>\n",
       "      <th>30</th>\n",
       "      <td>\\n\\nRENTAL AGREEMENT\\nThis RENTAL AGREEMENT is...</td>\n",
       "      <td>(\\n\\nRENTAL AGREEMENT\\nThis RENTAL AGREEMENT i...</td>\n",
       "    </tr>\n",
       "    <tr>\n",
       "      <th>31</th>\n",
       "      <td>INDIA NON JUDICIAL\\nGovernment of Karnataka\\ne...</td>\n",
       "      <td>(INDIA NON JUDICIAL\\nGovernment of Karnataka\\n...</td>\n",
       "    </tr>\n",
       "    <tr>\n",
       "      <th>32</th>\n",
       "      <td>\\n\\n\\n\\n\\n\\n\\nAGREEMENT\\nThis Agreement is ent...</td>\n",
       "      <td>(\\n\\n\\n\\n\\n\\n\\nAGREEMENT\\nThis Agreement is en...</td>\n",
       "    </tr>\n",
       "    <tr>\n",
       "      <th>33</th>\n",
       "      <td>RENTAL AGREEMENT\\nThis rental agreement is mad...</td>\n",
       "      <td>(RENTAL AGREEMENT\\nThis rental agreement is ma...</td>\n",
       "    </tr>\n",
       "    <tr>\n",
       "      <th>34</th>\n",
       "      <td>© “Lesconcierges Help Desk” ©\\nFor rental agre...</td>\n",
       "      <td>(© “Lesconcierges Help Desk” ©\\nFor rental agr...</td>\n",
       "    </tr>\n",
       "    <tr>\n",
       "      <th>35</th>\n",
       "      <td>\\n\\n\\n\\n\\n\\n\\n\\n\\n\\n\\n\\n\\n\\n\\n\\n\\n\\n\\n\\n\\n\\n\\n...</td>\n",
       "      <td>(\\n\\n\\n\\n\\n\\n\\n\\n\\n\\n\\n\\n\\n\\n\\n\\n\\n\\n\\n\\n\\n\\n\\...</td>\n",
       "    </tr>\n",
       "    <tr>\n",
       "      <th>36</th>\n",
       "      <td>STAMP DUTY KARNATAKA\\nc$j5Coz3f$ 3oc&gt;rtjs s&amp;o^...</td>\n",
       "      <td>(STAMP DUTY KARNATAKA\\nc$j5Coz3f$ 3oc&gt;rtjs s&amp;o...</td>\n",
       "    </tr>\n",
       "    <tr>\n",
       "      <th>37</th>\n",
       "      <td>RENTAL AGREEMENT\\nThis Rental Agreement is mad...</td>\n",
       "      <td>(RENTAL AGREEMENT\\nThis Rental Agreement is ma...</td>\n",
       "    </tr>\n",
       "    <tr>\n",
       "      <th>38</th>\n",
       "      <td>RENTfft\\tENT\\nThis Rental Agreement is made an...</td>\n",
       "      <td>(RENTfft\\tENT\\nThis Rental Agreement is made a...</td>\n",
       "    </tr>\n",
       "    <tr>\n",
       "      <th>39</th>\n",
       "      <td>\\n\\nTHIS RENTAL AGREEMENT is made on this, the...</td>\n",
       "      <td>(\\n\\nTHIS RENTAL AGREEMENT is made on this, th...</td>\n",
       "    </tr>\n",
       "    <tr>\n",
       "      <th>40</th>\n",
       "      <td>\\n\\n\\n\\nHOUSE (fully furnished)\\nLEASE/RENTAL ...</td>\n",
       "      <td>(\\n\\n\\n\\nHOUSE (fully furnished)\\nLEASE/RENTAL...</td>\n",
       "    </tr>\n",
       "    <tr>\n",
       "      <th>41</th>\n",
       "      <td>\\n\\n\\n\\n\\n\\n\\nRENTAL AGREEMENT\\nThis agreement...</td>\n",
       "      <td>(\\n\\n\\n\\n\\n\\n\\nRENTAL AGREEMENT\\nThis agreemen...</td>\n",
       "    </tr>\n",
       "    <tr>\n",
       "      <th>42</th>\n",
       "      <td>\\n\\n\\n\\n\\n\\n\\n\\n\\n\\n\\n\\n\\n\\n\\n\\n\\n\\nRENTAL AGR...</td>\n",
       "      <td>(\\n\\n\\n\\n\\n\\n\\n\\n\\n\\n\\n\\n\\n\\n\\n\\n\\n\\nRENTAL AG...</td>\n",
       "    </tr>\n",
       "  </tbody>\n",
       "</table>\n",
       "</div>"
      ],
      "text/plain": [
       "                                            full_text  \\\n",
       "0   STANDARD REAL ESTATE RENTAL AGREEMENT\\nThis Ag...   \n",
       "1   HOUSE RENTAL AGREEMENT\\nRental Agreement made ...   \n",
       "2   Rental Agreement\\nThis agreement made this 19\"...   \n",
       "3   \\nTENANCY AGREEMENT\\n\\nThis Tenancy Agreement ...   \n",
       "4   RENTAL AGREEMENT\\nTHE AGREEMENT\\nThe landlord ...   \n",
       "5   RENTAL AGREEMENT\\nThis Rental Agreement made a...   \n",
       "6   \\n\\n\\n\\n\\n\\n\\n\\n\\n\\n\\n\\n\\n\\n\\n\\n\\n\\n\\nRENTAL A...   \n",
       "7   HOUSE RENTAL AGREEMENT\\nThis Rental Agreement ...   \n",
       "8   RENTAL AGREEMENT\\nParties\\nThe parties to this...   \n",
       "9   \\n\\nROOM RENTAL AGREEMENT\\nThis is a legally b...   \n",
       "10  \\n\\n\\n\\n\\n\\n\\n\\n\\n\\n\\n\\n\\n\\n\\n\\nLEASSE AGREEEN...   \n",
       "11  \\n\\nRENTAL AGREEMENT\\nTHIS AGREEMENT made this...   \n",
       "12  \\n\\n\\n\\n\\n\\n\\n\\n\\n\\n\\n\\n\\n\\n\\n\\n\\n\\n\\n\\n\\n\\n\\n...   \n",
       "13  RENTAL AGREEMENT\\nThis Rental Agreement is mad...   \n",
       "14  \\n\\n\\n\\n\\n\\n\\n\\n\\n\\n\\n\\n\\n\\n\\n\\n\\n\\n\\n\\n\\n\\n\\n...   \n",
       "15  RENTAL AGREEMENT\\nThis agreement of rent is ma...   \n",
       "16  \\n\\n\\n\\n\\n\\n\\n\\n\\n\\n\\n\\n\\n\\n\\n\\n\\n\\n\\n\\n\\n\\n\\n...   \n",
       "17  \\n\\n\\n\\n\\n\\n\\n\\n\\n\\n\\n\\n\\n\\n\\n\\n\\n\\n\\n\\nRENTAL...   \n",
       "18  LEASE AGREEMENT\\nThis DEED OF RENTAL AGREEMENT...   \n",
       "19  House Rental Contract\\nKNOWN ALL MEN BY THESE ...   \n",
       "20  \\n\\n\\n\\n\\n\\n\\n\\n\\n\\n\\n\\n\\n\\n\\n\\n\\n\\n\\n\\n\\n\\n\\n...   \n",
       "21  \\n\\n\\n\\n\\n\\n\\n\\n\\n\\n\\n\\n\\n\\n\\n\\nRENTAL AGREEME...   \n",
       "22  This agreement is made on the 1st day of May 2...   \n",
       "23  \\n\\n\\n\\n\\n\\n\\n\\n\\n\\n\\n\\n\\n\\n\\n\\n\\n\\n\\n\\n\\n\\n\\n...   \n",
       "24  \\n\\n\\n\\n\\nHouse Rental Contract\\nKNOWN ALL MEN...   \n",
       "25  2003\\ns,«r.s\\t66v*trm&tf'of *&*Hiiti**<i \"3000...   \n",
       "26  \\n\\n\\n\\n\\n\\n\\n\\n\\n\\nRENTAL AGREEMENT\\nThis dee...   \n",
       "27  \\n\\n\\n\\n\\n\\n\\n\\n\\n\\n\\n\\n\\n\\n\\n\\n\\n\\n\\n\\n\\n\\n\\n...   \n",
       "28  RENTAL AGREEMENT\\nThis agreement of Tenancy is...   \n",
       "29  Tenancy Agreement\\nPerjanjian Kontrak Penyewa\\...   \n",
       "30  \\n\\nRENTAL AGREEMENT\\nThis RENTAL AGREEMENT is...   \n",
       "31  INDIA NON JUDICIAL\\nGovernment of Karnataka\\ne...   \n",
       "32  \\n\\n\\n\\n\\n\\n\\nAGREEMENT\\nThis Agreement is ent...   \n",
       "33  RENTAL AGREEMENT\\nThis rental agreement is mad...   \n",
       "34  © “Lesconcierges Help Desk” ©\\nFor rental agre...   \n",
       "35  \\n\\n\\n\\n\\n\\n\\n\\n\\n\\n\\n\\n\\n\\n\\n\\n\\n\\n\\n\\n\\n\\n\\n...   \n",
       "36  STAMP DUTY KARNATAKA\\nc$j5Coz3f$ 3oc>rtjs s&o^...   \n",
       "37  RENTAL AGREEMENT\\nThis Rental Agreement is mad...   \n",
       "38  RENTfft\\tENT\\nThis Rental Agreement is made an...   \n",
       "39  \\n\\nTHIS RENTAL AGREEMENT is made on this, the...   \n",
       "40  \\n\\n\\n\\nHOUSE (fully furnished)\\nLEASE/RENTAL ...   \n",
       "41  \\n\\n\\n\\n\\n\\n\\nRENTAL AGREEMENT\\nThis agreement...   \n",
       "42  \\n\\n\\n\\n\\n\\n\\n\\n\\n\\n\\n\\n\\n\\n\\n\\n\\n\\nRENTAL AGR...   \n",
       "\n",
       "                                          annotations  \n",
       "0   (STANDARD REAL ESTATE RENTAL AGREEMENT\\nThis A...  \n",
       "1   (HOUSE RENTAL AGREEMENT\\nRental Agreement made...  \n",
       "2   (Rental Agreement\\nThis agreement made this 19...  \n",
       "3   (\\nTENANCY AGREEMENT\\n\\nThis Tenancy Agreement...  \n",
       "4   (RENTAL AGREEMENT\\nTHE AGREEMENT\\nThe landlord...  \n",
       "5   (RENTAL AGREEMENT\\nThis Rental Agreement made ...  \n",
       "6   (\\n\\n\\n\\n\\n\\n\\n\\n\\n\\n\\n\\n\\n\\n\\n\\n\\n\\n\\nRENTAL ...  \n",
       "7   (HOUSE RENTAL AGREEMENT\\nThis Rental Agreement...  \n",
       "8   (RENTAL AGREEMENT\\nParties\\nThe parties to thi...  \n",
       "9   (\\n\\nROOM RENTAL AGREEMENT\\nThis is a legally ...  \n",
       "10  (\\n\\n\\n\\n\\n\\n\\n\\n\\n\\n\\n\\n\\n\\n\\n\\nLEASSE AGREEE...  \n",
       "11  (\\n\\nRENTAL AGREEMENT\\nTHIS AGREEMENT made thi...  \n",
       "12  (\\n\\n\\n\\n\\n\\n\\n\\n\\n\\n\\n\\n\\n\\n\\n\\n\\n\\n\\n\\n\\n\\n\\...  \n",
       "13  (RENTAL AGREEMENT\\nThis Rental Agreement is ma...  \n",
       "14  (\\n\\n\\n\\n\\n\\n\\n\\n\\n\\n\\n\\n\\n\\n\\n\\n\\n\\n\\n\\n\\n\\n\\...  \n",
       "15  (RENTAL AGREEMENT\\nThis agreement of rent is m...  \n",
       "16  (\\n\\n\\n\\n\\n\\n\\n\\n\\n\\n\\n\\n\\n\\n\\n\\n\\n\\n\\n\\n\\n\\n\\...  \n",
       "17  (\\n\\n\\n\\n\\n\\n\\n\\n\\n\\n\\n\\n\\n\\n\\n\\n\\n\\n\\n\\nRENTA...  \n",
       "18  (LEASE AGREEMENT\\nThis DEED OF RENTAL AGREEMEN...  \n",
       "19  (House Rental Contract\\nKNOWN ALL MEN BY THESE...  \n",
       "20  (\\n\\n\\n\\n\\n\\n\\n\\n\\n\\n\\n\\n\\n\\n\\n\\n\\n\\n\\n\\n\\n\\n\\...  \n",
       "21  (\\n\\n\\n\\n\\n\\n\\n\\n\\n\\n\\n\\n\\n\\n\\n\\nRENTAL AGREEM...  \n",
       "22  (This agreement is made on the 1st day of May ...  \n",
       "23  (\\n\\n\\n\\n\\n\\n\\n\\n\\n\\n\\n\\n\\n\\n\\n\\n\\n\\n\\n\\n\\n\\n\\...  \n",
       "24  (\\n\\n\\n\\n\\nHouse Rental Contract\\nKNOWN ALL ME...  \n",
       "25  (2003\\ns,«r.s\\t66v*trm&tf'of *&*Hiiti**<i \"300...  \n",
       "26  (\\n\\n\\n\\n\\n\\n\\n\\n\\n\\nRENTAL AGREEMENT\\nThis de...  \n",
       "27  (\\n\\n\\n\\n\\n\\n\\n\\n\\n\\n\\n\\n\\n\\n\\n\\n\\n\\n\\n\\n\\n\\n\\...  \n",
       "28  (RENTAL AGREEMENT\\nThis agreement of Tenancy i...  \n",
       "29  (Tenancy Agreement\\nPerjanjian Kontrak Penyewa...  \n",
       "30  (\\n\\nRENTAL AGREEMENT\\nThis RENTAL AGREEMENT i...  \n",
       "31  (INDIA NON JUDICIAL\\nGovernment of Karnataka\\n...  \n",
       "32  (\\n\\n\\n\\n\\n\\n\\nAGREEMENT\\nThis Agreement is en...  \n",
       "33  (RENTAL AGREEMENT\\nThis rental agreement is ma...  \n",
       "34  (© “Lesconcierges Help Desk” ©\\nFor rental agr...  \n",
       "35  (\\n\\n\\n\\n\\n\\n\\n\\n\\n\\n\\n\\n\\n\\n\\n\\n\\n\\n\\n\\n\\n\\n\\...  \n",
       "36  (STAMP DUTY KARNATAKA\\nc$j5Coz3f$ 3oc>rtjs s&o...  \n",
       "37  (RENTAL AGREEMENT\\nThis Rental Agreement is ma...  \n",
       "38  (RENTfft\\tENT\\nThis Rental Agreement is made a...  \n",
       "39  (\\n\\nTHIS RENTAL AGREEMENT is made on this, th...  \n",
       "40  (\\n\\n\\n\\nHOUSE (fully furnished)\\nLEASE/RENTAL...  \n",
       "41  (\\n\\n\\n\\n\\n\\n\\nRENTAL AGREEMENT\\nThis agreemen...  \n",
       "42  (\\n\\n\\n\\n\\n\\n\\n\\n\\n\\n\\n\\n\\n\\n\\n\\n\\n\\nRENTAL AG...  "
      ]
     },
     "execution_count": 174,
     "metadata": {},
     "output_type": "execute_result"
    }
   ],
   "source": [
    "annotdf"
   ]
  },
  {
   "cell_type": "markdown",
   "metadata": {},
   "source": [
    "## Populating the tuples by nesting them by location to mimick the exact skeletal structure of the NER trainer."
   ]
  },
  {
   "cell_type": "code",
   "execution_count": 181,
   "metadata": {
    "ExecuteTime": {
     "end_time": "2021-05-04T10:00:20.620723Z",
     "start_time": "2021-05-04T10:00:20.617073Z"
    },
    "scrolled": true
   },
   "outputs": [],
   "source": [
    "annotuple = []\n",
    "for i in range(annotdf[\"annotations\"].shape[0]):\n",
    "    annotuple.append(annotdf[\"annotations\"].iloc[i])"
   ]
  },
  {
   "cell_type": "code",
   "execution_count": 184,
   "metadata": {
    "ExecuteTime": {
     "end_time": "2021-05-04T10:01:38.119046Z",
     "start_time": "2021-05-04T10:01:38.116566Z"
    }
   },
   "outputs": [],
   "source": [
    "annotuple_final = tuple(annotuple)"
   ]
  },
  {
   "cell_type": "markdown",
   "metadata": {},
   "source": [
    "## Assigning the tuple as training data."
   ]
  },
  {
   "cell_type": "code",
   "execution_count": 189,
   "metadata": {
    "ExecuteTime": {
     "end_time": "2021-05-04T10:03:09.945290Z",
     "start_time": "2021-05-04T10:03:09.942743Z"
    }
   },
   "outputs": [],
   "source": [
    "TRAIN_DATA = annotuple"
   ]
  },
  {
   "cell_type": "markdown",
   "metadata": {},
   "source": [
    "## The function below trains the NER model with custom manual annotations by creating a NER pipeline and using spacy's inbuilt algo for entity recognition which takes the tuple list of annotations. The fit has a dropout value (0.2) to avoid overfit."
   ]
  },
  {
   "cell_type": "code",
   "execution_count": 190,
   "metadata": {
    "ExecuteTime": {
     "end_time": "2021-05-04T10:03:10.664208Z",
     "start_time": "2021-05-04T10:03:10.658080Z"
    }
   },
   "outputs": [],
   "source": [
    "def train_spacy(data,iterations):\n",
    "    TRAIN_DATA = data\n",
    "    nlp = spacy.blank('en')  # create blank Language class\n",
    "    # create the built-in pipeline components and add them to the pipeline\n",
    "    # nlp.create_pipe works for built-ins that are registered with spaCy\n",
    "    if 'ner' not in nlp.pipe_names:\n",
    "        ner = nlp.create_pipe('ner')\n",
    "        nlp.add_pipe(ner, last=True)\n",
    "       \n",
    "\n",
    "    # add labels\n",
    "    for _, annotations in TRAIN_DATA:\n",
    "         for ent in annotations.get('entities'):\n",
    "            ner.add_label(ent[2])\n",
    "\n",
    "    # get names of other pipes to disable them during training\n",
    "    other_pipes = [pipe for pipe in nlp.pipe_names if pipe != 'ner']\n",
    "    with nlp.disable_pipes(*other_pipes):  # only train NER\n",
    "        optimizer = nlp.begin_training()\n",
    "        for itn in range(iterations):\n",
    "            print(\"Statring iteration \" + str(itn))\n",
    "            random.shuffle(TRAIN_DATA)\n",
    "            losses = {}\n",
    "            for text, annotations in TRAIN_DATA:\n",
    "                nlp.update(\n",
    "                    [text],  # batch of texts\n",
    "                    [annotations],  # batch of annotations\n",
    "                    drop=0.2,  # dropout - make it harder to memorise data\n",
    "                    sgd=optimizer,  # callable to update weights\n",
    "                    losses=losses)\n",
    "            print(losses)\n",
    "    return nlp"
   ]
  },
  {
   "cell_type": "markdown",
   "metadata": {},
   "source": [
    "## The tuple standard format, perfectly fits into the spacy specification."
   ]
  },
  {
   "cell_type": "code",
   "execution_count": 191,
   "metadata": {
    "ExecuteTime": {
     "end_time": "2021-05-04T10:03:11.521887Z",
     "start_time": "2021-05-04T10:03:11.497491Z"
    }
   },
   "outputs": [
    {
     "data": {
      "text/plain": [
       "[('STANDARD REAL ESTATE RENTAL AGREEMENT\\nThis Agreement made this 11 day of December, 2008, is between PROSPER 4 LESS,LLC\\t (hereinafter referred to as\\n\"Management\") and Jose Luis Salcido owner(hereinafter referred to as \"Resident\"). Management rents to Resident, and Resident rents from Management, property located at:\\nAddressl6714 MOSSDALE BLVD.LANCASTER, State: California, Zip: 93535, the full legal description of which is the same as recorded with the Clerk of the Superior Court of Kern County, and is made a part hereof by reference (hereinafter referred to as the \"Property\"), under the following terms and conditions:\\nTERM: The initial term of this Agreement shall be for $700.00 Dollars per months beginning on the 15 day of DECEMBER, 2008.\\nCONDITION: Resident accepts Property in its present \"AS-IS\" condition and acknowledges that Resident has received a list of any existing damages to Property, been given the right to inspect same, and has approved said list except as previously specified in writing to Management. Resident acknowledges receipt of the \"Move-In Inspection Form\" and accepts the responsibility to complete said form within seven (7) days of taking possession and return a completed, signed copy to Management. Failure to do so shall be Resident\\'s acknowledgment that Property is in perfect condition in every particular and that any damages, including breakage, bums and wear or otherwise not shown shall be Resident\\'s responsibility and expense.\\nMAINTENANCE, REPAIRS: Resident acknowledges that the premises are in good order and repair, unless otherwise indicated herein. Resident shall, at his own expense, and at all times, maintain the premises in a clean and sanitary manner, including all equipment and appliances therein and shall surrender the same, at the termination hereof, in as good condition as received, normal wear and tear excepted. Resident expressly stipulates and agrees that Management is granting a rental discount in exchange for Resident\\'s agreeing to perform and bear the expense of. or have performed, minor maintenance and repairs on the dwelling, therefore\\nManagement shall NOT be responsible for maintenance and repairs of the premises during the term of this Agreement or any\\nextensions, unless otherwise provided for herein. If Resident repair responsibilities conflict with any state laws to the contrary, Resident expressly agrees to fully waive and relinquish any protections so provided. Resident shall be responsible for damages caused by his negligence and that of his family or invitees and guests. Resident shall mow, irrigate and maintain any surrounding grounds, including lawns, shrubbery and gutters, and keep the same clear of rubbish, trash, weeds or leaves if such grounds are part of the Property and are available for the use of Resident. Should Resident fail to do so, Management, after attempting to notify Resident, may, but is not required to, maintain lawns and/or shrubbery by using a professional yard maintenance company. Resident agrees to pay the cost of any such yard maintenance as additional rent.\\nAPPLIANCES: All appliances of any kind including window air conditioners are specifically excluded from this Agreement. Such appliances remain as a convenience to Resident and Management assumes no responsibility for their operation. No part of the monthly rent is attributable to them. Any appliance on premises at the signing of this Agreement shall be returned by Resident upon move-out in the same condition as at the signing of this Agreement.\\nALTERATIONS: Resident shall not make, or allow to be made, any alterations, installations, repairs or redecoration of any kind to the Property without prior written permission of Management, provided, however, that notwithstanding such consent, Resident agrees that all alterations including, without limitation, any items affixed to the Property, shall become the properly of Management upon the termination of this Agreement. This includes, but is not limited to, ceiling fans, mini blinds, carpeting, fencing, lighting fixtures, shrubs, flowers, etc. Removal of these items shall be considered theft subject to civil and criminal prosecution.\\nUSE: The Property shall be used for Residential purposes only and shall be occupied by the undersigned 2\\tadults, children as\\nnamed in the original application to rent, only. Occupancy by guests staying over 14 days will be considered in violation of this agreement and additional monthly rent of $100.00 per person shall be due, chargeable from the beginning date of this Agreement, unless prior written consent is given by Management. The Properly shall be used so as to comply with all state, county, and municipal laws and ordinances and shall be kept in a clean and orderly condition. Resident shall not use the Property or permit it to be used for any disorderly or unlawful purpose or in any manner so as to interfere with neighbors. Resident shall be responsible and fully liable for the conduct of his/her guests. Acts of guests in violation of this Agreement or Management\\'s rales and regulations may be deemed by Management to be a breach by Resident.\\nResident’s Initials\\nUtilities: Resident is responsible for payment of all utilities, to include water, sewage, garbage collection, cable TV, electricity, gas, local telephone service; even if the bills remain in Management\\'s name. Failing to pay the utility bills will be interpreted as a default and a violation of this Agreement. Any installation costs are the responsibility of Resident. Any wall jacks, telephone or cable installation shall remain with the Property.\\nTelephones: Resident shall obtain a home telephone and must supply Management with home and work telephone numbers immediately and agrees to immediately notify Management of any change of numbers during the term of this Agreement.\\nStorage: No goods or materials of any kind or description which are combustible or would increase fire risk, shall be stored on the Properly. Any storage shall be at Resident\\'s risk and expense, Management shall not be responsible for any loss or damage.\\nWalls: No nails, screws or adhesive hangers except standard picture hooks, shade brackets and curtain rod brackets may be placed in walls, woodwork, or any part of the Property.\\nGOOD HOUSEKEEPING IS EXPECTED OF EVERYONE: Resident agrees to keep the Property in a clean and sanitary condition, and to remove any trash or mbbish as it accumulates.\\nPest control: Resident agrees to provide pest control as needed. Any infestation shall constitute a default of this Agreement.\\nFurnace maintenance: Resident shall change furnace filter(s) monthly during the heating/cooling season.\\nSmoke alarm: Resident shall keep smoke alarm (si and fire extinguisher tif provided) in working order including replacing the battery as needed. Resident accepts any liability associated with the use and upkeep of all such devices and understands how to and agrees to test same.\\nKerosene Heaters and Appliances: Resident agrees not to use any form of Kerosene space heater in the dwelling.\\nWater beds: Resident shall not have or keep any water bed in the dwelling without prior written permission of Management. A condition of approval is a waterbed insurance policy paid by Resident with Management listed as loss payee.\\nVehicles: Vehicles shall NOT be parked on lawn at any time. Non-operative vehicles are not permitted on Property. Any such non-operative vehicle may be removed by Management at the expense of Resident, for storage for public or private sale, at Management\\'s option, and Resident shall have no right of recourse against Management thereafter.\\nYard care: Resident will be responsible for maintaining the lawn, bushes, and trees in a neat and attractive manner. If not cared for, Management has the right to have this done professionally and Resident herewith agrees to pay the cost for same.\\nGutters: Resident shall have gutters cleaned each fall or as needed.\\nBasements: Management in no way warrants any basement against any leakage of any kind at any time.\\nSeptic: If residence has septic tank, resident shall not abuse system; do not deposit tobacco, coffee grounds or unnecessary food or other wastes or materials, including diapers and sanitary napkins, down sinks or commodes. Resident shall regularly add septic tank treatment, available at home supply stores, to the system to keep it operating properly and efficiently. Resident is prohibited from adding a garbage disposal to any house, which has a septic system.\\nResident’s Initials\\nPROPERTY LOSS & LIABILITY: Management shall not be liable for damage, theft, vandalism, or other loss of any kind to Resident\\'s personal property or the personal property of Resident\\'s family members or guests. Management shall not be responsible or liable for any injury, loss or damage to any person or property of Resident or any other person.\\nRENTERS INSURANCE: Resident agrees to purchase comprehensive insurance, known as a Renter\\'s Insurance Policy, against all perils, including but not limited to insurance on personal property or property of other persons from protection of loss due to or caused by theft, vandalism, bursting or breaking pipes, by or from fire, windstorm, hail, flooding, leakage, steam, snow or ice, by or from running water, backing up of drainage pipes, seepage, or the overflow of water or sewage on the Property. Said policy shall include liability coverage of $300,000.00 minimum.\\nLEAD, ASBESTOS, MOLD AND/OR RADON: If Property was constructed prior to 1980 it may contain lead and/or asbestos\\ncontaining materials. This shall serve as constructive notice that this Property was constmcted in approximately\\t. Resident\\nmay have Property tested for lead, asbestos, mold and/or radon levels prior to occupancy. Should Resident determine that the levels of lead, asbestos, mold and/or radon are unacceptable to Resident, Resident may void this Agreement prior to taking possession of Property, but not later than three (3) days after entering into this Agreement with Management. Resident herewith acknowledges receipt of the Federal Pamphlet Protect Your Family From Lead in Your Home and the Lessor\\'s disclosure form attached hereto and made a part hereof by reference.\\nNO ASSIGNMENT OR SUBLETTING: Continued occupancy of the premises is a requirement. Resident may not sub-let Property or assign this Agreement without the prior written consent of Management. Any subletting, if granted, shall not release Resident from their obligations outlined herein.\\nFIRE: If the Property is made uninhabitable by fire or other casualty, not the fault of Resident, this Agreement shall be voidable by either party.\\nHOLDING OVER: Should the Resident hold over on the Properly after expiration of the term of this Agreement and with the consent of Management, the possession shall not be construed as a renewal for the same term, but shall be construed as a month to month tenancy in accordance with the terms hereof, as applicable, and Rental Rate shall be charged at a rate 50% higher than the Rental Rate as contained in Paragraph 3 hereinabove. There shall be no renewal of this Agreement by operation of law.\\nRIGHT OF ACCESS: Management may enter the Properly without notice to Resident for inspection and maintenance during reasonable hours. Management shall attempt to notify Resident of the need for access, but has no obligation to do so. If locks have been changed without providing Management with a key, Management may forcibly enter without being liable for damage or unlawful entry. In case of emergency, Management may enter at any time. During the last sixty (60) days of occupancy, or upon notification of intent to vacate, Management may place a sign on the Property and/or may install a lock-box and show the Property during reasonable hours. Management will attempt to notify Resident, but has no obligation to do so.\\nDEFAULT BY RESIDENT: Should Resident fail to pay any rent or other charges as and when due hereunder, or if Resident abandons the property or fails to perform any of its obligations hereunder, Management, at its option, may terminate all rights of Resident hereunder, unless Resident, within 24 hours after notice thereof, shall cure such default. If Resident abandons or vacates the Property, while in default of the payment of rent, Management may consider any property left on the Property to be abandoned and may dispose of same in any manner allowed by law, without responsibility or liability therefore. All personal property at the Property is hereby subject to a lien in favor of Management for payment of all sums due hereunder, to the maximum extent under law. Upon the adjudication of Resident in Bankruptcy, or if any facts contained in Resident\\'s application are untrue or misleading, then, upon the happening of any of said events, Resident shall be in default hereunder and Management may, at its option, immediately terminate this Agreement by written notice to Resident. In the event of a default by Resident, Management may elect to (i) continue this Agreement and enforce all of Management\\'s rights and remedies hereunder, including the right to recover the rent as it comes due, or (ii) at any time, terminate all of Resident\\'s rights hereunder and recover from Resident all damages Management may incur by reason of the breach of this Agreement, including the cost of recovering the Property, and including the worth at the time of termination, or at the time of an award should a suit be instituted to enforce this provision, of the amount by which the unpaid rent for the balance of the term exceeds the amount of such rental loss which Resident proves could be reasonably avoided.\\nABANDONMENT: Anytime the Property is left unoccupied for more than seven (7) days while rent remains unpaid without notice to Management, Management may consider the Property abandoned. Management may, at its option, declare this Agreement forfeited and re-rent said premises without any liability whatsoever. Resident shall be obligated to pay based on the balance of the rental agreement or the early termination requirement, whichever is greater. If Resident removes or attempts to remove any personal property from the premises other than in the usual course of continuing occupancy, without having first paid Management all monies due, Management shall have the right, without notice, to obtain an injunction to stop removal as Management has an attachment interest in the personal belongings of the non-paying Resident. Management shall also have the right to remove, store or dispose of any of Resident\\'s personal property remaining on the premises after the termination of this agreement. Any such personal property shall be considered Management\\'s property, and title thereto shall vest in Management.\\nResident’s Initials\\nCROSS DEFAULT: If Resident has entered into any other agreements concerning Property and Resident defaults on any provisions of those agreements, then this Agreement shall also be considered in default and, at the option of Management, this Agreement may be voided.\\nREMEDIES CUMULATIVE: All remedies under this Agreement or by law or equity shall be cumulative. In the event that either Management or Resident brings legal action to enforce the terms hereof or relating to the rental Property, the prevailing party shall be entitled to all costs incurred in connection with such action including reasonable attorney\\'s fees. In the event a collection agency becomes necessary to collect any accounts due on this Agreement, Resident agrees to pay said commission. If any term or provision of this Agreement or application thereof to any person shall be held invalid or unenforceable, the remainder of this Agreement shall not be affected thereby.\\nNO ESTATE IN LAND: This Agreement shall create the relationship of landlord and tenant between Management and Resident; no estate shall pass out of Management; Resident has only a usufruct and not an estate for years.\\nMORTGAGEE\\'S RIGHTS: Resident\\'s rights under this Agreement shall be subject to any bonafide mortgage or deed to secure debt, which is now or shall hereafter be placed on Property.\\nMANAGEMENT\\'S PERMISSION OR CONSENT: If any provision of this Agreement requires the written permission or consent of Management as a condition to any act of Resident, such written permission or consent may be granted or withheld in the sole discretion of Management and/or may contain such conditions as Management deems appropriate and shall be effective only so long as Resident complies with such conditions. Moreover, any written permission or consent given by Management to Resident may be modified, revoked, or withdrawn by Management at any time, at Management\\'s sole discretion, upon written notice to Resident.\\nNOTICES: Any notice required by this Agreement, except as otherwise set forth shall be in writing and shall be deemed to be given if delivered personally or mailed via first class mail.\\nIf to Resident, to the Property or the last known address of Resident;\\nIf to Management, to the address as contained in Paragraph 3.\\nACCURACY AND RESPONSIBILITY: Management has relied upon the information contained in Resident\\'s application to enter into this Agreement. Resident warrants that their rental application is fine, complete and accurate. Resident agrees that if he/she has falsified any statement in the rental application, Management has the right to terminate this Rental Agreement immediately and further agrees that Management shall be entitled to retain any performance fee and any prepaid rents as fair and just liquidated damages. Resident further agrees in the event Management exercises its option to terminate this Rental Agreement, he/she will remove him/herself, family and possessions from the Properly within 24 hours of notification by Management. Resident further agrees to indemnify Management for any damages to Property including, but not limited to, the cost of making residence suitable for renting to\\nINDEMNIFICATION: Management shall not be liable for any damage or injury to Resident, or any other person, or to ary property, occurring on the Property, or any part thereof, or in common areas thereof, unless such damage is the proximate result of the negligence or unlawful act of Management, his agents, or his employees. Resident does hereby indemnify, release, and save harmless Management and Management agents from and against any and all suits, actions, claims, judgments, and expenses arising out of or relating to any loss of life, bodily or personal injury, properly damage, or other demand, claim or action of any nature arising out of or related to this Agreement or the use of this Properly and premises.\\nENTIRE AGREEMENT: This Agreement and any attached addendum constitutes the sole and entire Agreement between the parties and no representation, promise, or inducement not included in this Agreement, oral or written, shall be binding upon any party hereto. Attachments: Move-in Inspection Report; EPA Lead Paint Disclosure; EPA Lead Paint Pamphlet; Other:\\nTenats Acknowledge that only the Land is being\\nIN WITNESS WHEREOF, the parties hereto have caused these presents to be signed in person or by a person duly authorized, the day and year above written. If this Agreement is not signed by all the Residents named herein and/or on rental application, the one(s) signing warrants that he or she has the authority and is acting as agent to sign for the other.\\nTenants Sign\\t \\t \\t\\n(Print Name)\\t\\nResident’s Initials\\n\\n\\n\\n\\n\\n\\n\\n\\n\\n\\n\\n\\n\\n\\n\\n\\n\\n\\n\\n\\n\\n\\n\\n\\n\\n\\n\\n\\n\\n\\n\\n\\n\\n\\n\\n\\n\\n\\n\\n\\nResident’s Initials',\n",
       "  {'entities': [(63, 87, 'AggStart'),\n",
       "    (100, 118, 'PartyTwo'),\n",
       "    (166, 183, 'PartyOne')]}),\n",
       " ('HOUSE RENTAL AGREEMENT\\nRental Agreement made on Jan 10, 2011, between Namashivayam, Plat No-182, Door No 16 New/10 Old, 24th East Street, Kamaraj Nagar, Thiruvanmiyur, Chennai (hereinafter referred to as landlord) of the house and Mrs.Thenmalar, W/O Xavier, Kottaikadu (PO), Vadakadu (Via), Pudukkottai (Dt) (hereinafter referred to as tenant) of the First floor portion of the building.\\nWHERE IT IS AGREED AND DECLARED AS FOLLOWS:\\nThe Landlord agrees to let out and the tenant agrees to take on rent the First floor portion of the building Plat No-182, Door No 16 New/10 Old, 24th East Street, Kamaraj Nagar, Thiruvanmiyur along with electrical and sanitary fittings and other accessories fittings and structures (hereinafter called the premises) from Jan 10 2011 at the monthly rent of Rs. 14500 (Fourteen thousand and five hundred rupees) being payable on or before 5th of every month to the Landlord. The period of this agreement shall be twelve months w.e.f Jan 10, 2011.\\nThe tenant has paid Rs. 100000(0ne lack Rupees) as advance amount for the above building and the landlord shall pay this said advance without interest to the tenant at the time of vacating the premises or within 12 months of commencement of this agreement whichever is earlier.\\nAt the termination of the period of tenancy the tenant agrees to surrender to the Landlord the vacant possession of the premises without raising any objection.\\nThis rental agreement can be terminated at any time by three months notice on either side and on such termination the tenant shall surrender the vacant possession of the premises to the Landlord.\\nIf for by any reason the tenant occupies the building for a period that includes part of a month, it is agreed that the rent will be charged on a pro-rated basis for that month.\\nThe landlord shall pay all existing and future taxes, rates and assessments in respect of the lease hold including the municipal or other tax assessed by a local authority on the value of the building or annual letting value of the building and all other rates, taxes and assessments levied by any authority whatsoever.\\nThe tenant shall pay the electricity and water supply charges for the period of time he occupies the premises.\\nThe tenant agrees to leave at the end of tenancy the premises in good condition as they are now, subject to reasonable wear and tear.\\nThe tenant also agreed not to let out the building or a portion of it to anybody else.\\nThe tenant shall not commit any act of waste in the premises.\\n11 The tenant also agrees to make any maintenance on the building as mutually agreed upon by the tenant and the landlord and the said expenses shall be adjusted against the rent amount due to the landlord.\\n12.The landlord shall retain the original of this agreement and the tenant shall retain its duplicate.\\nWITNESS WHERE OF Namashivayam , the landlord and Mrs.Thenmalar, the tenant have affixed their signatures on Jan 10, 2011.\\n(Land Lord)\\n(Tenant)\\nWitness:',\n",
       "  {'entities': [(1470, 1489, 'Notice'),\n",
       "    (231, 244, 'PartyTwo'),\n",
       "    (2861, 2874, 'PartyTwo'),\n",
       "    (48, 60, 'AggStart'),\n",
       "    (70, 82, 'PartyOne'),\n",
       "    (963, 975, 'AggStart'),\n",
       "    (2829, 2841, 'PartyOne'),\n",
       "    (2920, 2932, 'AggStart'),\n",
       "    (788, 797, 'AggValue')]}),\n",
       " ('Rental Agreement\\nThis agreement made this 19\" day of August, 2010 between John Public of 1234 Any street, Happytown, Tennessee 23432 (hereinafter called the Tenants) and Lagoon Landings LLC (hereinafter called the Landlord) concerning the short tenn rental of the property located at 8730 Thomas Drive, Unit 414, Panama City Beach, Florida. Total people in renting party: 6. Adults: 3 Children: 3 not to exceed 8. Rental period begins at 3 pm on 8/17/2010 and ends at 10 am on 8/22/2010. Total Rental Amount: $450.00 ( $100.00 per night or $ 600.00 per week) Add Cleaning Fee: $75.00. Add Security Deposit: $150.00 (refundable according to the Tenns of the Agreement). Add $25 for boat/trailer parking.\\nTotal Amount Due including Security Deposit: $654.00 Deposit due with signed agreement: $320.00 Paid 10/24/2010 Balance due 14 days prior to commencement of the rental: $ 334.00\\nTerms of the Agreement:\\nThe Tenants shall maintain the premises in a good, clean, and ready to rent condition, and use the premises only in a careful and lawful manner. The tenants shall leave the premises in a ready to rent condition at the expiration of the rental agreement, defined by the Landlord as being immediately habitable by the next tenants. Tenants shall pay for maintenance and repairs should the premises be left in a lesser condition. The tenants agree that the Landlord shall deduct costs of said services from the security deposit prior to refund if tenants cause damage to the premises or its furnishings.\\nTenants expressly acknowledge and agree that this Agreement is for transient occupancy of the Property, and that Tenants do not intend to make the property a residence or household..\\nNo daily maid service- While linens, bath towels , etc. are included in the unit, daily maid service is not included in the rental rate\\nThe Tenants shall dispose of all waste material generated during the rental period in a lawful manner and put the trash in the dumpsters provided during their stay.\\nThe Tenants shall pay for any damage done to the premises over and above normal wear and tear.\\nNo animals or pets of any kind will be brought onto the premises without the written permission of the owners.\\nThe Tenants shall not sublet the property.\\nThe Tenants shall have no more than 8 (eight) persons reside or sleep on the premises.\\nThe Tenants shall not create noise or disturbances likely to disturb or annoy the surrounding property owners. Quiet hour starts at 10 PM and Pool and outdoor noise should be kept to a minimum.\\nThere shall be no smoking inside the premises.\\nLandlord shall provide towels, linens, cups, knives, forks, spoons, dishes, and other items as commonly used by the Landlord’s family. Toilet paper, soap, dish detergent, laundry soap, shampoos, and other consumables are to be purchased by the Tennant. No reimbursement will be made for unused consumables left at the premises. If consumables exist at the premises when the Tenant arrives the Tenant is free to use them...\\nTenant agrees that Air conditioning shall not be set below 75 degrees and heat shall not be set above 78, and that the fan setting shall be “Auto”. Doors and windows shall be closed when either heat or air conditioning is in operation.\\nThe Tenants and Tenants\\' Guests shall hereby indemnify and hold harmless the Landlord against any and all claims of personal injury or property damage or loss arising from use of the premises regardless of the nature of the accident, injury or loss. Tenants expressly recognize that any insurance for property damage or loss which the Landlord may maintain on the property does not cover the personal property of Tenants, and that Tenants should purchase their own insurance for Tenants and Guests if such coverage is desired.\\nTenants agree to pay all reasonable costs, attorney\\'s fees and expenses that shall be made or incurred by Landlord enforcing this agreement.\\nCable TV is provided and service level has been chosen by the Landlord. No refund of rents shall be given for outages, content, lack of content, or personal preferences with regard to cable TV service.\\nWe occasionally experience outages that are beyond our control. No refunds or compensation will be given for any outages.\\nThere shall be no refunds of rents due to shortened stays or ruined expectations because of weather conditions.\\nTenant agrees not to access the “owner’s closet”, even if unlocked, which contains cleaning supplies and chemicals that could be hazardous to children and adults. The owners closet is located under the stairs.\\nThere shall be no refunds of rents because of shortened stays or ruined expectations due to work and family emergencies or other commitments.\\nIt is the tenant’s responsibility to learn about safety precautions, warning signs of water conditions, and safety procedures concerning swimming in or being around the pool. Tenant agrees to have a responsible adult supervising minors while they swim in the pool. Tenant is hereby notified that the pool can be dangerous and tenant accepts fully the risks involved.\\nTenant agrees to have a responsible adult supervising minors while they are on the boat dock. Tenant is hereby notified that the boat dock can be dangerous and tenant accepts fully the risks involved. No swimming is permitted from the dock.\\nPlease sign and return this Agreement by mail, fax or scanned email attachment.\\nLandlord address: Lagoon Landings LLC, 608 Adelynn Court South, Franklin, TN 37064 email: jim@lagoonlandings.com fax number 615-599-4092\\n(We) agree to abide by the above conditions and hereby swear that the information provided above is true:\\n\\n\\n',\n",
       "  {'entities': [(42, 65, 'AggStart'),\n",
       "    (170, 189, 'PartyTwo'),\n",
       "    (5388, 5407, 'PartyTwo'),\n",
       "    (74, 85, 'PartyOne')]}),\n",
       " (\"\\nTENANCY AGREEMENT\\n\\nThis Tenancy Agreement is made and executed at Bangalore on this 22.01.2013 by\\nMR .P .RAJA SEKHAR AGED ABOUT 28 YRS\\nS/0.MR.KRISHNA PARAMATMA PENTAKOTA R/at NESTER RAGA B-502,\\nOPP MORE MEGA STORE BANGALORE-560 048\\nHereinafter called the 'OWNER' of the One Part. AND\\nMR.VENKATA BHYRAVA MURTHY MUTNURI & P/at NO.17-2-16, l/EERABHARAPURAM AGED ABOUT 26 YRS\\tRAOAHMUNDRY ANDHRA PRADESH\\nS/n.MR.RAGHAVENDRA RAO\\t533105\\nW/at CODINZANT TECHNOLOGIES BVT.LTD BANGALORE\\nHereinafter called the ‘TENANT' of the Other Part.\\nThe terms 'Owner' and 'Tenant* shall mean and include their heirs# legal representatives# administrators# assigns of their respective parts as parties themselves wherever the context admits and includes the same.\\nWhereas the Owner is the sole and absolute owner of the\\nResidential property which is morefully descrmed in the schedule hereunder and at the enjoyment of. the owner. Whereas the Tenant for want of Residential\\tpurpose approached the\\nowner to let out the premises on monthly rental and the owner agreed for the same under the following terms and conditions.\\n\\n\\n\\n-2-\\nNOW THIS AGREEMENT WITNESSETH AS_FQLLCWS:\\nThe tenancy shall commence from 11.04.2012 and initially valid for a period of eleven months and may be renewed with\\n5 % enhanced rent for further periods before the expiry of this agreement after mutual consent between the parties.\\nThe tenant shall pay a monthly rent of Rs. 15,000/- (Rupees\\nFifteen thousand only\\t) to the owner on or\\n-•■'before 5th of every succeeding month as per the english calendar month.\\nThe tenant has paid a total sum of Rs. 1,50,000/-(Rupees\\nOne Lakh fifty thousadn only\\t) to the owner\\ntowards advance/security deposit. This sum shall carry no interest but refundable to the tenant at the time of vacating the premises after deductions for damages and dues if any.\\nRe painting cost =0ne M nth Rent\\nThe tenant sliall pay for^the electricity charges separately\\nand water charges separately\\nThe Owner/Tenant shall give to the Tenant/Cwner llU0(2 month advance notice for vacating of the premises.\\nThe Tenant shall allow inspection by the owner during all reasonable hours and the tenant shall not re-lease or alter the premises and shall while vacating the same shall hand over it to the owner only in the same condition in which it was occupied save normal wear and tear.\\nThe tenant shall maintain the premises in good and tenantable condition during the tenancy period.\\n°* -*-n ^as® the tenant vacates even before the agreed period of eleven months then the owner shall deduct Rs. 15,000/-towards brokerage\\nSCHEDULE OF THE PRExMISES\\nrLAT no*B503, NESTER RAGA APARTMENTS, MAHADEVAPURA, 0PPSITE MORE MEGA STORE, BANGALORE-560 048\\nConsisting of 3BHK\\nFitted with Cfans-\\t# Geyser-1 , Tlights- , Efan\\nIN WITNESS WHERFop +-v,\\t'\\t. .\\non the day month1 j e\\tand Tenant have signed this agreement\\n* w and year first above mentioned.\\nWITNESSES?\\n1. X r\\n\\nOWNER\\n\\n\",\n",
       "  {'entities': [(285, 318, 'PartyTwo'),\n",
       "    (2014, 2036, 'Notice'),\n",
       "    (99, 117, 'PartyOne'),\n",
       "    (85, 95, 'AggStart'),\n",
       "    (1418, 1428, 'AggValue'),\n",
       "    (2549, 2559, 'AggValue')]}),\n",
       " ('RENTAL AGREEMENT\\nTHE AGREEMENT\\nThe landlord agrees to give the tenant:\\na copy of this agreement at or before the time the agreement is signed and given by the tenant to the landlord or a person on the landlord’s behalf; and\\na copy of the agreement signed by both the landlord and the tenant, as soon as reasonably practicable.\\nRENT\\nTerm: the term of this rental agreement shall be for a period of one (1) year, from the execution of this agreement renewable for a like period from mutual agreement and subject to such terms and conditions to be agreed upon by the parties; provided, however, that even before the termination of said ONE (1) year period, either party may be terminated this lease, by giving advance one month notice to the landlord; in the absence of written notice, nor a word of advice from tenant, two successive non- payment of rentals will be a valid cause for termination of this agreement/contract.\\nAgreed monthly rental for the use and occupancy of residential unit will be Php 3,500.00 Philippines currency in cash payable on the date of occupancy. Said monthly rental is exclusive of electric bill, water bill and other services, which shall become exclusively by tenant.\\nUpon the execution of this agreement, the tenant will pay the landlord the sum of Seven Thousand Pesos (Php 7,000.00) which amount is equivalent to one month deposit and one month advance for the leased premises. The deposit is to guarantee secure faithful compliance with the terms and conditions set forth therein, on the part of the tenant, and to be applied in the following manner- all accountabilities will be determined first, like broken fixture, lost ones and others and balance will be applied to rent.\\nThe landlord agrees to provide an acknowledgement receipt for any rent paid to the landlord. (The landlord is not required to provide or to make available an acknowledgement receipt if rent is paid into the landlord’s account.)\\nUSE OF THE PREMISES\\nThe tenant agrees:\\nnot to use the residential premises, or cause or permit the premises to be used, for any illegal purpose; and\\nnot to cause or permit a nuisance; and\\nnot to interfere, or cause or permit interference, with the reasonable peace, comfort or privacy of neighbors.\\nLANDLORD’S ACCESS TO THE PREMISES\\nThe landlord, the landlord’s agent or any person authorized in writing by the\\nlandlord, during the currency of this agreement, may only enter the rented\\npremises in the following circumstances:\\nin an emergency (including entry for the purpose of carrying out urgent repairs); or\\nto inspect the premises, if the tenant gets 1 day notice\\nto carry out necessary repairs, if the tenant gets 2 days notice on each occasion.\\nCLEANLINESS, REPAIRS AND DAMAGE TO THE PREMISES\\nThe landlord agrees:\\nto make sure the residential premises are reasonably clean and fit to live in; and\\nto keep the premises in reasonable repair, considering the age of, the amount of rent paid for and the prospective life of the premises.\\nThe tenant agrees:\\nto keep the residential premises reasonably clean; and\\nto notify the landlord as soon as practicable of any damage to the premises; and\\nnot to intentionally or negligently cause or permit any damaged to the premises.\\nALTERATIONS AND ADDITIONS TO THE PREMISES\\nThe tenant agrees:\\nnot attach any fixture or renovate, alter, or add to the residential premises without the landlord’s written permission; and\\nnot to remove, without the landlord’s written permission, any fixture attached by the tenant; and\\nto notify the landlord of any damaged caused by removing any fixture attached by the tenant; and\\nto repair any damage caused by removing the fixture or compensate the landlord for the cost of repair, if the landlord asks.\\nLOCKS AND SECURITY DEVICES\\nThe landlord agrees:\\nto provide and maintain locks or other security devices necessary to keep the residential premises reasonably secure; and\\nnot to alter, remove or add any lock or other security device without reasonable excuse; and\\nto give the tenant a copy of the key or opening device or information to open any lock or security device which is added or altered. Lost\\nkey(s) caused by the tenant, may be replaced by the owner at a cost of P150/key. Key(s) are to be returned by the tenant to the owner at the end of the agreement.\\nThe tenant agree:\\nnot to alter, remove or add any lock or other security device without reasonable excuse; and\\nto give landlord a copy of the key or opening device or information to open any lock or security device which is altered or added, except where the landlord agrees not to given a copy.\\nNumber of people in the Room\\nA maximum of four (4) people at any one time is allowed to stay in the rented Room.\\nBehavior of visitors\\nAn occupier of a room must take all reasonable steps to ensure that their visitors or invited guests do not behave in a manner likely to interfere with the peaceful enjoyment of the owner.\\nStorage of inflammable liquids and other substances and materials.\\nAn occupier must not use or store on property any inflammable chemical, liquid or gas or other inflammable material.\\nThis by-law does not apply to chemicals, liquids, gases or other material used or intended to be used for domestic purposes, or any chemical, liquid, gas or other material in a fuel tank of a motor vehicle or internal combustion engine.\\nGarbage disposal. An occupier\\nMust maintain the room in a clean and tidy condition\\nMust ensure that before refuse is placed in the receptacle it is securely wrapped or, in the case of tins or other containers, completely drained and\\n\\nFor the purpose of having the garbage collected, must place the receptacle within an area designated for that purpose by the owners corporation and at a time not more than 12 hours before the time at which garbage is normally collected.\\nGarbage Collection Fee\\nHOW TO END A CONTINUING AGREEMENT\\n* A fixed term agreement may be ended for the following reasons, provided that at least 14 days notice is given:\\nif the tenant breaks one of the agreement’s term;\\nif the tenant is more than 2 months arrears of rent;\\nif the landlord breaks one of the agreement’s terms;\\nif the landlord or tenant wants to end the tenancy at the end of a fixed term agreement (in which case notice can be given until the final day of the fixed term period, otherwise the agreement becomes a continuing agreement).\\nRENT INCREASES\\nThe landlord cannot increase the rent during the fixed term.\\nAfter the agreement fixed term ended and the tenant wishes to continue the rent. The landlord and the tenant agree an additional seven (7) percent of the previous contract amount which will be integrated to the new Rental Agreement.\\nSCHEDULE OF RENT PAYMENTS\\nSeptember 17, 2014\\nOctober 17, 2014\\nNovember 17, 2014\\nDecember 17, 2014\\nSPECIAL CONDITIONS\\n\\nIt is agreed between the Landlord and the Tenant that the Managing Agent/Landlord has the right to enter the leased premises to carry out periodic inspections of the property anytime with proper notice.\\nThe tenant(s) agrees to supply their telephone number to the Managing Agent/Landlord and inform the landlord/agent immediately of any changes.\\nThe tenant(s) cannot keep pets in the premises.\\nThe tenant agrees that special care will be taken to ensure that the walls are kept free of marks. The tenant agrees that no decorating and/or painting occur within the premises unless permission is given by the landlord.\\nThe tenant(s) agree that if the rent is paid by check and it is dishonored, then the tenant will compensate the agent for the dishonor fee and then the Managing Agent/Landlord has the right not to accept further check payments from the tenant.\\nI HAVE READ, UNDERSTOOD AND CONCUR WITH THE CONTENTS AND STIPULATIONS OF THIS RENTAL AGREEMNT.\\nLANDLORDS AGENT:\\nCATHERINE CABOCHAN\\tMICHAEL DELA CRUZ\\nTENANT REQUIREMENT:\\nPhoto Copy of Two Governments Valid I.D. NBI / Police Clearance',\n",
       "  {'entities': [(6684, 6702, 'AggStart'),\n",
       "    (7748, 7766, 'PartyOne'),\n",
       "    (7767, 7784, 'PartyTwo'),\n",
       "    (715, 731, 'Notice'),\n",
       "    (998, 1010, 'AggValue')]}),\n",
       " ('RENTAL AGREEMENT\\nThis Rental Agreement made and executed at Bangalore on this 1st day April two thousand eleven (01/04/2011), between Prof. K. Parthasarathy, S/o. Late T.S.Krishna Iyengar aged about 75 years, No. 46, Srinivasa, 2nd Main Road, Hanumanthanagar, Bangalore-560019, herein after called “LESSOR” (which expression shall where-ever the context so requires or permits mean and include here heirs, executors, administrators and assign) of the FIRST PART.\\nAND\\nMr. Veerabrahmam Bathini, S/o Mr.Lingaiah Bathini aged about 28 years (Sr. Engineer-PSS working at Power Research and Development Consultants, #5, 11th cross, 2nd stage, West of Chord Road, Bangalore-560086, herein after called “LESSEE” (Tenant) of the SECOND PART.\\nWITNESSETH AS FOLLOWS:\\nThe Lessor hereby covenants with Lessee and warrants that he is the owner and as such as the right and the authority to lease the First Floor of premises No. 146, Krishna Krupa, 3rd Cross, 1st Main, VHBCSL Layout, West of Chord Road, Bangalore-560086.\\nThe Lessor hereby agrees to let to the Lessee the First Floor of the premises, No. 146, Krishna Krupa, 3rd Cross, 1st Main, VHBCSL Layout, West of Chord Road, Bangalore- 560086 on the following terms conditions.\\nThe Lessee will pay the Lessor for the premises herein described in the schedule, a monthly rent of Rs.8,000/- (Ruppes eight thousand only). The rent shall be paid on or before 10th of each calendar month without deductions whatsoever. If the Lessee fails to pay the monthly rent in time, the Lessor shall have the liberty to resume the schedule premises without re-course to any action, legal or other wise.\\nThe Lessee shall not pay any advance to the premises.\\nThis rental agreement shall be valid for a period of twelve months, from the date of execution and subject to renewal on expiry of the above lease period on execution of fresh LEASE-DEED on mutual consent.\\nUnder no circumstances, the schedule premises shall be sublet or underlet to any one else but shall be used by lessee for his bonafide residence only.\\nThe Lessee undertakes the full responsibility for the payment of all electric and water charges and receipts retained for record.\\nAdditions or alterations shall not be made to th existing structure without written consent from the Lessor.\\nIf any damage is caused to the schedule premises, the same shall be got repaired by the Lessee at his own cost.\\nThe Lessee upon termination of this agreement will peacefully and quietly leave to the Lessor the possession of the said premises together with the fixtures and fittings as given below in substantially same condition by the lessee except for the normal wear and tear.\\nThe Lessor or his authorized agent shall be permitted to enter schedule premises at all reasonable hours to inspect the same for its wear and tear.\\nBoth the parties agree that this lease agreement may be terminated by the Lessee by giving three months notice in writing.\\nSCHEDULE\\nThe first floor of the No. 146, VHBCSL Layout, 3rd cross, 1st Main, Bangalore-560086 bounded by\\nEast by 147 and North by 161\\nWest by Road and South by Road\\n\\n\\n\\n\\n\\n\\n\\n\\n\\n\\n\\n\\n\\n\\n\\n\\n\\n\\n\\n\\n\\n\\n\\n\\n\\n',\n",
       "  {'entities': [(467, 491, 'PartyTwo'),\n",
       "    (134, 156, 'PartyOne'),\n",
       "    (2898, 2917, 'Notice'),\n",
       "    (113, 123, 'AggStart'),\n",
       "    (1320, 1328, 'AggValue')]}),\n",
       " ('\\n\\n\\n\\n\\n\\n\\n\\n\\n\\n\\n\\n\\n\\n\\n\\n\\n\\n\\nRENTAL AGREEMENT\\nThis RENTAL AGREEMENT is made and executed at Bangalore, on this 5th day of April, 2012, between Mrs, PADMAVATI, 154/2,1st floor, 9th Cross, Byrasandra Main Road,G M Palya, Bangalore - 560 075. hereinafter called the ‘OWNER’ of one part\\nMrs. SANGHAMITRA PARIDA, Working at: Sasken CommunicationTechnologies Ltd, 139/25, Ring Road, Domlur Bangalore 560 071, hereinafter called the ‘TENANT’ of the other part.\\nWhereas the Tenant has Requested the Owner to let out a house, 154/2, Ground floor, 9th Cross, Byrasandra Main Road, G M Palya, Bangalore - 560 075 .In consideration of the rent hereinafter reserved and the condition herein after stated\\nNOW THIS AGREEMENT WITNESSETH AS FOLLOWS:\\nThe Tenant shall pay a monthly rent of Rs.8000 on or before 5th of every month. Rent will be start from at the time of occupation The rent enhancement shall be increased at 10% after 11 months\\nThe Tenant has to pay the security deposit amount of Rs. 60000.The Tenant paid cash Rs.60000/- Dated :05/04/2012 will be paid at time of occupation The owner acknowledges the receipt of the same. The security deposit amount of Rs. 60000 shall not carry any interest but will be refundable to the Tenant on the termination of Tenancy. After deducting any dues in rent/electricity/damages etc.,\\nThe Tenancy shall be in force for the period of (11) Months from the 5th April of 2012. month of tenancy being the English Calendar month.\\n\\nThe owner shall have the right to terminate the tenancy if the tenant fails to pay the rent regularly for a consecutive period of two months or commits breach of any of the terms herein and take possession of the premises.\\nThe Tenant shall use the premises only for Residential purpose and shall not use it any offensive or objectionable purposes business etc. without permission of the Owner. The Tenant shall keep the premises neatly in tenentable condition and shall not make any alteration therein without permission of the Owner.Also any damges happened during the stay,the cost for the damages and assocites expenses shall be recovered in the advance or extra.\\nThe Tenant shall pay Electricity and water charges separately to the concerned authority and the owner shall pay the property taxes.\\nThe tenancy may be renewed for further period/s mutually agreed between the parties on the terms and conditions to be specified at that time.\\nIt is hereby agreed that one-month notice on either side is required for the termination of tenancy.\\nThe tenant shall pay one month rent towards painting and cleaning charges at the time of vacating the schedule premises.\\nThe foilwing fixures and accesariesr are provided by the owner in good condition,the same shall be in operatable conditions while leaving.\\nCeiling fans-Khaitan\\t3\\tNos\\nTube lights-Surya\\t3\\tNos\\nExhaust fans\\t1\\tNo\\nBulbs\\t5\\tNos\\nSCHEDULE\\nAll the piece and parcel of the house premises, 154/2, Ground floor, 9th Cross, Byrasandra Main Road, G M Palya, Bangalore - 560 075. consisting of: 1 Hall, 1 Kitchen, 2 Bed rooms, 1 Bath & Toilet.,\\nIN WITNESS WHEREOF the parties have set their respective hands unto this agreement, the day and year first above written.\\nWITNESSES :\\n1.\\tOWNER\\nTENANT',\n",
       "  {'entities': [(273, 296, 'PartyTwo'),\n",
       "    (101, 123, 'AggStart'),\n",
       "    (2416, 2432, 'Notice'),\n",
       "    (133, 147, 'PartyOne'),\n",
       "    (762, 769, 'AggValue')]}),\n",
       " ('HOUSE RENTAL AGREEMENT\\nThis Rental Agreement or Residential Lease shall evidence the complete terms and conditions under which the parties whose signatures appear below have agreed. Landlord, SUHAIMI BIN AG. AMAN AND NOOR AZEENAH BINTI MICHAEL, shall be referred to as \"OWNER\" and Tenant(s)/Lessee, MOHD KHAIRUN BIN ZAKARIA shall be referred to as \"RESIDENT.\" As consideration for this agreement, OWNER agrees to re nt/lease to RESIDENT and RESIDENT agrees to rent/lease from OWNER for use solely as a private residence, the premises located at HOUSE NO. 97, JALAN DUGANG TAMBALANG,TUARAN in the state of SABAH\\nTERMS: RESIDENT agrees to pay in advance RM 450 per month on the\\t. This\\nagreement shall commence on 1st July 2014 and continue for one (1) year as leasehold. Thereafter it shall become a month-to-month tenancy. If RESIDENT should move from the premises prior to the expiration of this time period, he shall be liable for all rent due until such time that the Residence is occupied by an OWNER approved paying RESIDENT and/or expiration of said time period, whichever is shorter.\\nPAYMENTS: Rent and/or other charges are to be paid at such place or method designated by the owner as follows\\nAll payments are to be made by Cash/ Fund Transfer or via Cash Deposit Machine. OWNER acknowledges receipt of the First Month\\'s rent of RM 450, and a Security Deposit of RM 900 (2 months deposit), and additional charges/fees for RM 350 (utilities), for a total payment of RM 1700. All payments are to be made payable to SUHAIMI AG. AMAN/ NOOR AZEENAH MICHAEL.\\nSECURITY DEPOSITS: The total of the above deposits shall secure compliance with the terms and conditions of this agreement and shall be refunded to RESIDENT within 30 days after the premises have been completely vacated less any amount necessary to pay OWNER;\\nany unpaid rent,\\ncleaning costs,\\nkey replacement costs,\\ncost for repair of damages to premises and/or common areas above ordinary wear and tear, and\\nany other amount legally allowable under the terms of this agreement. A written accounting of said charges shall be presented to RESIDENT within 14 days of move-out. If deposits do not cover such costs and damages, the RESIDENT shall immediately pay said additional costs for damages to OWNER.\\nUTILITIES: RESIDENT agrees to pay all utilities and/or services based upon occupancy of the premises.\\nPETS: No animal, fowl, fish, reptile, and/or pet of any kind shall be kept on or about the premises, for any amount of time, without obtaining the prior written consent and meeting the requirements of the OWNER. Such consent if granted, shall be revocable at OWNER\\'S option upon giving a 30 day written notice. RESIDENT also agrees to carry insurance deemed appropriate by OWNER to cover possible liability and damages that may be caused by such animals.\\nLIQUID FILLED FURNISHINGS: No liquid filled furniture, receptacle containing more than ten gallons of liquid is permitted without prior written consent and meeting the requirements of the OWNER. RESIDENT also agrees to carry insurance deemed appropriate by OWNER to cover possible losses that may be caused by such items.\\nNOISE: RESIDENT agrees not to cause or allow any noise or activity on the premises which might disturb the peace and quiet of another RESIDENT and/or neighbor. Said noise and/or activity shall be a breach of this agreement.\\nDESTRUCTION OF PREMISES: If the premises become totally or partially destroyed during the term of this Agreement so that RESIDENT\\'S use is seriously impaired, OWNER or RESIDENT may terminate this Agreement immediately upon three day written notice to the other.\\nCONDITION OF PREMISES: RESIDENT acknowledges that he has examined the premises and that said premises, all furnishings, fixtures, furniture, plumbing, heating, electrical facilities, all items listed on the attached property condition checklist, if any, and/or all other items provided by OWNER are all clean, and in good satisfactory condition except as may be indicated elsewhere in this Agreement. RESIDENT agrees to keep the premises and all items in good order and good condition and to immediately pay for costs to repair and/or replace any portion of the above damaged by RESIDENT, his guests and/or invitees, except as provided by law. At the termination of this Agreement, all of above items in this provision shall be returned to OWNER in clean and good condition except for reasonable wear and tear and the premises shall be free of all personal property and trash not belonging to OWNER. It is agreed that all dirt, holes, tears, bums, and stains of any size or amount in the carpets, drapes, walls, fixtures, and/or any other part of the premises, do not constitute reasonable wear and tear.\\nALTERATIONS: RESIDENT shall not paint, wallpaper, alter or redecorate, change or install locks, install antenna or other equipment, screws, fastening devices, large nails, or adhesive materials, place signs, displays, or other exhibits, on or in any portion of the premises without the written consent of the OWNER except as may be provided by law.\\n11: PROPERTY MAINTENANCE: RESIDENT shall deposit all garbage and waste in a clean and sanitary manner into the proper receptacles and shall cooperate in keeping the garbage area neat and clean. RESIDENT shall be responsible for disposing of items of such size and nature as are not normally acceptable by the garbage hauler. RESIDENT shall be responsible for keeping the kitchen and bathroom drains free of things that may tend to cause clogging of the drains. RESIDENT shall pay for the cleaning out of any plumbing fixture that may need to be cleared of stoppage and for the expense or damage caused by stopping of waste pipes or overflow from bathtubs, wash basins, or sinks.\\nCHANGE OF TERMS: The terms and conditions of this agreement are subject to future change by OWNER after the expiration of the agreed lease period upon 30-day written notice setting forth such change and delivered to RESIDENT. Any changes are subject to laws in existence at the time of the Notice of Change Of Terms.\\nTERMINATION: After expiration of the leasing period, this agreement is automatically renewed from month to month, but may be terminated by either party giving to the other a 3 0-day written notice of intention to terminate. Where laws require \"just cause\", such just cause shall be so stated on said notice. The premises shall be considered vacated only after all areas including storage areas are clear of all RESIDENT\\'S belongings, and keys and other property furnished for RESIDENT\\'S use are returned to OWNER. Should the RESIDENT hold over beyond the termination date or fail to vacate all possessions on or before the termination date, RESIDENT shall be liable for additional rent and damages which may include damages due to OWNER\\'S loss of prospective new renters.\\nPOSSESSION: If OWNER is unable to deliver possession of the residence to RESIDENTS on the agreed date, because of the loss or destruction of the residence or because of the failure of the prior residents to vacate or for any other reason, the RESIDENT and/or OWNER may immediately cancel and terminate this agreement upon written notice to the other party at their last known address, whereupon neither party shall have liability to the other, and any sums paid under this Agreement shall be refunded in full. If neither party cancels, this Agreement shall be prorated and begin on the date of actual possession.\\nINSURANCE: RESIDENT acknowledges that OWNERS insurance does not cover personal property damage caused by fire, theft, rain, war, acts of God, acts of others, and/or any other causes, nor shall OWNER be held liable for such losses. RESIDENT is hereby advised to obtain his own insurance policy to cover any personal losses.\\nRIGHT OF ENTRY AND INSPECTION: OWNER may enter, inspect, and/or repair the premises at any time in case of emergency or suspected abandonment. OWNER shall give 24 hours advance notice and may enter for the purpose of showing the premises during normal business hours to prospective renters, buyers, lenders, for smoke alarm inspections, and/or for normal inspections and repairs. OWNER is permitted to make all alterations, repairs and maintenance that in OWNER\\'S judgment is necessary to perform.\\nASSIGNMENT: RESIDENT agrees not to transfer, assign or sublet the premises or any part thereof.\\nPARTIAL INVALIDITY: Nothing contained in this Agreement shall be construed as waiving any of the OWNER\\'S or RESIDENT\\'S rights under the law. If any part of this Agreement shall be in conflict with the law, that part shall be void to the extent that it is in conflict, but shall not invalidate this Agreement nor shall it affect the validity or enforceability of any other provision of this Agreement.\\nNO WAIVER: OWNER\\'S acceptance of rent with knowledge of any default by RESIDENT or waiver by OWNER of any breach of any term of this Agreement shall not constitute a waiver of subsequent breaches. Failure to require compliance or to exercise any right shall not be constituted as a waiver by OWNER of said term, condition, and/or right, and shall not affect the validity or enforceability of any provision of this Agreement.\\nATTORNEY FEES: If any legal action or proceedings be brought by either party of this Agreement, the prevailing party shall be reimbursed for all reasonable attorney\\'s fees and costs in addition to other damages awarded.\\n\\nJOINTLY AND SEVERALLY: The undersigned RESIDENTS are jointly and severally responsible and liable for all obligations under this agreement.\\nREPORT TO CREDIT/TENANT AGENCIES: You are hereby notified that a nonpayment, late payment or breach of any of the terms of this rental agreement may be submitted/reported to a credit and/or tenant reporting agency, and may create a negative credit record on your credit report.\\nNOTICES: All notices to RESIDENT shall be served at RESIDENT\\'S premises and all notices to OWNER shall be served at NO. 343, Jalan Baru Kg. Benoni, 89607, Papar\\nINVENTORY: The premises contains the following items, that the RESIDENT may use.\\nWater Pump\\nWater Heater\\nHouse Alarm\\nWater Tank\\nKEYS AND ADDDENDUMS: RESIDENT acknowledges receipt of the Keys (\\t) and House\\nAlarm Remote (1) which shall be deemed part of this Agreement:\\nENTIRE AGREEMENT: This Agreement constitutes the entire Agreement between OWNER and RESIDENT. No oral agreements have been entered into, and all modifications or notices shall be in writing to be valid.\\nRECEIPT OF AGREEMENT: The undersigned RESIDENTS have read and understand this Agreement and hereby acknowledge receipt of a copy of this Rental Agreement.\\nMOHD KHAIRUN BIN ZAKARIA\\tSUHAIMI AG. AMAN\\nG21786\\t790728 — 12 — 5105\\nWITNESS’S SIGNATURE\\nNOOR AZEENAH MICHAEL 810806-12-5182',\n",
       "  {'entities': [(192, 243, 'PartyOne'),\n",
       "    (299, 323, 'PartyTwo'),\n",
       "    (3589, 3613, 'Notice'),\n",
       "    (10632, 10656, 'PartyTwo'),\n",
       "    (711, 724, 'AggStart'),\n",
       "    (652, 658, 'AggValue'),\n",
       "    (1336, 1342, 'AggValue')]}),\n",
       " ('RENTAL AGREEMENT\\nParties\\nThe parties to this agreement are LEE MING. IC 521212-01-6009 hereinafter called “landlord,” and JIMMY SINAU. IC 850419-13-5213 herinafter called “tenant.”\\nProperty\\nLandlord hereby lets the following property to tenant for the term of this agreement: (a) the real property known as:\\n58-01-02, Jalan pulai 45. Taman pulai utama, 81300 Skudai.\\nTerm\\nThis agreement shall run from 1-8-2011 to 1-8-2012.\\nRent\\nThe monthly rental for said property shall be RM 450 due and payable by check by the First day of each month.\\nDeposits\\nTenant will pay the following deposits and/or fees: Deposit: RM450, Utilities :RM450\\nThis amount will be refunded within three weeks following the termination of the tenancy; unpaid rent, charges for damages beyond normal wear and tear, and costs for reasonable cleaning may be deducted.\\nIn addition, it is agreed:\\nTenant shall not lease, sublease or assign the premises without the prior written consent of the landlord (but this consent shall not be withheld unreasonably).\\nLandlord may enter the premises at reasonable times for the purpose of inspection, maintenance or repair, and to show the premises to buyers or prospective tenants. In all instances, except those of emergency or abandonment, the landlord shall give tenant reasonable notice (at least one day) prior to such an entry.\\nTenant agrees to occupy the premises and shall keep the same in good condition, reasonable wear and tear excepted, and shall not make any alterations thereon without the written consent of the landlord.\\nTenant agrees not to use the premises in such a manner as to disturb the peace and quiet of other tenants in the building. Tenant further agrees not to maintain a public nuisance and not conduct business or commercial activities on the premises.\\nTenant shall, upon termination of this agreement, vacated and return dwelling in the same condition that it was received, less reasonable wear and tear, and other damages beyond the Tenant’s control.\\nIn a dispute between landlord and tenant which gives rise to any action in court, the losing party will pay the court costs and reasonable attorney fees of the successful party.\\nWe, the undersigned, agree to this Rental Agreement:\\n\\n\\n',\n",
       "  {'entities': [(122, 133, 'PartyTwo'),\n",
       "    (59, 67, 'PartyOne'),\n",
       "    (402, 410, 'AggStart'),\n",
       "    (414, 422, 'AggEnd'),\n",
       "    (475, 481, 'AggValue')]}),\n",
       " (\"\\n\\nROOM RENTAL AGREEMENT\\nThis is a legally binding agreement. It is intended to promote household harmony by clarifying die expectations and responsibilities of the homeowner or Principal Tenant (Landlords) and Tenant when they share the same home. The term “Landlord” refers to either homeowner or Principal Tenant.\\nLandlord shall provide a copy of this executed (signed) document to the Tenant, as required by law.\\nTerms\\nLength of Agreement: Month-to-Month\\nEither party may cancel or change terms of this agreement upon thirty (30) days WRITTEN notice. The notice period may be lengthened or shortened by WRITTEN agreement, but no less than 7 days.\\nRent\\ny k0_0\\t_, is payable monthly on the\\tLh.\\tday of the month, to\\t\\nRent jS does / CJdoes not include utilities. If it does not, utility bills will be apportioned as follows:\\nGas/Electricity: Tenant pays\\t0 o of monthly bill.\\nD Water/Garbage: Tenant pays\\t° o of monthly bill.\\nPhone: Tenant pays\\t0 o of monthly bill plus personal long distance calls.\\nD Other:\\t\\tTenant pays„\\t0 o of monthly bill.\\n\\nConflict Resolution\\nEach housemate will strive to develop mutual cooperation with all other housemates. Should disagreements arise, each shall try to resolve the dispute in good faith using clear communication. If disputes continue thereafter, the housemates agree to the following methods of conflict resolution:\\nD Decision by household consensus D Mediation by impartial third party □ Decision by household majority vote\\nPrivacy\\nAs required by law, die landlord may enter the tenant's room only for the following reasons: (a) in case of emergency; (b) to make necessary or agreed-upon repairs, decorations, or improvements, supply necessary or agreed-upon services, or exhibit the dwelling unit to prospective or actual purchasers, mortgagees, tenants, workers, or contractors; (c) when the tenant has abandoned or surrendered the premises; or (d) pursuant to court order. The landlord must give the tenant b&gfs notice of intent to enter and may enter only during normal business hours, excepting by necessity, cases (a) and (c) above.\\nDeposits\\nLast mop&\\\\(s^rent: Security deposit:\\nThis “other” deposit is refundablmvithin\\tdays after tenant\\nvacates the premises. If any pomonyof it is deducted, an accounting and verification of the reasonableness of the deduction will be provided.\\nThe security deposit may be used for the purpose of repairing damage for which the tenant is responsible (beyond normal wear and tear), cleaning, or paying unpaid rent or utilities. The landlord and the tenant shall conduct a pre-move out inspection of the rental BEFORE the tenant moves out at which time the landlord shall inform die tenant of needed repairs and/or cleaning in WRITING. The tenant shall have the right to make any repairs identified at the pre-move out inspection at his or her expense before the move out date without deduction from the security deposit. Within three weeks after the tenant moves out, die landlord shall return the deposit to the tenant widi accrued interest less any deductions, if any, the landlord is entided to under diis agreement. If any deductions are made, the landlord shall provide the tenant with a written itemized statement of expenses and receipts for cleaning or repairs for which deductions were made from the deposit.\\nThis residence being in the County of Santa Cruz (with the exception of Scotts Valley), simple interest will be paid annually on the security deposit and/or last month's rent to the tenant, pursuant to current local ordinance.\\n\\nOther Agreements\\nLandlord Inns\\tii\\\\e\\trirjhh ~tz> -ftRm\\\\\\\\nc\\\\ {p dht Cnnbr^cJ'\\nmiuj 'Ume\\tif.\\tdecant\\t^liJs\\tk>\\trm f on ntlruc. ar\\nLloUlIc^ cwj\\to{ h\\\\e\\tn Lnve\\t\\t\\t\\t\\nFill out a) or b) as it appliesoto youf situation\\nD A) Principal Tenant D will H bias provided tenant a copy of the Condition of Rental Property Checklist, completed when houXehold first moved in.\\nMegan’s Law\\n“Pursuant To Section 290.46 of Mie Penal Code, in/ormation about specified registered sex offenders is made available to the public via an Internet Web site tnmntained by the Department of Justice at www.meganslaw. ca.gov. Depending on an offender’^criminal history, this information will include either the address at which the offender resides or the community of residence and ZIP Code in which he or she resides.”\\nLead-Based Paint Disclosure\\n\\tTenant(s) acknowledge(s)/^ece\\\\pt of “Disclosure of Information on Lead-Based Paint or Lead-\\nBased Paint Hazards” from landlord/agent.YRequired for homes built before 1978.) Available online at\\nhttp://www.epa.gov/lead/pubs/Jesr_eng.pdf\\n\\tTenant(s) acknowledge^) receipt of\\\\the pamphlet Protect Your Family from Lead in Your Home.\\n(Required for homes built before 1978.) Landlord may call 1-800-424-LEAD or go to http://www.epa.gov/lead/mibs/leadpdfe.pdf to obtain a copy of the pamphlet.\\n \\n\\n\\n\\n\\n\\n\\n\\n\",\n",
       "  {'entities': []}),\n",
       " ('\\n\\n\\n\\n\\n\\n\\n\\n\\n\\n\\n\\n\\n\\n\\n\\nLEASSE AGREEENT\\nTHIS INDENTURE IS MADE ON THIS THE DAY OF 1stDAY OF SEPTEMBER\\n2018 (TWO THOUSAND EIGHTEEN)\\nPage -2\\nBETWEEN\\nSMT PARMESHWARI DEVI JOSHI (PAN No. ACWPJ1537D), W/O Sri Chothmal Joshi ,Hindu by faith, Occupation-Housewife, Residing at-Joshi Kunj, opposite Akashwani, 2nd Mile Sevoke road, Siliguri. West Bengal — hereinafter called the LESSOR/FIRST PARTY (which expression shall mean and include excluded by or repugnant to the context her heirs, executors, sucessors, administrators, representatives and assigns) of the FIRST PART.\\n\\nAND\\nTECHNOCULTURE BUILDING CENTRE PRIVATE LIMITED, a Private Limited Company incorporated under the Indian Companies Act 1956 having its incorporation No.\\tand its registered office at flat no 417, Ashiana\\ntower, Exhibition Road Patna- 1, Bihar — hereinafter called the LESSEE/ SECOND PARTY (which expression shall mean and include unless excluded by or repugnant to the context its office bearers, successors in office, successors in interest and assigns) of the SECOND PART represented by its Branch-in-Charge duly authorized for this MISS YASODA SUNWAR Daughter of Late Phulman Sunwar, Hindu by religion, Indian by Nationality, Service by occupation resident of Turibari, Junglee Mohal, P.0. Salugara-08, P.S. Bhaktinagar, District Jalpaiguri in the State of West Bengal.\\nWHEREAS:\\nThe LESSOR is the sole and absolute Owner in respect of all that a premises measuring about Sq. Ft. more or less at First floor of the building named \"JOSHI KUNJ\" building situated in the 2nd Mile Sevoke Road, Opposite Akashvani Bhawan, P.S. Bhaktinagar, P.0. Ektiasal-02, Siliguri, District-Jalpaiguri as more fully described in Schedule hereunder written (for the sake of brevity herein after referred to as said \"office premises\").\\nThe LESSEE is a Private Limited Company engaged in the real estate business and as such is in need of a office space to run its business transactions and operations.\\nThe LESSOR is no way related with the activities of the LESSEE and shall not be responsible for the acts and deeds of the LESSEE.\\nThe LESSEE having requirement of same for its commercial purpose, approached/requested the LESSOR to grant lease in respect of the aforesaid office premises for a period of 36 (Thirty Six) months which shall be counted from 1st September 2018 on lease and accordingly the LESSOR agreed.\\nCont\\n\\n\\n\\nPage 3\\nto grant license in favor of the LESSEE in respect of the said well Build aforesaid office premises (as more fully described in the Schedule hereunder written) for a period of 36 (Thirty Six) months counted from the 1st September 2018.\\nThat now both the LESSOR and the LESSEE mutually decided to execute these presents of Leave and License in order to avoid all sorts of future misunderstandings and confusions amongst themselves.\\nNOW THIS AGREEMENT WITNESSETH AS FOLLOWS:\\nThat the lease agreement in favor of the LESSEE has been executed for a period of 36 (Thirty Six) months commencing from 1st September 2018.\\nThat the LESSOR shall pay to the LESSOR a monthly lease fees amounting to Rs.23000/- (Rupees Twenty Three Thousand only) per month for the period of 36(Thirty Six) months.\\nThat the LESSEE shall pay the aforesaid monthly License fee in the - succeeding month accordingly on or before the 10th of English Calendar month without claiming any deduction or abatement on any account whatsoever.\\nThat the LESSEE shall pay the proportionate share of the common maintenance expenses amounting to Rs.920/-(Rupees Nine hundred twenty ) only per month on time to the LESSOR.\\nThat the Lessee shall pay a sum of Rs.80,000/-(Rupees Eighty Thousand)only as interest free refundable security deposit to the Lessor and on completion of the lease period the Lessor shall be liable to refund the security deposit without interest subject to peaceful physical handover of the aforesaid office premises by the Lessee to the Lessor.\\nThat on the expiry of the aforesaid lease period on 31st August 202land on the request of the LESSEE in writing before one month from the date of expiry of License Period, the LESSOR at her own free will and liberty can renew the license for a further period as required by the Lessee.\\n7 That if the Lessor sells, transfers, bequeaths, gifts, mortgages or in any manner transfers ownerships or control of the office premises forming subject matter of these presents, the lease shall remain effect for full period of the lease period.\\nThat the LESSEE shall be entitled to get the electricity conlction in its own name from WBSEDCL, the Lessor shall provide NOC to the WBSEDCL in this regard.\\nThat the LESSEE herein shall at its own cost keep the aforesaid office premises in good and tenantable condition and also at its own cost make good the broken doors, window, fittings etc. excluding the liability arising out riots and act of God and normal wear and tear.\\nThat the LESSOR shall not be responsible for repairs or damages arising out of negligence of LESSEE. All repairs will be made by the LESSEE.\\nThat the Municipal Corporation holding Tax and property taxes on the office premises shall be paid by the LESSOR.\\nThat the LESSEE agrees that it shall not in any manner assign, transfer, sublet or otherwise part with the possession of the said office premises or any part thereof in favour of any person or party whomsoever.\\nThat the LESSEE agrees that it will use the said office for business/commercial purposes only and not for creating any sorts of nuisance.\\nThat the LESSEE hereby undertakes not to conduct any illegal/ antisocial / immoral / indecent activities in the said office premises.\\nThat the LESSEE shall not expose the LESSOR to any damage, loss, harm due to any legal/ Government/ Society’s action or any action by the person so affected by the misdeeds of the LESSEE.\\nThat the LESSEE shall not store any injurious goods or combustible substance in the said premises which may injure or damage the office premises or the building.\\nThat the LESSEE shall observe all the rules, regulations now in force or as may be imposed hereafter by the concerned Society, Government and Municipal Authorities in respect of its use and occupation of the said office premises from time to time.\\nThat the LESSEE shall permit the LESSOR and her agent during office hours to enter upon and inspect the condition of the aforesaid office premises.\\nCont\\tP/5\\nPage - 5\\nThat the LESSEE binds itself to vacate and handover the peaceful vacant possession of the said office in good order and condition, normal wear and tear expected removing itself together with all its articles/things on completion of the License period i.e. on 31st August 2021 to the LESSOR.\\nThat the LESSOR and the LESSEE hereby agrees with each other that if the Lessor hereof decides to terminate these presents earlier than the stipulated period herein above, then the Lessor shall serve a three clear months notice to the Lessee\\nand in case if the Lessee decides to terminate then it shall serve a one month notice expressing such intention and accordingly the said agreement shall be terminated & determined upon the expiry of the said notice period.\\nThat in case of any disputes, doubts or differences arising between the parties hereof during the continuance of the license or afterwards regarding the interpretation of the contents of these instruments of this agreement or regarding any matter or transactions then the same shall be referred to Arbitration under the Arbitration and Conciliation Act and all the disputes shall be subject to the jurisdiction of the Siliguri court.\\nSCHEDULE AS REFERRED TO ABOVE\\nAll that well built office premises measuring more or less Sq. ft. on First floor of the building named \" JOSHIKUNJ\" Building constructed on the land appertaining to Plot No. 894(C.S), 380(0Id), of Mouza Dabgram-08 reorded in Khatian No. 578(R.S), 1129(L.R) situated at 2nd Mile Sevoke Road, P.S. Bhaktinagar, P.O. Ektiasal-02 in the District of Jalpaiguri.\\nThe aforesaid building Joshi Kunj is butted and bounded as follows: - NORTH: ABA MEDICAL,\\nSOUTH : LAND AND HOUSE OF DILIP GUPTA,\\nEAST : SEVOKE ROAD,\\nWEST : LAND OF THE LESSOR,\\nIN WITNESS WHEREOF the parties have set and subscribed their respective hands and seals on the day month and year first written above.\\nWITNESS:\\n1\\t(LESSOR)\\n(LESSEE)',\n",
       "  {'entities': [(565, 610, 'PartyTwo'),\n",
       "    (139, 165, 'PartyOne'),\n",
       "    (6858, 6883, 'Notice'),\n",
       "    (74, 98, 'AggStart'),\n",
       "    (3065, 3073, 'AggValue')]}),\n",
       " ('\\n\\nRENTAL AGREEMENT\\nTHIS AGREEMENT made this 27TH Day of MARCH 2016 by and betw een RC AND PAUL PAULINO, herein called “Landlord,”\\nand\\therein called \"Tenant.\" Landlord hereby agrees to rent the premises located at\\n1441 VILA ST HONOLULU. HI 96818 under the following terms and conditions.\\nAGREEMENT:\\nTenants agree to rent the premises for a fixed term of month to month, beginning APRIL 1. 2016 and ending on going. Upon expiration, this Agreement shall become a month-to-month agreement AUTOMATICALLY. UNLESS either Tenants or Owners notify the other party in writing at least 30 days prior to expiration that they do not wish this Agreement to continue on any basis.\\nRENT:\\nTenant agrees to pay Landlord as base rent the sum of S800 per month, due and payable monthly in advance on the 1st day of each month during the term of this agreement. The first month\\'s rent is required to be submitted on or before move-in.\\nFORM OF PAYMENT:\\nTenants agree to pay their rent in the form of a personal check OR cash made out to ARSENLA PAULINO.\\nRENT PAYMENT PROCEDURE:\\nTenants agree to pay their rent in person at the same address.\\nRENT DUE DATE:\\nTenant hereby acknowledges that late payment will cause Landlord to incur costs not contemplated by this Rental Agreement. We allow 7 days grace period. In the event rent is not received prior to the 8th of the month. Tenant agrees to pay a $25 late fee. plus an additional $5 per day for every day thereafter until the rent is paid. Neither ill health, loss of job. financial emergency or other excuses will be accepted for late payment.\\nBAD-CHECK SERVICING CHARGE:\\nIn the event Tenant’s check is dishonored and returned unpaid for any reason to Landlord. Tenant agrees to pay a returned check charge of $25 AND accept whatever consequences there might be in making a late payment. If for any reason a check is returned or dishonored, all future rent payments will be cash or money order.\\nSECURITY DEPOSIT:\\nTenants hereby agree to pay a security deposit of $500 to be refunded upon vacating, returning the keys to the Landlord and termination of this contract according to other terms herein agreed. This deposit will be held to cover any possible damage to the property. No interest will be paid on this money and in no case will it be applied to back or future rent. It will be held intact by Landlord until at least thirty (30) working days after Tenants have vacated the property. At that time Landlord will inspect the premises thoroughly and assess any damages and/or needed repairs. This deposit money minus any necessary charges for missing/dead light bulbs, repairs, cleaning, etc., will then be returned to Tenant with a written explanation of deductions, within 30 days after they have vacated the property.\\nCHANGES IN TERMS OF TENANCY:\\nOwners shall advise Tenants of any changes in terms of tenancy with advance notice of at least thirty (30) days. Changes may include notices of termination, rent adjustments, or other reasonable changes in the terms of this Agreement.\\nTENANT COOPERATION:\\nTenant agrees to cooperate with the Landlord by showing property to prospective tenants, prior to termination of occupancy.\\nTENANT INSURANCE:\\nLandlord will not be liable for any loss of Tenant’s property. Tenant hereby acknowledges this and agrees to make no such claims for any losses or damages against Landlord. Tenants agree to purchase insurance - at their own expense - sufficient to protect themselves and their property from fire, theft, burglary , breakage, electrical connections. They acknowledge that if they fail to procure such insurance, it is their responsibility and they alone shall bear the consequences.\\nABANDONMENT:\\nIf Tenants leave the premises unoccupied for 15 days without paying rent in advance for that month, or while owing any back rent from previous months, which has remained unpaid, the Landlord have the right to take immediate possession of the property and to bar the Resident from returning. Landlord will also have the right to remove any property that the Residents have left behind and store it at the Tenant’s expense.\\nOCCUPANTS:\\nThe number of occupants is limited to two primary tenants. Only the Tenants may live in this residence.\\nLOCK POLICY:\\nNo additional locks will be installed on any door without the written permission of Landlord. Landlord will be given duplicate keys for all locks installed at tenants expense, before they are installed.\\nCONDITION OF PREMISES:\\nThe Tenants hereby acknowledge that the said property is in good condition. If there is anything about the condition of the property that is not good, they agree to report it to the Landlord within 3 days of taking possession of the property\\'. They agree that failure to file any written notice of defects will be legally binding proof that the property is in good condition at the time of occupancy.\\nTENANT RESPONSIBILITY:\\nGood housekeeping is expected of everyone. Tenant agrees to keep quarters clean and in a sanitary condition. The Tenants agree not to permit any deterioration or destruction to occur while they are occupying the property.\\nALTERATIONS:\\nTenant shall make no alterations, decorations, additions, or improvements in or to the premises without Landlords prior written consent, and then only by contractors or mechanics, or other approved by Landlord. All alterations, additions, or improvements upon the premises, made by either party, shall become the property of the Landlord and shall remain upon, and be surrendered with said premises, as a part thereof, at the end of the term hereof.\\nVEHICLES & GARAGE USE:\\nVehicle(s) are to find street parking.\\nUTILITIES:\\nLandlord shall be responsible for the following utilities and services in connection with the Premises:\\nElectricity - Water\\nWasher/Dryer - Trash /Recycle pick up\\nWiFi/Intemet (PAULINO series PC tych3Fortun@!)\\nNOTIFICATION OF SERIOUS\\tBUILDING PROBLEMS:\\nTenants agree to notify the landlord immediately upon first discovering any signs of serious problems such as foundation cracks, a crack in plaster, buckling drywall or siding, a spongy floor, a leaky water, etc. If the tenants does not notify landlord in a prompt matter the tenant may be held financially responsible.\\nREASONABLE TIME FOR REPAIRS:\\nUpon being notified by Tenants that there is some building defect in which is hazardous to health, life, or safety, the Landlords shall undertake repairs as soon as possible. Should there be a delay of more than seventy-two (72) hours in making repairs, due to difficulty in scheduling the work or obtaining parts or for any other reason beyond the Landlords control, the Landlords agree to keep Tenants informed about the progress of work.\\nNON-LIABILITY:\\nThe Tenants hereby state that work or repairs that need to be done will be handled by competent professionals, unless Tenants are qualified and capable of doing the work themselves and doing it properly, in a safe manner that meets all federal, state, and local regulations and have written approval from the landlord. Tenants further state that they will be legally responsible for any mishap they either do themselves or hire others to do. Landlord will be held free from harm.\\nACCESS TO PREMISES:\\n\\nThe landlords reserves the right to enter the residence at reasonable times to inspect, make necessary repairs, supply services, or show it to prospective residents, purchasers, workmen, or contractors. Whenever practicable, a 3-day confirmation notice to enter shall be given to all Tenants.\\nSUBLETTING & ASSIGNMENT:\\nTenants shall not sublet the entire premises or any part of the premises, nor shall they assign this Agreement to anyone else without first obtaining Landlords’ written permission. Prospective sub lessees or assignees must submit an application to the Landlord and must agree to credit, background, reference, and employment verification. Permission to sub rent will be determined by the sole discretion of the Landlord.\\nPETS:\\nSmall pets are allowed on the premises only by obtaining the Landlords’ permission first. When possession of the property is given to the Tenant, only those pets listed on the Rental Application will be allowed unless subsequent written permission has been granted. “Pets” does not include animals trained to serve the handicapped, such as seeing-eye dogs, hearing dogs, or service dogs. These animals may be housed on the premises so long as they are in the direct service of those they were trained to serve and so long as Landlord is notified in advance in writing of the circumstances.\\nTERMINATION UPON SALE OF PREMISES. Notwithstanding any other provision of this Rental, Landlord may terminate this rental upon 45 days written notice to Tenant.\\nFULL DISCLOSURE:\\nThe Tenants signing this Rental Contract hereby state that all questions about this Rental Agreement have been answered, that they fully understand all the provisions of the agreement and the obligations and responsibilities of each party, as spelled out herein. They further state that they agree to fulfill their obligations in every respect or suffer the full legal and financial consequences of their actions or lack of action in violation of this agreement. Signature by the Tenant on this Rental Agreement is acknowledgement and he/she has received a signed copy of the Rental Agreement.\\nAccepted this\\tday of\\t, 20\\t.\\nTenant\\nLandlord -RC & PAUL PAULINO\\tDate',\n",
       "  {'entities': [(44, 66, 'AggStart'),\n",
       "    (83, 102, 'PartyOne'),\n",
       "    (727, 741, 'AggValue')]}),\n",
       " ('\\n\\n\\n\\n\\n\\n\\n\\n\\n\\n\\n\\n\\n\\n\\n\\n\\n\\n\\n\\n\\n\\n\\n\\n\\n\\n\\n\\n\\n\\n\\nRENTAL AGREEMENT\\nTHIS RENTAL AGREEMENT is executed at Chennai - 600 041 on 14th day of July 2010 between Mr. P. JohnsonRavikumar, aged about 43 Years, residing at Plot. No: 10, Door No:3, Jeevanantham Street, Lakshmipuram Tiruvanmiyur, Chennai - 600 041. Which term shall include their heirs, assigns, nominees, hereinafter referred to as “HOUSE OWNER”.\\nand\\nMr. Saravanan BV aged about 27 years, residing at Plot. No: 10, Door No:3, Jeevanantham Street, Lakshmipuram Tiruvanmiyur, Chennai - 600 041. Which term shall include their heirs, assigns, nominees, hereinafter referred to as “TENANT”.\\nThe terms “HOUSE OWNER” and “TENANT” wherever the context so requires or admits shall mean and include their respective heirs, executors, administrators, legal representatives and assigns.\\nThe HOUSE OWNER is agreed to rent out the own house premises Plot. No: 10, Door No:3, Jeevanantham Street, Lakshmipuram Tiruvanmiyur, Chennai - 600 041 and the TENANT is agreed to occupy the same on paying monthly rent.\\nNow the HOUSE OWNER and TENANT hereby AGREE to the following terms and conditions:\\nThe agreement shall be for a period of 11 months beginning form 01.04.2010 and ending with 30.03.2011.\\nThe monthly rent, water maintenance charges for the said shall be Rs. 10,000/- (Rupees Ten Thousand only) rent should be paid according to the English calendar month and shall be payable on or before 5th of every succeeding calendar month.\\nThe tenant has paid the sum of Rs.50, 000/- (Rupees Fifty thousand only) by cash without any interest, and the House Owner has to re-pay the money while the Tenant vacating the house.\\nThe Tenant shall use the house premises for residential purpose only and not for any other purpose.\\nThe Tenant shall maintain the leased premises in good condition and repair and deliver the same at the expiry of the lease period or sooner determination of the tenancy. The tenant shall also before delivering up possession together with all the amenities provided by the House owner and the electrical fittings, repair and restore at his cost to their original.\\nThe Tenant shall not make any alterations or put up any construction in the premises.\\nThe Tenant shall not sub - let leased premise wholly or partially.\\nThat the Tenant hereby covenants to pay the electric consumption charges to the electricity board.\\nThe House Owner and Tenant hereby agree that three months advance notice in writing is essential for the tenant for vacating the premises if he chooses to terminate this agreement during the validity period.\\nIn witness whereof the house owner and tenant have set their hands and seal the day,\\nmonth and year first above written.\\nTENANT\\nWITNESSES:\\n1.',\n",
       "  {'entities': [(2404, 2431, 'Notice'),\n",
       "    (136, 159, 'PartyOne'),\n",
       "    (106, 127, 'AggStart'),\n",
       "    (389, 405, 'PartyTwo'),\n",
       "    (1286, 1296, 'AggValue')]}),\n",
       " ('RENTAL AGREEMENT\\nThis Rental Agreement is made and executed on 23 rd day of May Two Thousand Eleven (23- 05-2011)\\nM.V. Srinivas & M.V. Madhumathi aged 54 years & 42 Years , residing at No.40, 7th Cross , Shivanandanagar, Moodalapalya, Bangalore - 560072 ( Here in after referred to as the “OWNER” of the first Party ) on the first part and;\\nM.V. Thirumalesh. S/O. Late M.V. Venkataramaiah aged about 32 years, residing at No.40, 7th Cross , Shivanandanagar, Moodalapalya, Bangalore - 560072 ( Here in after referred to as the TENANT if the second part)\\nThe Word Owner and Tenant shall mean and include their respective successors, legal heirs, assignees and administrators.\\nWhereas the First Party is the Absolute Owner and in possession of the Schedule property Second Party “TENANT” is interested to take the schedule premises on rent and the Owner interested to give the schedule premises on the rent on the following terms and conditions:-\\nNOW THIS INDENTURE OF AGREEMENT IS WITNESSETH AS FOLLOWS:-\\nThe Tenant has this day paid a sum of Rs. 50,000/- (Rupees Fifty Thousand Only) to the Owner as Rent deposit and the rent deposit shall not carry any interest\\nThe Tenant agrees to pay a monthly rent of Rs. 4,200/- (Rupees Four Thousand\\nTwo Hundred Only) to the owner on or before 5th of every month without fail.\\nIf fails to pay for a period of 2 months the owner can occupy the house premises.\\nThe rent shall be increased by 5 % (Five Percent) once in every one year.\\nThe Tenant shall pay the electricity charges and water charges regularly for his Consumption.\\nThat the Tenant shall not sublet or underlet or part with any portion of the Scheduled house premises.\\nThat the Tenant shall maintain the Scheduled premises and the surrounding in Good and hygiene condition.\\nThree months advance notice has to be given by both the Tenant and the Owner for The said house premises. No Compensation has to be claimed by the Tenant during the period of vacating his scheduled house premises.\\n\\nThe Tenant shall not damage or misplace any of the fittings and fixtures thereon, if. Anything is found to be default/ misplaced. The tenant shall rectify/ replace the Same if fails to do so, the owner is empowered to deduct the cost of the same from The security deposit. So paid by the tenant to the owner.\\nThat the duration of this Agreement is for a period of 11 (Eleven) Months subject to succeeding English calendar month.\\nAll the terms and conditions are agreed as stated above.\\nPortico remains a common parking space and the tenant should Not occupy for any\\nOther purpose without the permission of the owner.\\nSCHEDULE\\nAll that piece of parcel of the house premises (I Floor) bearing No.40, 7th Cross , Shivanandanagar, Moodalapalya, Bangalore - 560072 consisting of One Hall, One Bed Room, & one Kitchen.\\nIn witness where of the Owner and Tenant have set their hands and signed this agreement of rent on the day, month and year above mentioned at Bangalore.\\nWITNESSES:\\n1.\\t( M.V. Srinivas & M.V. Madhumathi)\\nOWNER\\n( M.V. Thirumalesh)\\nTENANT',\n",
       "  {'entities': [(63, 99, 'AggStart'),\n",
       "    (114, 145, 'PartyOne'),\n",
       "    (2971, 3002, 'PartyOne'),\n",
       "    (1774, 1801, 'Notice'),\n",
       "    (341, 357, 'PartyTwo'),\n",
       "    (3012, 3028, 'PartyTwo'),\n",
       "    (1205, 1214, 'AggValue')]}),\n",
       " ('\\n\\n\\n\\n\\n\\n\\n\\n\\n\\n\\n\\n\\n\\n\\n\\n\\n\\n\\n\\n\\n\\n\\n\\n\\n\\n\\n\\n\\n\\n\\n\\n\\n\\nRENTAL AGREEMENT\\nTHIS DEED OF RENTAL AGREEMENT executed at Chennai this 19th day of August 2013 between:\\nMrs. M. Geetha, W/o. V. Manoharan, aged about 53 years, residing at No.62-D, Saravana Flats, 1st Floor, Pinagapani Street, Devaki Nagar, Kundrathur, Chennai-600 069. Hereinafter called the owner (Which expression shall, wherever the context so requires, be deemed to mean and include her legal heirs, executors, administrators and assignees) of the one part.\\nAND\\nTo and in favour of M/s. Siruvani Traders Private Limited Represented by Mr. J. L. Saravana, aged about 33 years S/o M S Jambulingam, residing at No. 13/5, Janakiraman Street, Muthurangam Block, Jafferkhanpet, Ashok Nagar, Chennai - 600 083, hereinafter called the tenant (which expression shall, wherever the context so requires be deemed to mean and include his successors- in- interest and assignees) of the other part witnesses as follows:\\n-2-\\nWhereas Mrs. M. Geetha is the absolute owner of the property at No.62-D, Saravana Flats, 1st Floor, Pinagapani Street, Devaki Nagar, Kundrathur, Chennai - 600 069 measuring 250 sq.ft and in possession and enjoyment of the same.\\nWhereas the tenant has approached the owner to take on rent the First Floor premises of the building referred in the schedule hereunder for running their business activities and the owner has also agreed for the same.\\nWHEREAS the parties herein mentioned felt expedient to reduce the terms and conditions of the rental agreement into writing.\\nTHIS RENTAL AGREEMENT WITNESSETH AS FOLLOWS:\\nThat in pursuance of the above said offer and acceptance and in consideration of a monthly rent of Rs.2500 /- herein mentioned, the owner hereby lets out the First Floor of the building bearing, No.62-D, Saravana Flats, 1st Floor, Pinagapani Street, Devaki Nagar, Kundrathur, Chennai-600 069 subject to the terms, conditions and convenants specified hereunder.\\nThis Rental Agreement shall be for a period of 11 Months commencing from August 2014.\\nThe agreed rent of Rs.2500/- has to be paid on or before 5th of every month.\\nWhile the owner shall bear the property tax, water tax, in respect of the Rented Flat, the tenant shall bear Electricity, Maintenance and Water Charges.\\nThe tenant shall use the schedule property only for the Office use.\\nThe tenant hereby covenants with the owner and assures here that.\\nThey will keep the flat in a neat and tenantable condition.\\nThey will not carry out any structural alternation to the flat leased out;\\nThey will not cause any nuisance either to the owner or to the other occupants in the building / neighbors.\\nOn the expiry of the lease he will peacefully surrender vacant possession of the schedule property to the owner.\\nThe tenant shall not sub-lease / Sub-let the flat leased out to them to anyone\\nNotwithstanding anything contained herein either party can terminate this lease by serving the other party a notice in writing 4 months in advance.\\nThe tenant shall permit the owner or her agents to inspect the flat leased out at all reasonable time to see whether all the terms and conditions of the lease are complied with by the tenant.\\nThe rental agreement can be renewed once in every 11 months with the mutual consent of the parties to this agreement\\nIN WITNESS WHEREOF THE PARHES HERETO HAVE SET AND SUBSCRIBED THEIR RESPECTIVE HANDS AND SEALS HEREUNTO ON THE DAY AND YEAR FIRST ABOVE WRISTTEN\\nWITNESSES:\\n1.\\n(OWNER)\\n2.\\n(TENANT)',\n",
       "  {'entities': [(522, 559, 'PartyTwo'),\n",
       "    (106, 129, 'AggStart'),\n",
       "    (2939, 2958, 'Notice'),\n",
       "    (139, 153, 'PartyOne'),\n",
       "    (958, 972, 'PartyOne'),\n",
       "    (1665, 1672, 'AggValue'),\n",
       "    (2032, 2039, 'AggValue')]}),\n",
       " ('RENTAL AGREEMENT\\nThis agreement of rent is made and executed at Bangalore on this 1st day of April,2009(01-04-2009) by and between:-\\nMr. Parasu Ram Mishra\\nD.no: 15/5/2 KAUSTHUBHA, K.PH.B COLONY\\nB.T.M - STAGE 2, WEST MUMBAI -70\\nHereinafter called the LESSOR/OWNER of the one part; and in favor of>\\nMr. P.Gangadhar\\nWorking at:\\nM.G.H Corporation\\nGold Hill Unit 169, Hubli Road\\nBommanabandi MUMBAI -68\\nHereinafter called the LESSEE/TENANT of the other part; witnesses as follows:-\\nWhereas the term lessor and lessee shall mean and include their respective heirs, legal representatives administrators ,and assigns ,etc.\\nAnd whereas the lessor is the sole and absolute owner of the premises situated at\\nD.no:15/5/2 KAUSTHUBHA, K.P.H.B COLONY B.T.M - STAGE 2, WEST MUMBAI -70\\nand where as the lessee has approached with the lessor to let-out the schedule premises on rental basis. And the lessor agrees to let-out the same under the following terms and conditions:-\\nwhereas the lessor agrees to let-out the schedule premises for a monthly rent of 7000/-(Rupees Seven Thousand only) per month, and the lessee shall agrees to pay the same on every month\\nWhereas the lessee shall agrees to pay the monthly rent by on or before 5th of Every English calendar month.\\nWhereas the lessee shall use the schedule premises for residential purpose only and should not use for any illegal or immoral purposes.\\nThe lease will be for period of 1 l(Eleven) months from the date of this Agreement, but it can be extended by mutual consent. The rent shall be enhanced Once in every 11 months @ 5% over the existing rent.\\nWhereas the lessee should not sub-let or underlet the schedule premises to any Other persons without written consent from the lessor.\\nWhereas the lessee shall keep the schedule premises in good and tenantable Conditions without any damages, if any damages caused by the lessee the mutual Amount can be deducted from his security deposit.\\nwhereas the lessee has paid a sum of Rs.60,000/-(Rupees Sixty thousand Only) towards security deposit by cash\\nThus the lessor has received and acknowledges the receipt of the same. This amount shall not carry any interest and the same will be refundable to the lessee at the time of vacating the schedule premises.\\nAnd whereas the lessee here by agrees to pay the water and electricity charges to the concerned authorities without arrears during this tenancy period.\\nThe lease shall vacate the premises on a one month notice from the lessor.similarly the lessee can vacate the premises after giving one month notice to the lessor.\\nAnd whereas the lessor or his subordinates or agents is at full liberty to inspect the rented premises at any reasonable hours.\\nWhereas the lessee shall agree to pay one month rent towards painting charges at the time of vacating the schedule premises.\\nSCHEDULE\\nThe accommodation consisting of:-two bed rooms one hall one kitchen, one pooja room, one dining hall, two bath and lavatory water and electricity.R.C.C.roofed building first floor with fittings and fixtures:-\\nFans\\t- 4Nos\\nTubelights\\t- 4 Nos\\nIN WITNESS WHEREOF the above named Lessor and Lessee has affixed their respective signatures to this agreement on the day month and year first above written.\\nWITNESSES:-\\n1.\\tLESSOR/OWNER\\nLESSEE/TENANT',\n",
       "  {'entities': [(133, 154, 'PartyOne'),\n",
       "    (2442, 2458, 'Notice'),\n",
       "    (2533, 2549, 'Notice'),\n",
       "    (297, 312, 'PartyTwo'),\n",
       "    (1032, 1044, 'AggValue'),\n",
       "    (104, 114, 'AggStart')]}),\n",
       " (\"\\n\\n\\n\\n\\n\\n\\n\\n\\n\\n\\n\\n\\n\\n\\n\\n\\n\\n\\n\\n\\n\\n\\n\\n\\n\\n\\n\\n\\n\\n\\n\\n\\n\\n\\n\\n\\n\\nRENTAL AGREEMENT\\nThis RENTAL AGREEMENT is made & executed on 20 April 2011 between: Mrs.Asha Ramesh &Mr.Ramesh.K.N. Residing at 1st Floor, 82A, Vysya Bank Colony, ShantiniketanLayout, Arakere Post, Bannerghatta Road, Bangalore-560076, henceforth calld the LESSOR (OWNERS), which term include their heirs, administrators and assignees of the ONE PART\\nAND\\nMrs.Sadasivuni Deepti & Mr.Sadasivuni Kiran native 53-38-20, KRM Colony, Maddilapalem, Vishakapatnam, AP530013 henceforth called the LESSEE (TENANT) which term shall mean and include their heirs, executors, administrators, legal representatives and assigns of the OTHER PART witnessed as follows:\\n\\nWHEREAS the LESSOR at the request of the LESSEE agreed to let out the entire 2nd floor\\tpremise except the\\nfront room, mentioned in the schedule below on a monthly rent of Rs.5500/-(Five thousand five hundred only}\\nThe LESSEE shall pay the monthly rent on or before 5th of every English calendarmonth.\\nThe LESSEE has deposited with the LESSOR a sum of Rs. 55,000/-(Rs. Fifty five thousand only) as Non Interest Bearing Security Deposit and the LESSOR have acknowledged with recept. The LESSOR will return the deposit to the LESSEES on the termination of rent agreement less dues if any.\\nThe rent agreement shall be in force for a period of 11 (months) from the date of Tenancy.\\nThe LESSEE shall pay the monthly electricity charges to the concerned authorities directly and keep a record. The LESSEE shall pay half of the water bill & Association Bill that comes on a monthly basis, to the LESSOR towards water &sewerage. Motor and electricity charges will be Rs. 100/month extra.\\nThe LESSEE shall maintain the cleanliness of the premise inside and outside on a daily basis, to take necessary timely action and maintain the premise well. LESSOR has the right to recover appropriate amount if there is loss/deterioration.\\nIt is hereby agreed that 2{Two} months' notice is required on either side for the termination of this Rental Agreement and all the keys &items returned as mentioned in the schedule below.\\nThe LESSEES will pay to the LESSOR 10% increment in rent on completion of 12 months stay from the date of this agreement.\\nThe LESSEE will pay to the LESSOR an amount appropriate if any damage / wear out caused to the premise including fittings electrical etc at the time of the tenancy / termination of the agreement.\\nThe LESSOR holds the right to terminate the agreement if the LESSEE fails to pay the rent regularly for consecutive period of 2 months or commits a breach of any terms herein and can take possession of the premise.\\nThe LESSEE shall use the premise for peaceful & residential purpose only and shall not do any alteration without the Consent of the LESSOR. Also the LESSEEE will not sublet, underlet, part let or part with the possession of the premise.\\nThe LESSEE& LESSOR both have retained a copy of this agreement.\\nSCHEDULE\\nThe premise is on the 2nd Floor on Site # 82A, Vysya Bank Colony, ShantiniketanLyt, Arakere Post, Bannerghatta Road, Bangalore 560 0076 and consists of one hall, one kitchen, one bedroom with shelf s,Bath Room with electric Geezer, one two wheeler parking at the ground floor, Overheadtanks, Sumps,. Complete with 3Kw AEH power electric & light fittings, glazed wall tiles in bath room, Granite Floors & Slabs in the kitchen.\\nLESSOR\\tLESSEE\\nASHARAMESH\\tSADASIVUNI DEEPTI\\nSADASHIVUNI KIRAN\",\n",
       "  {'entities': [(392, 435, 'PartyTwo'),\n",
       "    (1934, 1955, 'Notice'),\n",
       "    (99, 112, 'AggStart'),\n",
       "    (861, 868, 'AggValue')]}),\n",
       " (\"\\n\\n\\n\\n\\n\\n\\n\\n\\n\\n\\n\\n\\n\\n\\n\\n\\n\\n\\n\\nRENTAL AGREEMENT\\nThis Agreement of Tenancy is made and executed at Bangalore, on this the 1st day of February 2008, by and between\\nMr. T.RADHA KRISHNAN\\nNo-57,1st floor,’’Hemalaya”, Golf view layout Murugeshpalya, Bangalore-17\\nHereinafter referred to as the OWNER of the one part, and\\nMr.AIilllJIT BHARADWAJ\\nC/oS.R.S.Sharath, No-401\\nShri ram shankari Apt, Banashankari\\n3rd stage, Kathiguppe, Bangalore-85\\nPh-080-26727961\\nMobile: 9886463146\\nWorking for i2 Technologies India Pvt, Ltd. #132/133, Divya sree Technopolis, Yamalur post, off airport Road, Bangalore-37\\nHereinafter referred to as the TENANT of the Other Part.\\nConsideration of the rent hereinafter reserved and the conditions hereinafter stated.\\nNOW THIS AGREEMENT WITNESSETH AS FOLLOWS:\\nThe tenant shall pay a monthly rent of Rs.3,500/-(Rupees Three Thousand Five Hundred Only) on or before 5th of every month. Including Maintenance charges (water& Electricity).\\nThe tenant has deposited with owner Rs.20,000/- (Rupees Twenty Thousand Only) by way of Cash, as advance and security deposit which sum the owner hereby acknowledges. The said sum shall carry no interest but refundable to the tenant on the termination of the tenancy.\\nThe tenancy shall be in force for a period of Eleven Months commencing from 1st day of February 2008, and the month of tenancy being the English calendar month.\\nThe owner shall have the right to terminate the tenancy if the tenant fails to pay the rents regularly for a consecutive period of three months commits breach of any of the terms herein and take possession of the residence.\\nThe tenant shall use the premises only for Residential purpose and shall not use it for any offensive or objectionable purpose and shall not without the written consent of the owner sublet under lease or part with the possession of the premises any whosoever or make any alterations therein. He shall return possession of the house in as such condition as it was let out to him save normal wear and tear and shall allow the owner or his authorized agent to inspect the house at all reasonable times but with prior intimation.\\nThe owner shall allow the tenant peaceful possession and enjoyment of the premises during the continuance of the tenancy provided the tenant acts up to the terms of this agreement.\\nThe owner shall pay property taxes.\\nThe tenancy may be renewed for further period /s mutually agrees between the parties on the terms and conditions to be specified at the time.\\nIt is hereby agreed that One month notice on either side is required for the termination of the tenancy.\\nThe tenant shall not cause any damage to fixed fixtures and fittings of the above said property the tenant should return back the premises in good condition, as it let out any damages caused owner have right to deduct the amount.\\nAfter the expiry of 11 months the tenant is herein agreed to pay 5% of enhancement of the existing rent.\\nSCI!I I)I I I\\nThe premises at No-57,2nd floor,’’Hemalaya”, Golf view layout, Murugeshpalya, Bangalore-17\\nPremises Consist of Single room, Attached Bathroom & Toilet, two wheeler parking having a super built up area of\\tsq.ft.\\nFittings Fan -1 Nos, Tube lights -1 Nos, Bulps-2 Nos.\\nIN WITNESS WHEREOF, the parties have set their respective hand unto this agreement, the day, month, year first above written.\\nWITNESS:\\n1. Jagdish\\nBangalore Homes\\nNo.5, RifcoSanthosh Apartments\\t(OWNER)\\nNAL Road, Murugeshpalya Bangalore-560017\\nPH-9844495539', 9845444484\\n2. Babu\\n9448030266\\n(TENANT)\",\n",
       "  {'entities': [(110, 134, 'AggStart'),\n",
       "    (1287, 1311, 'AggStart'),\n",
       "    (304, 326, 'PartyTwo'),\n",
       "    (151, 171, 'PartyOne'),\n",
       "    (2506, 2522, 'Notice'),\n",
       "    (806, 814, 'AggValue')]}),\n",
       " ('LEASE AGREEMENT\\nThis DEED OF RENTAL AGREEMENT EXECUTED AT LANGKAWI, KEDAH DARUL AMAN MALAYSIA ON 15 SEPTEMBER 2012 between\\nROHANI BINTI ISMAIL, MALAYSIAN I.C. NO. 621118025556 who is the absolute owner of the building bearing [ NO. 73 A, KG. BUKIT NAU, PADANG MATSIRAT 07100 LANGKAWI] hereafter called the FIRST PARTY OF ONE PART.\\nAND\\n[SECOND PARTY NAME] [NAME] [ADDRESS]. Hereafter called THE SECOND PARTY OF OTHER PART WITNESSETH as follows.\\nWhereas THE PREMISE - [NO. 73 A, KG.BUKIT NAU .PADANG MATSIRAT 07100, LANGKAWI, KEDAH DARUL AMAN] is absolutely owned by the FIRST PARTY herein and,\\nWHEREAS THE SECOND PARTY approached the FIRST PARTY and requested her to let out the above said premises on monthly rent for residing purpose, the FIRST PARTY agreed to let out the above said premises under the terms and conditions hereinafter stated:-\\nThe tenancy shall begin from 01.09.2012 and shall before a duration of 12 months i.e. 01.09.2012 to 31.08.2013.\\nThe monthly rent shall be RM600-00(Ringgit Malaysia Six Hundreds Only) Per Month and payable by the SECOND PARTY during the course of FIRST WEEK of every month.\\nThe FIRST PARTY acknowledges the receipt of RM1700.00 (Ringgit Malaysia One Thousand Seven Hundreds Only) paid by the SECOND PARTY in cash on signing of the rental agreement. This amount shall be treated as house deposit (RM600-00), electricity-water deposit (RM500-00) and first monthly rental payment(RM600-00). The house deposit and electricity-water deposit shall be returned to the SECOND PARTY on his vacation of the premises, after deducting all the amounts due and payable if any by the SECOND PARTY to the FIRST PARTY on the date of the vacation of the premises by the SECOND PARTY. This amount dies not carry any interest.\\nThe SECOND PARTY further agrees to use the premises for his own residing purpose only and shall not sublet the same or assign his rights of tenancy to third parties without written permission from the FIRST PARTY.\\nThe SECOND PARTY further agrees to bear the charges connected with the electricity consumes by him and also water charges etc. and agrees to pay the same along with the monthly rent on monthly basis.\\nThe SECOND PARTY shall not make any structural alteration to the premises or put up partition wall etc. without written permission from the FIRST PARTY and shall use the premises prudently without causing damage or deterioration to the building and hand over the premises at the expiry of the lease period to the FIRST PARTY and receive back the deposit amount RM1100.00(RINGGIT MALAYSIA ONE THOUSAND AND ONE HUNDREDS) after due deductions of the money due and payable if any be the SECOND PARTY.\\nIt is definitely understood between the parties under this contact that irrespective of the time stipulated under this lease agreement, if the SECOND PARTY commits, default in paying the monthly rent for continuous period of one month, the FIRST PARTY is at liberty to terminate the RENTAL AGREEMENT unilaterally without giving notice to the SECOND PARTY and resume possession of the premises and return the deposit amount without interest after deduction of amounts due and payable by the SECOND PARTY including all the damages and other expenses sustained by the FIRST PARTY in getting the vacant possession of the premises.\\nThe SECOND PARTY shall enjoy the peaceful occupation of the premises and maintain the same in reasonable good the habitable condition.\\nIn case, the SECOND PARTY desires to vacate the premises he should give notice of ONE calendar month in writing and similarly the FIRST PARTY should give ONE month notice in writing.\\nThe owner will have right to enter the let out built in area for verification or inspection of this structure at reasonable times and carry out repairs in necessary.\\n2- Signature of witness:\\n',\n",
       "  {'entities': [(3497, 3525, 'Notice'),\n",
       "    (123, 142, 'PartyOne'),\n",
       "    (336, 353, 'PartyTwo'),\n",
       "    (875, 885, 'AggStart'),\n",
       "    (932, 942, 'AggStart'),\n",
       "    (946, 956, 'AggEnd'),\n",
       "    (984, 989, 'AggValue'),\n",
       "    (1341, 1346, 'AggValue'),\n",
       "    (1422, 1427, 'AggValue')]}),\n",
       " ('House Rental Contract\\nKNOWN ALL MEN BY THESE PRESENTS:\\nThis House Rental Contract, made and entered into this 20th day of May 2007 at Manila by and between:\\nAntonio Levy S. Ingles. Jr. and/or Mary Rose C. Ingles, of legal age, with residence and postal address at Unit 2006 EGI Taft Tower 2339 Taft Avenue, Malate, Manila, And herein referred to as the Owner(s),\\n— And —\\nGERALDINE O. GALINATO. of legal age, with residence and postal address at 6 Manganese Road, Pilar Village, Las Pinas, Metro Manila, And herein referred to as the\\nResident(s),\\nWITNESSETH:\\nIn consideration of the agreements of the Resident(s), known as: GERALDINE O. GALINATO. the Owner(s), known as: Antonio Levy S. Ingles. Jr. and/or Mary Rose C. Ingles, hereby rent their the dwelling/house located at Lot 6, Block 20, Royal South Townhomes, Marcos Alvarez Avenue, Talon 5, Las Pinas City, Metro Manila for the period commencing on the 20th day of May, 2007, and monthly thereafter until the 20th day of May, 2008, at which time this Agreement is terminated.\\nResident(s), in consideration of Owner(s) permitting them to occupy the above property, hereby agrees to the following terms:\\nRENT: To pay as rental the sum of SIX THOUSAND FIVE HUNDRED PESOS IP 6.500.001 per month, due and payable in advance from the 20th day of every month.\\nFAILURE TO PAY ON TIME: Failure to pay the rent will result in being served a Notice to End Residential Tenancy. This Notice may be served if you have an outstanding balance from failure to pay your rent. This Notice may also be served from being habitually late in paying your rent regardless of the balance owed. Once the Notice to End Residential Tenancy is received, you will have a prescribed time to pay all of the amount overdue on your rent. A three-dav grace period will be allowed for late payment. Failure to pay the monthly rental within the grace period is subject to FIVE (5%) PERCENT interest per month of delay as penalty.\\nHabitual failure of the Resident(s) to pay within the prescribed time shall result in the Owner(s) taking immediate legal action to evict the Resident(s) from the premises and seize the security deposit.\\nSECURITY DEPOSIT: Resident(s) agrees to pay a deposit in the amount of SIX THOUSAND FIVE HUNDRED PESOS (P 6.500.001 to secure Resident(s)’s pledge of full compliance with the terms of this agreement. Note: THE DEPOSIT MAY NOT BE USED BY TENANT TO PAY THE RENT DURING THE TENANCY. The security deposit will be used at the end of the tenancy to compensate the Owner(s) for any damages or unpaid rent or charges, and will be repaired or replaced at Resident(s)’s expense with funds other than the deposit.\\nMETHOD OF PAYMENT: The initial advance payment of rent and deposit under this contract be PAID IN CASH at least 7 days before the date of moving-in. Thereafter, monthly rent payments must be paid by POST DATED CHECKS payable to ANTONIO LEVY S. INGLES. JR. until a first check is dishonored and returned unpaid. Regardless of cause, no other additional payments may afterwards be made by check. Checks returned will not be redeposited. The Resident(s) will be notified by a 3 day notice, and will be required to pay the amount due in cash.',\n",
       "  {'entities': [(157, 211, 'PartyOne'),\n",
       "    (670, 724, 'PartyOne'),\n",
       "    (371, 392, 'PartyTwo'),\n",
       "    (623, 644, 'PartyTwo'),\n",
       "    (110, 130, 'AggStart'),\n",
       "    (3127, 3139, 'Notice'),\n",
       "    (2255, 2266, 'AggValue')]}),\n",
       " ('\\n\\n\\n\\n\\n\\n\\n\\n\\n\\n\\n\\n\\n\\n\\n\\n\\n\\n\\n\\n\\n\\n\\n\\n\\n\\nRENEWAL OF RENTAL AGREEMENT\\nThis AGREEMENT of Rent is made in Bangalore and Executed today the lstth of May 2010\\nBY AND BETWEEN\\n1. Mr. Balaji.R\\nAged about 63 years,\\nNo 24 2nd Cross, SBM Colony Mathikere - 560054\\nHereinafter referred and called as the ‘Lessor’ of the First part of one part:\\n//AND//\\n1 Mr.Kartheek R Aged about 31 years,\\nNo.81, sri manjunatha nilaya, raju colony, yamalur\\nB angalore-560037.\\nHereinafter referred and called as the ‘Lessees’ of the second part of the another part:\\n\\nNOW THIS AGREEMENT OF RENT WITNESSETH TN AS FOLLOWS:\\nWhereas the first party is the sole and absolute owner of the above cited / scheduled premises is hereby continued to be rented out the same to the second party which terms and conditions is as follows:\\nThe lessor have received a security Deposit amount of Rs.40,000/- (Rupees Fourty Thousand only) from the Lessees and hereby acknowledges the receipt of the same, which carries no interest but to be returned to the lessee at the time of the lessee Vacates and hands over the position.\\nThe Rent is payable by the Lessees to the Lessor is a sum of Rs.3800/- (Rupees Thirty Eight Thousand Only) on or before 10th of every English Calendar Month.\\nThis agreement is in force for a period of eleven (11) months and the same may be renewed by the mutual understanding of both the Lessor and the Lessee.\\nIn case of either party wants back the portion or vacates the portion either must be informed within one month prior notice.,\\nThe Electricity and water charged is to be borne by the Lessees only.\\nThe Lessee should neither sublet nor underlet and shall use the premises only for Residential and for not any business purpose, should maintain clean tidy with no interruption, and shall handover at the time of vacating in tenantable condition.\\nSCHEDULE\\nThe Schedule of Residential premises. No.81, sri manjunatha nilaya, raju colony, yamalur Bangalore-560037, consists of one Hall, One Bed Room, Kitchen, Bath Room, and Completely Electrified with running water facilities and other amenities.\\nIn witness whereof both the parties have set their respective hands and affixed their signatures, hereunder the following and presence of the two witnesses today the day month year cited above.\\nWITNESSES:\\n1.\\tLESSOR/OWNER\\nLESSEES/TENANT.',\n",
       "  {'entities': [(1474, 1496, 'Notice'),\n",
       "    (121, 138, 'AggStart'),\n",
       "    (327, 340, 'PartyTwo'),\n",
       "    (157, 169, 'PartyOne'),\n",
       "    (1123, 1130, 'AggValue')]}),\n",
       " ('\\n\\n\\n\\n\\n\\n\\n\\n\\n\\n\\n\\n\\n\\n\\n\\nRENTAL AGREEMENT\\nTHIS RENTAL AGREEMENT is made and executed into on this first day of September 2011 (01-09-2011) at Bangalore by and between Mr. S Parthasarathy, son of SS Ayyangar, aged 69 years, residing at Plot No: 87 A, Road No: 9, Film Nagar, Jubilee Hills, Hyderabad - 500096, hereinafter called the “OWNER” on the ONE PART and Mr. Hari Kiran Tholeti, son of Sambasiva Rao, aged 36 years, residing at Flat 202, Plot 36, Sri Venkateswara Residency, Central Excise Colony, Bagamberpet, Hyderabad - 500013, hereinafter called the “TENANT” of the OTHER PART.\\nWITHNESSTH AS FOLLOWS:\\nWHEREAS, Mr. S Parthasarathy, is the absolute owner of the premises house bearing Flat No: 121 (7th Floor), D5 Block and car parking bearing No: CS 123/35A, Kendriya Vihar, Bangalore-Bellary Road, Yelahanka, Bangalore- 560064, hereinafter referred to as the “SCHEDULED PREMISES” and particularly described in the schedule and whereas the Owner has agreed to let out the said premises to the Tenant has agreed to take on the rent the scheduled premises on the following terms and conditions as follows:\\nThe Owner has agreed to let out the above said premises to the Tenant for a monthly rent of Rs.9,000/- (Rupees Nine Thousand only) plus actual maintenance charges as fixed by the Kendriya Vihar Apartment Owners Association (KVAOA) from time to time exclusive of electrical charges mentioned in Clause 4 below of the said house and the Tenant has agreed to occupy the same house and to pay the said rent and maintenance charges. While the Tenant pays the above said rent directly to the Owner within the period mentioned in Clause 3, the maintenance charge mentioned above shall be paid directly to the KVAOA by the Tenant within the due date stipulated by KVAOA.\\nThe Tenant will occupy the premises from 1st September 2011 and the tenancy will be for a period of 11 (eleven) months.\\nThe tenancy will be monthly, commencing from 1st of every calendar month and the Tenant will pay the rent to the Owner on or before the 5th of every calendar month.\\nThe Tenant shall pay the electricity charges directly to BESCOM.\\nThe Tenant will carry out day to day repairs such as fuses, leakage of water taps, etc. at his/her own cost but major repairs suck as leakage in electricity, bursting of sanitary pipes, painting, cracks, replacement, etc. will be done by the Owner at his cost.\\nOn the termination of the Rental Agreement, the Tenant shall hand over the vacant possession of the premises to the Owner with all the fixtures and fittings and in good tenantable conditions.\\nThe Tenant shall keep the house premises in good and tenantable conditions, if any damage is caused to the rented premises the Tenant will be held responsible for loss.\\nThe Tenant shall not sublet the premises or use the said house for any other purposes other than residence.\\nThe terms “Owner” and ‘Tenant” shall mean and include their representative heirs, legal representatives, administrators and assignors.\\nThe Tenant should not alter or make additions to the said house premises without written consent of the Owner.\\nIn case the Owner undertakes additional construction works, no inconvenience shall be caused to the Tenant.\\nIt is agreed by both the Parties that the rent mentioned in Clause 1 will be enhanced by 10% for a further period of eleven months, after the completion of this Rental Agreement.\\nThe Owner shall have the right to enter upon the schedule premises at any time, either to inspect the premises for satisfying themselves that the scheduled premises is being held in accordance with these presents or for carrying out any works/repairs connected with other portions.\\nIt is hereby agreed that either the Owner or the Tenant shall have the option at any time to terminate the Rental Agreement.\\nIf the Tenant fails to pay in time the rent, maintenance charge, electricity charges or does not act according to the terms and conditions of this Rental Agreement or does not agree to vacate the rented premises on or before the expiry of this Rental Agreement, the Owner is at liberty to recover the Scheduled Premises without any notice.\\nThe Tenant hereby agrees to pay an interest free advance of Rs.65,000/- (Rupees Sixty Five Thousand Only) as security money. This money will be refunded without and interest, on expiry of the rental period.\\nThe Parties to this agreement further agree that the agreement is subject to the prevailing contractual law applicable to the tenancy and rentals.\\nSIGNED & DELIVERED\\nBY THE ABOVE NAMED\\tOWNER\\n(Mr. S Parthasarathy)\\nSIGNED & DELIVERED\\nBY THE ABOVE NAMED\\tTENANT\\n(Mr. Hari Kiran Tholeti)\\nIN THE PRESENCE OF THE WITNESSES:',\n",
       "  {'entities': [(351, 373, 'PartyTwo'),\n",
       "    (4592, 4614, 'PartyTwo'),\n",
       "    (158, 177, 'PartyOne'),\n",
       "    (610, 629, 'PartyOne'),\n",
       "    (4525, 4544, 'PartyOne'),\n",
       "    (118, 128, 'AggStart'),\n",
       "    (1195, 1203, 'AggValue')]}),\n",
       " ('This agreement is made on the 1st day of May 2016 (01.05.2016) between ANAND RAJ, S/o. CJ Scaria, aged 26 years, residing at Changankariyil House Karuvanchal PO, Alakode, Taliparamba, Kannur Pincode: 670571 (hereinafter referred to as the LESSEE) on the One part AND BEENA PURATHAYIL MADHAVAN W/O Parapattil Puthra Valsalan aged 62 years, residing at XXII/688, Nandavanam, Chcmbumukku, Thrikkakara P O. Cochin 682021. (hereinafter referred to as the LESSOR) on the Other part.\\nBEENA PURATHAYIL MADHAVAN\\nLESSOR\\n-2-\\nWhere as the Lessor is the absolute owner in possession of the Flat No. 3E, Regal Valancia, Thrikkakara- 682021 (Semi Furnished flat with Items 5 Fan, Kitchen and bedroom Cabinets, Light fixtures) situated within the limit of Thrikkakara Municipality and whereas the Lessee has requested the Lessor to let the said Flat for residential use of the Lessee and the Lessor has accepted the same.\\nBEENA PURATHAYIL MADHAVAN\\nLESSOR\\nNOW THIS DEED WITNESSES AS FOLLOWS:-\\nThe Lessee shall pay the Lessor a monthly rent of Rs. 11500/- (Eleven Thousand Five Hundred Only) regularly and punctually without any delay or default on or before 5th day of every month in the English Calendar and the receipt of the same to be obtained.\\nThe Lessee shall pay a sum of Rs. 35000/- (Rupees Thirty-Five Thousand only) as security deposit to the Lessor free of interest and which shall be refunded at the time of expiry of the lease period after deducting dues, loss and damages, if any.\\nAt all times during the term of lease the Lessee shall keep and maintain the said flat with all its fitting, and fixtures in proper clean and neat conditions.\\nThe Lessee shall use the flat for residential purpose only.\\nThe Lessee shall not make any alteration or modifications in the said flat.\\nThe Lessee shall not use the flat so as to destroy or reduce its value or utility in any manner.\\nThe Lessee shall not transfer his right or sublet the said flat or any part there of to anybody.\\nThe period of lease shall be 11 months from 01-05-2016 on the expiry of the above period Lessee shall vacate and deliver the possession of the flat to the Lessor in good conditions as it is on this day.\\nBEENA PURATHAY1L MADHAVAN\\nLESSOR\\n\\nThe Electricity and Water charges and any other charges connected with self usage of the flat to be paid by the Lessee in addition to the rent, Lessee also liable to pay a maintenance Charges to the Flat Owners Association and obtain receipt for the same.\\nExplosive items not to be kept inside the flat.\\nThat both parties are at liberty to evict or vacate the flat before the expiry of the period of tenancy by giving one month prior registered notice.\\nThe period of agreement shall be renewed for further period if mutually agreed between both parties on or before expiry of this agreement\\\\\\nThe lessee shall be liable to pay all costs /replacements for all such items that are part of flat/furnishings in the instance of damages caused or resulted from misuse/purposeful acts from the side of lessee /or shall be recovered from the paid advance if limited within the same .\\n14 Lesse shall have the right to use one car porch that belongs to the flat Valancy\\n3E\\nIn witness whereof the parties here to have signed this deed on the day month and year first above written.\\nBEENA PURATHAYIL MADHAVAN LESSOR\\nWitness\\n1.\\n2.\\nThis Document is Type Written. Corrections Nill.',\n",
       "  {'entities': [(2622, 2655, 'Notice'),\n",
       "    (267, 292, 'PartyTwo'),\n",
       "    (477, 502, 'PartyTwo'),\n",
       "    (906, 931, 'PartyTwo'),\n",
       "    (3274, 3299, 'PartyTwo'),\n",
       "    (51, 61, 'AggStart'),\n",
       "    (2011, 2021, 'AggStart'),\n",
       "    (71, 80, 'PartyOne'),\n",
       "    (1026, 1035, 'AggValue')]}),\n",
       " ('\\n\\n\\n\\n\\n\\n\\n\\n\\n\\n\\n\\n\\n\\n\\n\\n\\n\\n\\n\\n\\n\\n\\n\\n\\n\\n\\n\\n\\n\\n\\nRENTAL AGREEMENT\\nTHIS DEED OF RENTAL AGREEMENT made and executed at Chennai on this 28th day of March, 2012 Between : Mr.AR. SUBBIAH, aged about 49 years, Son of Mr.Arumugam, residing at No.37, Anandaraja Nagar, S.Kodikulam, K.Pudur Post, Madurai - 625 007 hereinafter called the “Owner” of the FIRST PART;\\nAND\\nMr.P. SOCRATES, aged about 36 years, Son of Mr.E.P. Palaniappan, Manager - Finance Unipres India Pvt. Ltd., Oragadam, Chennai hereinafter referred to as the “Tenant” of the SECOND PART ;\\n(The terms “OWNER” and “TENANT” wherever the context to admits would mean and include their respective heirs, executors, legal representatives,\\n\\n-2- administrators and assigns) WITNESSETH AS FOLLOWS.\\nWHEREAS the above said Party of the FIRST PART HEREIN is the absolute owner of the property being a Flat in Second Floor, bearing Flat No. SH, Block 2, “Jains Sudharshana”, Rajakilpakkam, Chennai.\\nWhereas the TENANT herein has requested the OWNER to let out the above said Premises (Flat) for a monthly Tenancy commences from and on this day (i.e., 28.03.2012) and it will be for the period ending 31st December 2012 to be occupied for Residential purpose and the OWNER has also agreed to let out the said premises till 31st December 2012.\\nNOW THIS RENTAL AGREEMENT WITNESSETH AS FOLLOWS:\\nThe Rent for the said premises (Flat) is Rs. 12,000/- (Rupees Twelve Thousand only) per month.\\nThe Tenant has to pay a sum of Rs. 2,500/- (Rupees Two Thousand Five Hundred only) per month towards necessary maintenance charges separately to the Flat association and the electricity consumption charges as per the meter reading, provided to him directly to the electricity board or as per the owner’s instruction.\\nThe TENANT shall pay the rent of every month regularly by Cash punctually to the OWNER on or before 5th day of every succeeding English Calendar Month.\\nThe tenant has paid to the owner a sum of Rs. 1,00,000/- (Rupees One Lakh only), by way of Cheque bearing No. 290173, drawn on HDFC Bank, Trichy Branch, as advance / security deposit towards the said Premises (Flat) rented out to him, the receipt of which sum the owner doth hereby admits and acknowledge the same and the said advance sum of Rs. 1,00,000/- shall not carry any interest and the said amount will be refundable to the TENANT at the time of vacating and delivering vacant possession of the Premises rented out to him.\\nIf the TENANT commits any damage to the premises rented out to him than the damages are to be ascertained at the time of handing over possession and shall be deducted from and out of the said security deposit and the balance amount shall be paid to the TENANT.\\n-3\\nThe TENANT has to keep the premises (Flat) rented out to him in good and tenantable condition.\\nThe TENANT shall not sub-let or in any other way apart with the possession of the said Flat premises to any other Party/ies.\\nThe TENANT shall not carryout any structural changes or any additions or alterations to the Flat Premises and electrical fittings without the prior approval of the OWNER.\\nA notice of THREE MONTHS on either side has to be given for vacation of the said premises, to vacate before the expiry of this agreement.\\nOn expiry of the said period (till 31.12.2012) the tenancy may be renewed for a further period by mutual agreement between the parties hereto on such terms and conditions as are agreed upon between them at that time.\\nThe original agreement document duly signed is retained by 1st Party and the Xerox copy of this document is with the 2nd party.\\nSCHEDULE\\nPremises being a Flat in Second Floor, bearing Flat No.SH, Block -2, “Jains Sudharshana”, Rajakilpakkam, Chennai with necessary fixtures & fittings, electrical connection and other amenities lying thereon.\\nIN WITNESS WHEREOF THE PARTIES HEREIN HAVE SET THEIR HANDS AND AFFIXED THEIR RESPECTIVE SIGNATURES TO THIS DEED ON THE DAY, MONTH AND YEAR FIRST ABOVE WRITTEN IN THE PRESENCE OF WITNESSETH BELOW.\\nWitnesses:\\n1)',\n",
       "  {'entities': [(115, 138, 'AggStart'),\n",
       "    (3070, 3092, 'Notice'),\n",
       "    (149, 163, 'PartyOne'),\n",
       "    (342, 356, 'PartyTwo'),\n",
       "    (1359, 1369, 'AggValue'),\n",
       "    (3241, 3251, 'AggEnd')]}),\n",
       " ('\\n\\n\\n\\n\\nHouse Rental Contract\\nKNOWN ALL MEN BY THESE PRESENTS:\\nThis House Rental Contract, made and entered into this 20th day of May 2007 at Manila by and between:\\nAntonio Levy S. Ingles. Jr. and/or Mary Rose C. Ingles, of legal age, with residence and postal address at Unit 2006 EGI Taft Tower 2339 Taft Avenue, Malate, Manila, And herein referred to as the Owner(s),\\n— And —\\nGERALDINE O. GALINATO of legal age, with residence and postal address at 6 Manganese Road, Pilar Village, Las Pinas, Metro Manila, And herein referred to as the\\nResident(s),\\nWITNESSETH:\\nIn consideration of the agreements of the Resident(s), known as: GERALDINE O. GALINATO. the Owner(s), known as: Antonio Levy S. Ingles. Jr. and/or Mary Rose C. Ingles, hereby rent their the dwelling/house located at Lot 6, Block 20, Royal South Townhomes, Marcos Alvarez Avenue, Talon 5, Las Pinas City, Metro Manila for the period commencing on the 20th day of May, 2007, and monthly thereafter until the 20th day of May, 2008, at which time this Agreement is terminated.\\nResident(s), in consideration of Owner(s) permitting them to occupy the above property, hereby agrees to the following terms:\\nRENT: To pay as rental the sum of SIX THOUSAND FIVE HUNDRED PESOS IP 6.500.001 per month, due and payable in advance from the 20th day of every month.\\nFAILURE TO PAY ON TIME: Failure to pay the rent will result in being served a Notice to End Residential Tenancy. This Notice may be served if the Resident(s) has an outstanding balance from failure to pay the rent. This Notice may also be served from being habitually late in paying the rent regardless of the balance owed. Once the Notice to End Residential Tenancy is received, the Resident(s) will have a prescribed time to pay all of the amount overdue on the rent.\\nA three-dav grace period will be allowed for late payment However, failure to pay the\\nmonthly rental within the grace period is subject to FIVE (5%) PERCENT interest per month of delay as penalty. Habitual failure of the Resident(s) to pay within the prescribed time shall result in the Owner(s) taking immediate legal action to evict the Resident(s) from the premises and seize the security deposit.\\nSECURITY DEPOSIT: Resident(s) agrees to pay a deposit in the amount of SIX THOUSAND FIVE HUNDRED PESOS IP 6.500.001 to secure Resident(s)’s pledge of full compliance with the terms of this agreement. Note: THE DEPOSIT MAY NOT BE USED BY TENANT TO PAY THE RENT DURING THE TENANCY. The security deposit will be used at the end of the tenancy to compensate the Owner(s) for any damages or unpaid rent or charges, and will be repaired or replaced at Resident(s)’s expense with funds other than the deposit.\\nMETHOD OF PAYMENT: The initial advance payment of rent and deposit under this contract be PAID IN CASH at least 7 days before the date of moving-in. Thereafter, monthly rent payments must be paid by POST DATED CHECKS payable to ANTONIO LEVY S. INGLES. JR. until a first check is dishonored and returned unpaid. Regardless of cause, no other additional payments may afterwards be made by check. Checks returned will not be redeposited. The Resident(s) will be notified by a 3 day notice, and will be required to pay the amount due in cash.\\nSCHEDULE OF PAYMENT:\\n\\n\\nSUBLETTING: Without first requesting permission from the Owner(s), Resident(s) agrees not to assign this agreement, nor to sub-let any part of the property, nor to allow any other person to live therein other than the following:\\nSurname, Name of the Resident:\\t\\nSurname, Name:\\t\\nRelation to the Resident:\\t\\nSurname, Name:\\t\\nRelation to the Resident:\\t\\nSurname, Name:\\t\\nRelation to the Resident:\\t\\nSurname, Name:\\t\\nRelation to the Resident:\\t\\nSurname, Name:\\t\\nRelation to the Resident:\\t\\nFurther, that covenants contained in the House Rental Contract, once breached, cannot afterward be performed; and that eviction proceedings may be commenced at once without notice.\\nOWNER’S STATEMENTS: All rights given to the Owner(s) by this agreement shall be cumulative in addition to any other laws which might exist or come into being. Any exercise or failure to exercise, by the Owner(s) of any right shall not act as a waiver of any other rights. No statement or promise of Owner(s) as to tenancy, repairs, alternations, or other terms and conditions shall be binding unless specified in writing and specifically endorsed.\\nCOURT COSTS: This agreement shall be governed by the laws of the Republic of the Philippines. In the event that any portion of this agreement shall be found to be unsupportable under the law, the remaining provisions shall continue to be valid and subject to enforcement in the courts without exception.\\nDEFAULT BY RESIDENT: Any breach or violation of any provision of this agreement by Resident(s) or any untrue or misleading information in Resident(s)’s application shall give the Owner(s) the right to terminate this contract, evict the Resident(s) and to take possession of the residence. The Resident(s) agrees to a forfeiture of the security deposit and Owner(s) may still purse any remaining amounts due and owing.\\n9. ACCEPTANCE OF PROPERTY: Resident(s) accepts the \"AS IS\" condition of the property, waiving inspection of same by Owner(s) and agrees to notify Owner(s) of any defects. Resident(s) further agrees to indemnify or assure Owner(s) against any loss or liability arising out of Resident(s)’s use of the property.\\nMAINTENANCE: Resident(s) agrees to maintain the premises during the period of this agreement. This includes woodwork, ceilings, walls, floors, furnishings and fixtures, appliances, windows, screens doors, fences, plumbing, electrical, and mechanical systems. Tacks, nails, or other objects nailed or screwed into the walls or ceilings or floors will be removed at the termination of this agreement. Damage caused by tacks, nails, or other objects nailed or screwed into the ceilings or walls or floors; damage caused by rain and wind as a result of leaving windows or doors open, or damage caused by overflow of water, or stoppage of waste pipes, breakage of glass, and damage to screens, whether caused by abuse or neglect is the responsibility of the Resident(s).\\nRESIDENT’S OBLIGATIONS: The Residents) agrees to meet all of Resident(s)’s obligations; including:\\nTaking affirmative action to insure that nothing exists which might piace the Owner(s) in violation of applicable building, housing and health codes.\\nKeeping the dwelling/house clean, and sanitary; removing garbage and trash as they accumulate; maintaining plumbing in good working order to prevent stoppages and or leakage of plumbing, fixtures, faucets, pipes, etc.\\nOperate all electrical, plumbing, sanitary, and other appliances in a reasonable and safe manner.\\nAssuring that property belonging to the Owncr(s) is safeguarded against damage, destruction, loss, removal, or theft.\\nConducting him/herself, his/her family, friends, guests and visitors in a manner which will not disturb others. Resident(s) warrants that he/she will meet the above conditions in every respect, and acknowledges that failure to do so will be grounds for termination of this agreement and loss of all deposits without further recourse.\\nCLEANING: Resident(s) accepts premises in its current state of cleanliness and agrees to return it in a like condition.\\nREMOVAL OF PROPERTY: Resident(s) agrees not to remove or alter in any way Owner(s)’s property without first requesting permission from the Owner(s). Any removal or alteration of Owner(s)’s property without permission shall constitute abandonment and surrender of the premises, and termination by the tenant of this agreement Owner(s) may take immediate possession and exclude Resident(s) from the property, storing all Resident(s) possessions at Resident(s)’s expense pending reimbursement in full for Owner(s)’s loss and damages.\\nREPAIRS: The Resident(s) should contact the Owner(s) for emergencies or for urgent and major repairs. In the event repairs are needed beyond the competence of the Resident(s), he/she is urged to arrange for professional assistance. Any improvement made by the tenant shall become the property of the Owner(s) at the conclusion of this agreement.\\nUTILITIES: Resident(s) shall be responsible for payments of all utilities, electricity, water and sewer charges, association dues, telephone or other bills incurred during their residency. They specifically authorize the Owner(s) to deduct amounts of unpaid bills from their deposits in the event they remain unpaid after the termination of this agreement.\\nPHONE: Resident(s) may install and maintain telephone service, and agrees to furnish to the owner the phone number, and any changes, within 3 days after installation.\\nVEHICLES: Resident(s) agrees to park ONLY ON THE PAVED DRIVEWAY PROVIDED his/her automobile described as follows:\\nResident(s) agrees that no vehicle may be repaired in the paved driveway.\\nPETS: The Resident(s) specifically understands and agrees:\\nNo pet which is attacked-trained or vicious, with a history of biting people or other animals, or of property damage will be kept on the premises;\\nThat the Resident(s) is solely responsible for any and all damage to the Owner(s)’s property including, but not limited to the premises, blinds, wall, furnishings and appliances;\\nThat in a like manner, he/she is responsible for any and all damage or loss to persons or property of others caused by the Resident(s)’s pet(s) and in this regard does hereby agree to hold the Owner(s) harmless for any such damage;\\nThat all pet(s) should be maintained in a humane and lawful manner;\\nThat all pet waste shall be removed and disposed of promptly, including waste in neighbor’s yards distributed by Resident(s)’s pets;\\nThat all pets shall be maintained so as to not cause annoyance to others.\\nRESIDENT’S ABANDONMENT: If Resident(s) leaves said premises unoccupied for 15 days while rent is due and unpaid, Owner(s) is granted the right hereunder to take immediate possession thereof and to exclude Resident(s) there from; removing at his/her expense all his/her property contained therein and placing it into storage at Resident(s)’s expense.\\nTERMINATION: After one month’s rental payment has been received, this contract may be terminated by mutual consent of the parties, or by either party giving written notice of at least 15 days prior to the end of any monthly period. All parties agree that termination of this agreement prior to the 20th day of May, 2008 regardless of cause will constitute a breach of the tenancy as agreed on page 1 and all deposits shall be forfeited in favor of the Owner(s) as full liquidated damages at the Owner(s)’s option.\\nRETURN OF DEPOSIT: Thirty days after termination of occupancy, the Owner(s) will send the balance of the deposit to the address provided by the Resident(s), payable to the signatories hereto, or Owner(s) will impose a claim on the deposit and so notify the Resident(s) by certified letter. If such written claim is not sent, the Owner(s) relinquishes his right to make any further claim on the deposit and must return it to the Resident(s) provided Residents) has given the Owner(s) notice of intent to vacate, abandon, and terminate this agreement proper to the expiration of its full term, at least 7 days in advance.\\nRELEASE OF DEPOSIT: Release of security deposit is subject to the provisions as follows:\\nThe full term of this agreement has been completed.\\nFormal written notice has been given.\\nNo damage or deterioration to the premises, structures, or grounds is evident.\\nThe entire dwelling/house, appliance and closets are clean and left free of insects, and all debris and garbage have been removed from the property; walls, ceilings and floors are cleaned and left odorless.\\nAny and all unpaid charges, delinquent rents, utility charges, etc., have been paid in full.\\nAll keys have been returned, including keys to any new locks installed while Residents) was in possession.\\nA forwarding address has been left with the Owner(s).\\nOWNERS AGENTS AND ACCESS: The Owner(s) may be represented by an agent who will carry identification. Resident(s) specifically agrees to permit the Owner(s) or agent(s) access to the premises for the purposes of inspection, repairs, or to show the property to another person at reasonable hours, on request.\\nRENEWAI. TERM: At the end of initial term herein, Owner(s) may elect to renew for\\nanother term but at a rental increase of FIVE HUNDRED PESOS IP 500.001 to the current agreed rental pay.\\nACKNOWLEDGMENT: In this agreement the Singular number where used will also include the Plural, the Masculine gender will include the Feminine, the terms Owner, Owners, and Owner(s) will include Landlord, Lesser, and the terms Resident, Residents, and Resident(s) will include Tenant, Lessee. The below-signed parties acknowledge that they have read and understand all of the provisions of this agreement. This contract is bound by all heirs, executors, successors and/or assigns.\\nLEGAL CONTRACT: This is a legally binding contract. If you do not understand any part of this contract, seek competent legal advice before signing.\\n32. RIGHT TO SIGN: The individual(s) signing this House Rental Contract as to Resident(s) stipulates and warrants that he/she has the right to sign for and to bind all occupants.\\n\\nIN WITNESS WHEREOF, the parties hereto have set their hands this 2007, at Manila\\nGERALDINE Q. GALINATO\\nResident\\nCELESTINO ALFARO\\nResident’s Immediate Relative / Occupant\\nMary Rose C. Ingles\\nOwner\\nAntonio Levy S. Ingles, Jr.\\nOwner\\nSIGNED IN THE PRESENCE OF:\\nWITNESS\\nREPUBLIC OF THE PHILIPPINES} CITY OF MANILA}\\nBEFORE ME, a Notary Public, for and in Manila personally appeared the following persons:\\nknown to me and to me known to be the same persons who executed the foregoing instrument and acknowledgement to me that the same is their free and voluntary act and deed.\\nThis instrument refers to as House Rental Contract of a two-bedroom residential unit located at Lot 6, Block 20, Royal South Townhomes, Marcos Alvarez Avenue, Talon 5, Las Pinas City, Metro Manila, consisting of five (5) pages including this one wherein this acknowledgement is written and has been signed by the parties hereto and their instrumental witnesses at the upper portion of this page and left hand margin of all other pages hereof.\\nWITNESS MY HAND AND SEAL, this\\n\\nPROMISORY NOTE DOCUMENT:\\nI, GERALDINE O. CAM NATO Resident(s), of legal age, with residence and postal address at 6 Manganese Road, Pilar Village, Las Pinas, Metro Manila, PROMISED TO GIVE ALL THE ELEVEN (11) POST DATED CHECKS on or before the 20th of June 2007, payable to ANTONIO LEVY S. INGLES. JR.. Owner(s), as monthly rent payments from June 20, 2007 to May 20, 2007 of the Owner(s)’ house located at Lot 6, Block 20, Royal South Townhomes, Marcos Alvarez Avenue, Talon 5, Las Pinas City, Metro Manila\\nSCHEDULE OF PAYMENT of 11 PDCs from June 20, 2007 to May 20, 2007:\\n\\n\\nFailure to FUFILL THIS PROMISED AS STATED ABOVE will result to Resident(s) and other occupants to freely and voluntarily self evict themselves from the Owner!sf house.\\nThe Resident(s)/ Occupant(s) hereto have set their hands this 20th day of May, 2007, at Lot 6, Block 20, Royal South Townhomes, Marcos Alvarez Avenue, Talon 5, Las Pinas City, Metro Manila\\nGERALDINE Q. GALINATO\\nResident\\nCELESTINO ALFARO\\nOccupant\\nMIA ALFARO Occupant\\nJED ALFARO\\nOccupant',\n",
       "  {'entities': [(10284, 10310, 'Notice'),\n",
       "    (376, 397, 'PartyTwo'),\n",
       "    (627, 648, 'PartyTwo'),\n",
       "    (968, 989, 'AggEnd'),\n",
       "    (10417, 10438, 'AggEnd'),\n",
       "    (115, 135, 'AggStart')]}),\n",
       " ('2003\\ns,«r.s\\t66v*trm&tf\\'of *&*Hiiti**<i \"30005 0ocn**o»s*<*ot\\nAjstoziti assrlfc\\t<sk^33\\nRegistration and Stamps Department\\nssstfaS^ cS^sScSe da^jSf&rt erjaaia? This sheet can be used for any doc\\nWR E K T A L A G I< E E M E ft T\"\\nThis Rental Agreement is made and Executed on\\nat Bangalore, by and Between:- wef 1/4/2015\\nMr .GiddappA\\nS/o late Na^ippa\\nD No.134 2nd cross Srvinthi L/o RamAmurthynagar Bangalore\\t5600 16\\nHereinafter Called the \"OWNER\" of the One Part* Ms Pottumurthi Udayaiaxmi W/o Ran** Krishna icajjam\\nH No .2 7-7 Main Bazar,\\nMiryalaguda, it Nalgonda Dist A p 503207.\\nHereinafter called the \"TENANT\" of the Other Part witnesseth as follows terms and conditions.\\n1. Whereas the Tenant has paid Advance amount of Rs. 40,000/- ( Forty thousand only\\t). to the owner.\\nThis amount shall not carry any interest and this is refundable at the time vacating.. If any arrears balance that charges will deducted from the advance amount at the time of vacating.\\nhas agreed to pay the Rental Charges of thousand three hundred only\\t) to\\nregularly.\\nthe Electrcity charges separately to\\nContd...2.\\n\\n-2-\\nThis R-mtal Agreement Duration for only 11 (Eleven) months from this date of Agreement. if both the parties mutual understanding it can be extended.\\nThe Tenancy can be terminated by either party by giving Two Konth notice to the opposite party.\\nwhereas the Tenant shall not rr.aXe any additional alteration to the schedule premises and tenant keep the portion clean and good tenantable conditions.\\nWhereas the Tenant shall use the Schedule premises fox Residential purpose only and should not use for any illegal or immoral purposes.\\nWhereas the Tenant should pay painting charges at the. time vacating the premises.\\nMS_C H E D U 1 S\"\\nThe House premises situated at No.184 1st floor 2nd cross\\nShanthi Vo. RarrH.murthyrvagar, Bangalore 560016 consists of 1 BttC with bathroom U toilet.\\nIn witness whereof the party is hereto have signed this Rental Agreement on the day.month end year first above written in front of the following witnesses.\\n\\n\\n\\n\\n\\n\\n\\n\\n\\n\\n\\n\\n',\n",
       "  {'entities': [(1000, 1027, 'AggValue'),\n",
       "    (461, 486, 'PartyTwo'),\n",
       "    (1302, 1318, 'Notice'),\n",
       "    (317, 329, 'PartyOne'),\n",
       "    (308, 316, 'AggStart')]}),\n",
       " ('\\n\\n\\n\\n\\n\\n\\n\\n\\n\\nRENTAL AGREEMENT\\nThis deed of rental agreement executed at Bangalore this fifth day of December 2008 between MR.K.Kuttan S/o Kelu Aehari (Late) residing at site No 152 Geethalayam OMH colong S.M. Road 1st main, T.Dasarahalli, Bangalore-57. Here after called the lessor which term shall where the contest so admits mean and includes his legal heirs representatives executors and assign and Sri. P.M. Narayana Namboodri “Laxmi Leela” ground floor 3rd cross Ayyappa Nagar behind Ayyappa Temple, Jalahalli West, Bangalore - 15 referred as tenant which term shall wherever the context so admits mean and includes his legal heirs representations executors assign witnesses.\\nWhereas the lessor is the absolute owner after premises at site No. 8/20 S.M. Road, Jalahalli West, Bangalore - 15 and he has constructed approximate 500 sft area of Ilnd floor with A.C. Sheet roof with power light in the above said premises.\\nWhere as the owner has offered to let out the premises for non residential purpose, where as the tenant has offered to take the said premises on rent for non residential purpose namely for “MAHALAKSHMI INDUSTRIAL CONSULTANT’ and tenant is the Proprietor of the business and he has agreed to pay rent Rs.4,000.00 (Rupees Four Thousand only) for above said premises with the following terms and conditions:-\\nThe agreement made only for eleven months from this date of agreement. Fresh agreement with mutual terms and conditions have to be extended (6.p.c is expecting every eleventh month).\\nThe tenant shall pay the rent above said, on before 10th of each month.\\nAn advance amount of Rs.35,000/- (Rupees thirty five thousand only) is paid by the tenant to the owner at the time of commencement of this agreement, the receipt where of is hereby acknowledged signing this agreement by the owner. The advance shall not carry any interest and refundable to the tenant at the time of vacating the schedule premises. Any arrears of rent electricity and water dues is permissible to deduct from the advance.\\nEach party shall be liable to give three month advance notice for the termination of this agreement.\\nThe tenant shall pay the electricity and water charges within one week from the date of receipt of the bills.\\nthe tenant shall at the termination of this agreement have to remove superstructure if any put by the tenant at his own expenses and deliver the possession to the owner in good and tenable condition.\\nThe tenant shall himself obtain the license for the business top be carried on by him.\\nThe tenant shall not sublet or underlet the demised portion or any part there of to any third party.\\nThe building owner shall not in any case be held responsible with for any kind of theft, burglary, fire or accident within the portion of the building.\\nAll kinds of security arrangements insurances etc., will have to be done by the tenant if necessary.\\nThe tenant shall keep good relationship with neighbors.\\nSIIIDIII\\nWITNESSES\\nOWNER\\tTENANT\\n1.',\n",
       "  {'entities': [(399, 427, 'PartyTwo'),\n",
       "    (84, 110, 'AggStart'),\n",
       "    (2055, 2081, 'Notice'),\n",
       "    (119, 130, 'PartyOne'),\n",
       "    (1221, 1229, 'AggValue')]}),\n",
       " ('\\n\\n\\n\\n\\n\\n\\n\\n\\n\\n\\n\\n\\n\\n\\n\\n\\n\\n\\n\\n\\n\\n\\n\\n\\n\\n\\n\\n\\n\\nAGREEMENT OF RENTAL LEASE\\nTHIS AGREEMENT OF RENTAL LEASE made and entered into on this the 15th day of February 2012 (15.02.2012).\\nBy and between\\nMr M.SANTOSH S/O.M.DATTATREYA SASTRY, aged 31 years, having permanent residence at Flat\\tFI,Golden\\npearl,No:3,V.O.C.Street,Near SAN Academy School,Padmavathy Nagar,Velachery,Chennai-600042., hereinafter referred to as the “LANDLORD” (Which term shall mean and include her legal heirs, executors, administrators, legal representatives and assigns) of ONE PART.\\nAND\\nMr. Jeyanth B, S/o. Balasundaram C aged 30 years, working as a software Engineer, Cognizant Technology Solutions ,Chennai., having permanent residence at No 5/856, Lakeview 3rd Street, Iyyappa Nagar, Madipakkam Chennai - 91 hereinafter referred to as the TENANT”(which term shall mean and include his legal heirs, successors, executors, administrators, legal representatives and assigns) of THE OTHER PART.\\n:2:\\nWHEREAS the LANDLORD is the owner, and landlord of all that First Floor premises, (comprising of a 2 Bed Room portion) of the residential Flat bearing address, FLAT NO: FI, GOLDEN PEARL, NO.3, V.O.C.STREET, PADMAVATHI NAGAR EXTN., VELACHERY, CHENNAI - 600 042, more fully described in the schedule hereunder and “SCHEDULE PREMISES”.\\nWHEREAS the TENANT approached the LANDLORD to let out the SCHEDULE PREMISES and the LANDLORD agreed to let out the SCHEDULE PREMISES on the terms and conditions hereinafter set forth.\\nNOW THEREFORE THIS AGREEMENT OF LEASE WITNESSETH:\\nRENTAL LEASE PERIOD: The Lease is for a period of 11 (Eleven) months effective from 11th day of March 2012 to 10th day of February 2013.\\nSECURITY DEPOSIT: The TENANT has paid Rs.30,000/- (Rupees Thirty Thousand only) in Post Dated Cheque (Cheque Dated 31/03/2012) on 05/03/2012 in advance to the LANDLORD towards SECURITY DEPOSIT and hereby the LANDLORD acknowledges the receipt of the above said amount. This amount shall not carry any Interest and shall be refunded by the LANDLORD to the TENANT, after deducting any outstanding arrears (which shall include unpaid rent, key replacement costs, cost for repair of damages to SCHEDULE PREMISES and / or common areas above ordinary wear and tear and any other amount legally allowable under the terms of this agreement) when the TENANT hand over the vacant possession of the SCHEDULE PREMISES to the LANDLORD. If the SECURITY DEPOSIT does not cover such costs and damages, the TENANT shall immediately pay the said additional costs for damages to the LANDLORD.\\nMONTHLY RENT: The TENANT has agreed to pay a RENT of Rs.9000/- (Rupees Nine Thousand only) per month to be paid on or before 5th day of the succeeding English calendar month.\\nELECTRICITY CHARGES: The Flat having 3 phase connection and a separate Energy meter. The TENANT shall pay the electricity consumption charges directly to the concerned authorities before the due date. Any charges, penalties, fees, interest etc. levied by the TNEB during the Rental period shall be borne by the TENANT and shall be recovered by the LANDLORD from the Security Deposit. The TENANT has to hand over the Electricity card with bills to the LANDLORD, WHILE VACATING THE SCHEDULE PREMISES.\\n:3:\\nOTHER CHARGES: The TENANT shall bear the monthly maintenance charges, water consumption charges and any other common charges (If any) during the period of Rental Lease. TENANT has to abide to the Rules and Regulations of the Association.\\nUSAGE OF THE SCHEDULE PREMISES: The TENANT shall keep the SCHEDULE PREMISES in good and tenantable condition, using the same for residential purpose only and shall hand over the same to the LANDLORD on the expiry of Rental Lease agreement in good condition.\\nThe TENANT shall not assign, transfer, sublet or part with possession of the Schedule premises or any portion thereof to anyone without the written consent of the LANDLORD. The TENANT shall not make any structural alteration to the SCHEDULE PREMISES, without the written permission of the LANDLORD.\\nNailing and damaging the walls, spoiling the floor, windows, all Woodwork, cupboard mirrors, lofts, almirah slabs and Granite slabs of kitchen should be strictly avoided by the TENANT. Any damage caused be set right at the cost of the TENANT.\\nThe electrical fixtures fitted in the SCHEDULE PREMISES by the LANDLORD (the names of the items are listed out below) have to be maintained by the TENANT and entrusted to the LANDLORD in good working condition. The repair and /or - replacement cost of the electrical and plumbing items shall be borne by the TENANT during the Rental Lease\\nThe following keys handed over to the TENANT on\\nElectrical Items provided in the schedule premises\\nPARKING: The TENANT is entitled to park 1 cars & 1 2 Wheelers (1 or 2 in No.) in the space provided in the Ground Floor.\\nNOISE: The TENANT agrees not to cause or allow any noise or activity on the premises, which might disturb the atmosphere and peace of other occupants and / or neighbors Said Noise and / or Activity shall be a breach of this agreement.\\nPROPERTY MAINTENANCE: The TENANT shall be responsible for keeping the kitchen and bathroom drains free of things that may cause clogging of the drains. Repair charges, if any, due to clogging of drains, shall be borne by the TENANT. Garbage and waste should be disposed of in a clean and sanitary manner.\\nRIGHT TO INSPECT: The TENANT shall allow the LANDLORD or his / her representative for inspection of the SCHEDULE PREMISES or to make any repairs, additions, or alterations, if any, of his / her choice at reasonable time.\\n11 .PERIODIC REVISION OF RENT: The TENANT undertake to pay the LANDLORD the enhanced rent after every 11 (Eleven) months at the rate of 10% over the then existing rate of rent, in the event of the Rental Lease getting extended after the expiry of the earlier Rental Lease period.\\nTERMINATION : After expiry of the leasing period, this agreement is automatically renewed for a Rental Lease period of 11 (Eleven) months, written notice, intention to terminate 2 month’s rent to the LANDLORD in lieu of the notice should be paid by the TENANT, if he / she vacates, without giving notice. Both parties are at liberty to terminate the lease by a clear 2 months notice in writing.\\nCHANGE OF TERMS: The terms and conditions of this agreement are subject to future change by the LANDLORD after the expiry of the agreed lease period upon a 30 day written notice setting forth such change delivered to the TENANT.\\nVACATION OF SCHEDULE PREMISES: The premises shall be considered vacated only after all areas including storage areas are clear of all TENANTS belongings, and key and other property furnished for TENANTS use are returned to the LANDLORD. If the TENANT fail to vacate all possessions on or before the termination date the TENANT shall be liable for additional rent and damages due to LANDLORD’S loss of prospective new renters.\\nThe TENANT does hereby confirm having taken delivery of Schedule premises from the LANDLORD on this day.\\nSCHEDULE\\n4/2339,Plotno:2A,PranavBhoorni,5thstreet,ShankaraPuram,Sithalapakka m,Chennai-600126\\nIN WITNESS WHEREOF the parties to this AGREEMENT OF LEASE have set their respective hands on the date, month and year first above written in the presence of the following witnesses.\\nWITNESSES.\\nMr.M.Santosh\\nLANDLORD\\nMr.B.Jeyanth\\nTENANT',\n",
       "  {'entities': [(6210, 6236, 'Notice'),\n",
       "    (539, 552, 'PartyTwo'),\n",
       "    (176, 188, 'PartyOne'),\n",
       "    (148, 158, 'AggStart'),\n",
       "    (2580, 2587, 'AggValue')]}),\n",
       " ('RENTAL AGREEMENT\\nThis agreement of Tenancy is made and executed at Chennai on 1st day of September 2011 (1-3-2011)\\nBETWEEN\\nk.Sarguneswaran, s/o G.Kasinath Rao aged about 54 years residing at No: 20/3, Venkateswara nagar, IstMain road, Velachery, Chennai - 42, Tamil Nadu. Hereinafter referred as the OWNER.\\nAND\\nR.Mathankumar s/o Ramasamy aged 28 years New No:88(01d No:62), Madha kovil street, Ganesapuram, Namakkal- 637001. Hereinafter referred as the TENANT.\\nwhereas, the Tenant has requested the Owner, to let out the premises bearing address: No 20/3, Venkateswara nagar, 1st Main road, Velachery, Chennai - 42, Tamil Nadu. In consideration of the rent hereinafter reserved and the conditions hereinafter stated.\\nNow this agreement witnesses as follows:\\nThe Tenant shall pay a monthly rent of Rs. 7200 (Seven thousand and two hundred only) on or before 5 th day of every month.\\nThe Tenant has deposited with Owner Rs.40, 000 (Forty thousand) as advance and security deposit which the Owner hereby acknowledges the said sum shall carry no interest but refundable to the Tenant on the termination of the tenancy.\\nThe tenancy shall be in force for a period of eleven months from the above said date, and the month of tenancy being the English calendar month.\\nThe Owner shall have the right to terminate the tenancy if the Tenant fails to pay the rent regularly for a consecutive period of two or more months, or commits breach of any of the terms herein.\\nThe Tenant shall use the premises only for residential purpose and shall not use it for any offensive or objectionable purpose, and shall not any consent of the Owner hereby a sublet under lease or part the possession of the any whomsoever or make any alteration therein.\\nThe Owner shall allow the Tenant peaceful possession of any enjoyment of the premises during the continuance of tenancy provided the Tenant acts up to the terms of this agreement.\\nThe Tenant shall not cause any damage to the fixed fixtures on the above said property. Any damage cause shall be repaired at the cost of the Tenant.\\nThe Tenant shall pay electricity bill of Rs 4/unit (Four only) separately.\\nIt is hereby agreed that one month notice on either side is required for the termination of the tenancy\\nThe tenancy shall be renewed for further period/s mutually agreed between parties on the terms and conditions.\\nFittings: Tube Lights: 2, Fans: 2.\\nin witnesses whereof the parties have set their respective hands onto this agreement, of the day, the month & the year first above written.\\nWitnesses:\\n1.\\nOwner\\nTenant',\n",
       "  {'entities': [(2158, 2174, 'Notice'),\n",
       "    (123, 138, 'PartyOne'),\n",
       "    (311, 324, 'PartyTwo'),\n",
       "    (105, 113, 'AggStart'),\n",
       "    (797, 805, 'AggValue')]}),\n",
       " (\"Tenancy Agreement\\nPerjanjian Kontrak Penyewa\\nParties\\nTHE AGREEMENT IS MADE IN DUPLICATE BETWEEN NEOH GUATWAH the Landlord ( and the assistant CLEMENT NG. CONTACT NO 0126030570), AND the Tenant(s) NOR AID A BINTI MOHD AZHARI OF IC NO 820416-015972\\nPremises\\nTHE PARTIES AGREE THAT the Landlord will rent to the Tenant and the Tenant will rent from the Landlord the following residential premises:\\nNO 4, JALAN CHENG PERDANA 1/3, TAMAN CHENG PERDANA, 75250 MELAKA\\nContract Period :\\nThe tenancy is to begin on 1st JANUARY 2014 and is RENEWAL EVERY YEAR . Minimum contract period is 1 Year .\\nTERMS:\\nThe tenant agrees to pay in advance of TWO MONTHS months of RM750 per month by 25 DECEMBER 2013 This agreement shall commence on 1st JANUARY 2014 If the tenant should move from the premises prior to the expiration of this time period, he shall be liable for all rent due until such time that the tenant is occupied by an OWNER approved paying tenant and/or expiration of said time period, whichever is shorter.\\nFor the TWO MONTHS deposit,\\n1 Month will be used for booking and paid for the month of JANUARY\\n2014 ( 1 bulan bayar untuk booking pada bulan Januari 2014)\\n-\\t1 Month will be used for the notice on the last month of stay (1 bulcin\\nuntuk notis pada bulan terakhir) .\\nPAYMENTS:\\nRent and/or other charges are to be paid Oil every first week of every\\nmonth. All payments are to be made by cheque or cash or credit to the banking account\\nPembayaran sewa mesti dibuat pada minggu pertama setiap bulan.\\n\\nUTILITIES:\\nTenant agrees to pay all utilities (Water, Electricity , Indah Water and Telephone Bills ). A deposit of RM300 is required for Utilities and will be returned to tenant if all the utility bills are cleared.\\nRENTAL PROPERTY RULES OF CONDUCT\\nThis addendum to the rental agreement executed between the parties contains additional rules and regulations intended to help secure the comfort and safety of residents and their neighbours.\\nALTERATIONS:\\nTenant shall not make any alterations to the premises, including but not limited to installing aerials, lighting fixtures, washing machines, dryers or other items without first obtaining written permission from Landlord: provided, however, that notwithstanding such consent, all alterations including items affixed to the premises shall become the property of the Lessor upon termination of the lease.\\nAny article attached to the woodwork, walls, floors or ceilings shall be the sole responsibility of Tenant. Tenant shall be liable for any repairs necessary during or after residency to restore premises to the original condition. Glue or tape shall not be used to affix pictures or decorations.\\nPenyewa tidak dibenarkan mengetuk atau memaku pada mana mana dinding rumah kecuali mendapat kebenaran daripada tuan rumah.\\nTenant shall not change or install locks, paint, or wallpaper said premises without Landlord's prior written consent, Tenant shall not place placards, signs, or other exhibits in a window or any other place where they can be viewed by other residents or by the general public.\\nANIMALS:\\nBirds, dogs, cats, reptiles or other animals will not be permitted in the premises at any time.\\nSegala binatang kesayangan seperti kucing, anjing, burung dan arnab tidak dibenarkan dalam premis pada bila-bila masa.\\nANTENNAS:\\nAny antenna or satellite dish placed on or attached on the roof or exterior walls of the building without consent of the property owner in writing is liable to removal without notice.\\nBALCONY:\\nBalcony is not intended for storage. Bicycles and furniture are the only items that may be placed or stored. Other personal items, including, but not limited to boxes and general clutter, must be stored elsewhere or disposed of properly.\\nCLEANING AND DAMAGE DEPOSIT:\\nCleaning charge may be deducted if the rental property is not returned clean, including appliances and carpet. Other necessary repair, painting or damage charges may be deducted from the deposit.\\nRumah sewa mesti dikembalikan dengan bersih dan sempurna seperti pada asal. Segala pembayaran untuk pembaikan atau kerosakan akan ditolak daripada deposit\\nCOMBUSTIBLE AND PROHIBITED SUBSTANCES:\\nAny flammable, combustible or explosive fluid, material, chemical or substance is strictly prohibited. No smoking is allowed in unit or in shared areas of property.\\nAll doors must be locked during the absence of Tenant. All appliances, except refrigerators, must be turned off before leaving the unit. The use of charcoal barbecues is prohibited . Candles may not be burned in bedrooms. Candles used in common areas must be attended at all times.\\nMana-mana bahan mudah terbakar atau bahan letupan cecair, bahan kimia adalah dilarang.\\nPenggunaan arang adalah dilarang. Lilin tidak boleh digunakan di dalam bilik tidur. Lilin digunakan di kawasan yang lapang dan perlu dijagai pada setiap masa.\\nCOURTESY:\\nProfane, obscene, loud or boisterous language, or unseemly behavior and conduct are absolutely prohibited. The tenant agrees to not permit to be done, anything that will annoy, harass, embarrass, or inconvenience any other tenants, neighbors or occupants in adjoining premises.\\nDISTURBANCES:\\nAt all times tenants shall not make or permit any disturbing noises in the building. All musical instruments, television sets, stereos, radios, etc., are to be played at a volume which will not disturb other persons\\nPada setiap masa penyewa tidak boleh membuat bunyi kuat yang boleh mengganggu orang lain atau jiran.\\nDRUG-FREE HOUSING:\\nDrug-related criminal activity will not be tolerated on or near the property, whether on the part of the tenant, any member of the household, any guest or any other person. Acts of violence or threats of violence, including but not limited to, brandishing weapons or the unlawful discharge of firearms, on or near the property will not be tolerated. The parties agree that violation of any or all of these provisions shall be a material violation of the lease and will be cause for immediate termination of the lease.\\nAktiviti jenayah berkaitan dadah tidak dibanarkan sekali. Tindakan keganasan atau ancaman keganasan tidak dibenarkan.\\nEXTERIOR:\\nNothing shall be placed or kept on the outer sill or on the outside of any window, and nothing shall be thrown out of any window, door or from any porch into any attached yard, sidewalk or alley. No awnings or other projections shall be attached to the outside walls of the building, and no blinds, shades or screens shall be attached to or hung in, or used in connection with any window or door of the demised premises, without prior written consent of the property owner. Garbage cans, supplies, or other articles shall not be placed in the halls or on the staircase landings, nor shall anything be hung from the windows or balconies or placed upon the windowsills. No linens, clothing, curtains, rugs or mops shall be shaken or hung from any of the windows or doors.\\nGARBAGE:\\nNo garbage or other refuse shall be stored or allowed to accumulate on the premises for extended periods of time. No garbage shall he thrown out of windows, doors or from any other part of the property. All garbage and refuse shall be disposed of in a timely manner. Garbage is to be placed inside the containers provided and lids should not be slammed.\\nNo littering of papers, cigarette butts or trash is allowed.\\nILLEGAL ACTIVITY:\\nIf the landlord observes any activity of a suspicious nature on the part of the tenant, guests or family members of the tenant in the leased premises, or any areas adjoining the premises, the landlord shall inform the police and the activity may be cause for immediate termination of the lease. Illegal activities on the premises will not be tolerated. Any arrest of a tenant, or guests of the tenant or suspicion of any illegal activity, regardless of whether it results in a conviction, may be cause for termination of tenancy.\\nKEYS:\\nKeys shall be provided upon payment of the first month's rent and security deposits, and shall be deemed a part of this Agreement. The tenant shall not change, reproduce or add any keys and/or locks without the express prior permission of the property owner. The tenant shall provide the property owner with copies of every key for the premises.\\nIf the tenant shall lose the keys to the apartment, then he shall be responsible for the cost of replacement keys or locksmith charges.\\nLIGHT BULBS:\\nBefore occupancy of the rental property, all light bulbs will be installed and in good working order. Thereafter, tenants are required to provide and change all bulbs within or switch controlled from their premises, no matter where located, at their own expense.\\nOCCUPANCY:\\nOnly occupants listed on the application for tenancy and lease shall occupy the rental property. Any deviation from this requirement will automatically terminate the lease/rental agreement..\\nMany a penghuni & ahli-ahli keluarga boleh menduduki rumah sewa . Tidak dibenarkan kediaman untuk pekerja-pekerja.\\nPenyewa tidak dibenarkan menyewa bilik kosong kepada orang lain atau sesiapa pun pada bila-bila masa.\\nRETURN OF PROPERTY:\\nTenant agrees to return house without damages and in original condition. Property owner reserves the right to periodically inspect tenant's house and if any damage has occurred, tenant agrees to immediately vacate premises and the lease shall be terminated.\\nPemilik rumah berhak untuk secara berkala memeriksa rumah penyewa dan jika apa-apa kerosakan telah berlaku, penyewa bersetuju untuk segera mengosongkan premis dan pajakan itu hendaklah ditamatkan.\\nPLUMBING:\\nThe toilets, washbasins, sink; disposal and other plumbing fixtures shall not be used for any purpose other than those for which they were constructed. No sweeping, rubbish, rags or other substances shall be thrown therein. The cost to repair damages or clean drain lines resulting from the misuse of fixtures in the demised premises shall be borne by the resident. The tenant shall keep the sink, lavatory drains and commode lines in good operating condition.\\nJika longkang atau saluran paip tersumbat disebabkan oleh pembuangan lampin, tuala wanita, tampon, mainan kanak-kanak, wads kertas tandas,\\nbola rambut, gris, minyak, sisa meja, pakaian, kain, pa sir, tanah, batu, atau kertas dan Iain-lain, Penyewa bertanggungjawap untuk membayar kos pembersihan.\\nREPAIRS:\\nTenant agrees to notify property owner immediately any necessary repairs or unsafe condition of any kind within the rental property or common areas.\\nSIGNS:\\nNo sign, advertisement, notice or other lettering shall be exhibited, inscribed, painted, or affixed by tenant or tenant's family, on any part of the outside or inside of the demised premises or the building without prior written consent of the property owner.\\nPenyewa tidak dibenarkan mempamer tanda, iklan atau notis pada mana-mana bahagian luar atau dalam bangunan tanpa kebenaran dari pemilik rumah.\\nRumah ini khususnya untuk matlamat kediaman penyewa. Penyewa tidak dibenarkan menyimpan barang-barang perniagaan dalam rumah.\\nPlease sign your name in the space provided below as an indication that you have reviewed and understand them.\\nSila tulis dan sign nama anda dalam ruang yang disediakan di bawah sebagai petunjuk bahawa anda telah menyemak dan memahami peraturan-peraturan tersebut.\\nSignature of Landlord/ Repr\\nSignature(s) of Tenant(s)\\nI have received a copy of the Tenancy Agreement.\\nNORAID A BINTIMOHD AZHARI (IC NO. 820416-01-5972 )\\nSignature of Tenant(s)\\n\\n\",\n",
       "  {'entities': [(196, 223, 'PartyTwo'),\n",
       "    (505, 521, 'AggStart'),\n",
       "    (722, 738, 'AggStart'),\n",
       "    (96, 108, 'PartyOne'),\n",
       "    (653, 658, 'AggValue')]}),\n",
       " ('\\n\\nRENTAL AGREEMENT\\nThis RENTAL AGREEMENT is made and executed on this 10th- mav 2009\\tby and between:\\nBETWEEN\\nSri.E.Anwar\\n#222,16™ Main,6th Cross,\\nBTM 2nd Stage, E.W.S. Bangalore-560076.\\nHereinafter called as LESSOR of the one part: and\\nMohammed Ishaq\\ns/o.Mohammed Moosa\\n#415,ground floor,29th main ,8th cross,\\nNear M.E.S college,B.T.M 2nd(EWS)\\nBangalore-560076\\n\\n\\n\\nHere in after called as the “ LESSEE” of the other part and in witnesses as follows\\nWhere as the terms the Lessor and Lessee shall mean and include their respective heirs,legeal representative administrators, executors,and assigns.\\nWHEREAS the Lessor is the sole and absolute owner of the schedule property described hereunder and wheras the Lessor is intend to letout the said house to the lessee on rental basis for a monthly rent of 4000/-(rupees Four thousand only) and whereas the Lessee is willing to take the below house and agreeing to pay the rent the Lessor regularly.\\nThis Lease executed for a period of 1 l(Eleven) Months from the date of 10/05/2009 but it may be extended by mutual consent of the Lessor and Lessee. The above said rent will be enhanced by 10% in every 11 months once on the existing rent.\\nWhereas the Lessee has paid a sum of Rs.40000/-(Rupees Forty Thousands only) as advance to the Lessor before the following witnesses and acknowledge the receipt of the same. This amount will be refundable to the Lessee by the Lessor at the time of vacating the house and this amount will not carry any interest.\\nWhereas the Lessee shall not sub-let.runderlet-let the premises to any person without written permission from the Lessor.Incase the Lessee does not pay the said rent to the lessor continuosly three months,the Lessor is at liberty to evict the lessee from the premises.\\nWhereas the Lessee hereby agrees pay to the Lessor every month electricity charges to the concerned authority without arrears.If any arrears at the time of vacating the premises the same will be deducted from the advance amount.\\nWhereas the Lessee hereby agreed to pay the said rent and water charges to the lessor on or before 15th of every English calendar month.\\nWhereas the parties named above shall terminate this agreement by giving 3 months notice in advance.\\nWhereas the Lessee hereby agreed to keep the premises in good and tenantable conditions without damages, if any damages caused by the Lessee, the same will be replaced by the Lessee or the said amount will be deducted from the advance.\\nWhereas the lessee shall not make any additional alterations to the schedule premises at all reasonable hours.\\nWhereas the lessee shall allow the Lessor or his legal representatives in the schedule premises under the lease for insepection of the schedule premises at all reasonable hours.\\nWhereas the lessee shall not store and keep any highly inflammable explosive material endangering life and property in the schedule property and the neighborhood.\\nWhereas at the time of vacating the leased portion of house the Lessee shall not ask or demand any compensation from the Lessor at any cost and shall handover the vacant possession of the leased portion of house to the Lessor only.\\nWhereas the lessee shall pay the painting charges of 3200/- at the time of vacating the schedule premises.\\nSCHEDULE\\nAll the piece and parcel of the property bearing Ground Floor in the premises 1^0.415,8* Cross,29th Main, BTM 2nd Stage,E.W.S,Bangalore-560076.\\nConsisting of: One hall, Kitchen, bathroom and lavatory with RCC roofing.\\nFittings: 1-Fan, 1-Geyser.\\nIN WITNESS WHEREOF both the parties Lessor and Lessee have signed this RENTAL AGREEMENT made on the day,month and year first written at Bangalore..\\nWITNESSES :\\n1)\\nLESSOR(OWNER)\\nLESSEE(TENANT)',\n",
       "  {'entities': [(2203, 2218, 'Notice'),\n",
       "    (236, 250, 'PartyTwo'),\n",
       "    (109, 120, 'PartyOne'),\n",
       "    (1015, 1025, 'AggStart'),\n",
       "    (800, 804, 'AggValue')]}),\n",
       " ('INDIA NON JUDICIAL\\nGovernment of Karnataka\\ne-Stamp\\nIN-KA54376245967338M\\n21-Apr-2014 10:50 AM\\nNONACC (BK)/ kakscub08/ TUMKUR/ KA-TU SUB IN-KAKAKSCUB0864505677712874M S T NAGAVENI WO H V NARAYANA Article 12 Bond AGREEMENT 0\\n(Zero)\\nS T NAGAVENI WO H V NARAYANA H N MADHU S O H V NARAYANA S T NAGAVENI WO H V NARAYANA 200\\n(Two Hundred only)\\nPlease write or type below this line.\\nRental Agreement\\nRental agreement was executed on Two thousand fourteen April twenty first (21/04/14), Between S T Nagaveni (owner) C/o Narayan H V Resident of Vanasuma nilaya Tumkur District SS puram , 8th Cross ,7th Main and Mr Madhu H N residing at 8th cross 7th main Sspuram Tumkur.\\n\\nNOW THIS TENANCY AGREEMENT WITNESSETH AS FOLLOWS:\\nPurpose of use Rental for flour mill and Dairy products\\nThe TENANT has paid this day a sum of Rs. 50,000 (Rupees fifty thousand only), being advance, by cash on which is the receipt of the same is herewith acknowledged by the owner.\\nThe Tenant shall pay a monthly rent of Rs 5,000/-(Rupees sixteen thousand only) on or before 5th of every English calendar month.\\nThe term of this agreement of rent commenced from <21/04/2014> This agreement will remain in force a period of 05 months.\\nDuring the term the Security deposit amount will not carry any interest and this amount fully refundable to TENANT by OWNER while termination of this agreement or rent after deducting arrears of dues of TENANT such as electricity Bill, damages, rent etc., thereon, to which both the parties in due course of the term TENANT shall pay thereon to the concerned authority as and when it falls due. In addition to that TENANT himself incurred normal wear and tear maintenance charges out of his own cost and risk.\\n10. The TENANT shall pay to the owner an enchanced rent of Rs 5% of monthly rent, for every year over and above the then existing rental at the end of the lease period, if the lease were to be continued by fresh deed for over 12 months.\\nSCHEDULE Details\\nThe premises bearing Tumkur Taluk, Gukur Hobli, Naruganahalli post, Honnenhalli Village Survey Number 10/03 and 10/04/ having 1.13 Acers is used for industries land having 40x30 Shed and watch men room\\nEast: other properties, West: road, North Hanumantha rayyappa Land , South : Chinnama Land owner.\\nWITNESSES\\nOWNER\\nTENANT',\n",
       "  {'entities': [(165, 177, 'PartyOne'),\n",
       "    (229, 241, 'PartyOne'),\n",
       "    (285, 297, 'PartyOne'),\n",
       "    (486, 498, 'PartyOne'),\n",
       "    (602, 614, 'PartyTwo'),\n",
       "    (467, 475, 'AggStart'),\n",
       "    (985, 993, 'AggValue')]}),\n",
       " ('\\n\\n\\n\\n\\n\\n\\nAGREEMENT\\nThis Agreement is entered into Date-7/2/08, between Procall Private Limited having its Corporate Office at Procall Private Limited # F-6. First floor. Triveni Commercial Complex. Shiekh Sarai Phase-1. New\\nDelhi-1100 17 hereinafter referred to as \"Procall\" (which expression shall unless repugnant to the context or meaning thereof includes its successors, associates, business affiliates, subsidiaries and assigns) of the one part and\\nAddress of the Party M/s Telelogic India Pvt. Ltd. #72 Salarpuria pearl civil station. Residency road. Bangalore 560025hereinafter referred to as \"User\" (which expression shall unless repugnant to the context or meaning thereof includes its heirs, legal representatives, successors and assigns) of the other part and\\nWhereas the User has approached Procall for Renting Trunking Radio Services under the terms and conditions contemplated by this Agreement.\\nNOW THEREFORE THE PARTIES HERETO AGREE AS FOLLOWS\\n1. SECURITY DEPOSIT\\nThe user agrees to pay an amount of Rs 6000/- as an interest free security deposit in Procall Pvt. Ltd. This will be deposited in the bank by Procall Pvt. Ltd. and shall be returned to the user on the expiry of the rental period after they return the radios, Accessories and any other material belonging to Procall Pvt. Ltd, Which they have taken on rent in good order and condition (To be confirmed by Procall after inspection at their premises) 2.. RENTAL PERIOD\\nThe User agrees to rent radios from Procall for a minimum period of 12 months. The start date of\\nRental period will be the date from which Radios will be activated.\\nSCHEME OF RENTAL\\nThe customer would be required to use Procall services for a minimum period of 12 billed months. This period would be considered as locking period for the agreement.\\nDuring the Rental period the Radios will remain the absolute properly of Procall. In case of discontinuity of the rental services or non payment / dishonour of cheques or any other such event, the Radio shall be repossessed by Procall for which no credit will be given to the User.\\nIn case of loss, damage or theft, the User shall be liable to reimburse the cost of the equipment less depreciation (i .e. 20% W.D.V) to Procall. Procall shall switch off the lost Radio immediately on written information by the user mentioning the UFMI (user fleet member ID) of the radio. The cost of Radio, for the above purpose has been fixed at Rs. 12000/- (Rupees Twelve Thousand only) per set.\\nAlthough Procall is obliged to provide the service in accordance with the terms and conditions of this agreement, it shall not be responsible for any damages where the continuity of the service is affected by reasons of Acts of God, natural calamity, fire, Strikes, Riots, Govemment/Statutory Order or Restrictions and/or such other events outside Procall\\'s control.\\nDuring the useful life of the Radios, they remain property of Procall Private Limited.\\nAIR TIME AND RENTAL CHARGES ON RADIO\\nThe User agrees to take Radios on rent from Procall Private Limited.\\nThe rentals will be charged @ Rs. 1200/- per unit per month payable monthly in advance.\\nService Tax will be charged @ 12.36%. Incase of any new Taxes are incorporated by Government of India or State Government; the same would be communicated separately.\\ne. This agreement is valid for quantity upto 100 radios.\\nPAYMENT TERMS\\nWork Order along with one month service in advance in favor of ProCall Private Limited.\\nRental Payment payable monthly in advance in favor of ProCall Private Limited.\\nService Maintenance\\nAll hardware related issues to be reported / repaired at Motorola Authorized service centre in Bangalore. The contact for the same will be :M/s Redington India # 122/2, Infantry Road, Monarch Chambers, 2nd floor, Bangalore.\\nAny Network service related issues will be addressed by Procall Private Limited.\\nACCESSORIES\\nAll spare batteries and other related accessories will be purchased by Telelogic India Pvt. Ltd directly from the Motorola Authorized Repair Centre for the purpose of using Radios on rental.\\nCOMPLETION\\nOn expiry of the rental period or termination of the agreement, the User shall immediately handover the possession of the Radios to Procall Private Limited along with the cheque of rental usage period.\\nTERMINATION\\nOn Completion of 12 months paid billing, either party can exit from the agreement by giving a 30 days notice period. In case Customer decides to terminate the agreement before completion of 12 paid months, the customer will be liable to pay Procall for the balance months of services.\\nIn the event of termination, the termination would be applicable on receipt of complete radios along with accessories by Procall or any of its representatives.\\nCONSF.Ot JF.NCF.S OF DISHONOUR OF CHEQUES\\nThe User hereby undertakes that he fully understands and is aware of the consequences of dishonour of cheque, which are enumerated as per \"Section 138 of the negotiable Instrument Act, 1881 .\\nARBITRATION\\nIn case of dispute arising out of, or in relation to this Agreement between the parties hereto the same shall first be sought to be settled by arbitration governed by the Arbitration and Conciliation Act, 1996 and the rules framed hereunder.\\nJURISDICTION\\nAll disputes arising out or in any way connected with this Agreement shall be deemed to have arisen in Delhi/New Delhi and only the courts in the State of Delhi shall have jurisdiction to determine the same.\\nAll associated cost, incidental to the execution of this agreement will be borne by Procall and shall not be reimbursed by the User.\\nThe charges by Procall are fixed for the period of 12 months and no enhanced charges will be payable by the User. Apart from any new Govt, levies & Taxes.\\n.The User expressly agrees to pay sales tax, service tax and such other taxes, cess and levies imposed by\\nState/central government, municipal or local authorities whenever they become leviable at any point. (As on date Taxes are Service Tax @12.36% on Rental Charges.)\\nIN WITNESS WHEREOF the parties have hereto put their hands on this day, month and year herein above written.\\nFor and on behalf of\\tFor and on behalf of\\nPROCALL PRIVATE LIMITED\\tTelelogic India Private Limited\\n(Authorised Signatory)\\t(Authorised Signatory)\\nDate and Stamp\\nWITNESS\\n',\n",
       "  {'entities': [(69, 92, 'PartyOne'),\n",
       "    (124, 147, 'PartyOne'),\n",
       "    (2902, 2925, 'PartyOne'),\n",
       "    (3008, 3031, 'PartyOne'),\n",
       "    (3421, 3444, 'PartyOne'),\n",
       "    (3500, 3523, 'PartyOne'),\n",
       "    (3825, 3848, 'PartyOne'),\n",
       "    (4196, 4219, 'PartyOne'),\n",
       "    (6140, 6163, 'PartyOne'),\n",
       "    (4372, 4386, 'Notice'),\n",
       "    (2422, 2431, 'AggValue'),\n",
       "    (53, 59, 'AggStart')]}),\n",
       " (\"RENTAL AGREEMENT\\nThis rental agreement is made and executed on this on the 27th day January 2010 by and between:\\nSRI.N.VIJAY KUMAR,\\nAged about 51 years ,\\nNo .9.18th Main,5th Cross,\\nBTM 1st Stage, Thavarekere post,\\nBanaglore-566029.\\nHereinafter called the 'LESSO R/O W N E R' of the one part, and\\nSHRI.DURGA SHANKAR GUPTA,\\tworking at\\nTVS COMPNAY LIMITED\\nPermanent Address:\\tP.B NO 4,HARITA,\\nHOSUR-635 109,\\n3/230 ,vidhichanda\\tTAMIL NADU\\n,INDIA.\\nAuraiya uttar Pradesh Pin-206122\\nHereinafter called the 'LESSE E/T E N A N T' of the other part.\\nWhereas the terms the lessor and lessee shall mean and include their respective heirs ,legal representatives and assigns.\\nWhereas the lessor in the sole and absolute owner of the schedule property described hereunder and whereas the lessor is intend to let out the said house to the lessee on the rental basis for a monthly rent of Rs 9 500/-( Rupees nine thousand five hundred only)\\nAnd whereas lessee is willing to take the below house and agreeing to pay the rent to the lessor regularly .if the tenant vacate with in 11 month he has to pay one month rent to owner.\\nThis lease executed for the period of 11 month from the date of\\tbut it\\nmay extended by mutual consent of the of the lessor and lessee .The rent will be enhanced by 5 % once in 11 month on the existing rent.\\nWhereas the lessee has to paid a sum of Rs.\\tAdvance to the lessor\\nbefore the following witness and acknowledge the receipt of the same, this amount will be refunded to the lessee by the lessor at the time of vacating the house and this amount will not carry any interest.\\nWhereas the lessee shall not sub-let/under -let the said house to any person without written permission from the lessor .on case the lessee does not pay the said rent to the lessor continuously three months the lessor is at liberty to evict the lessee from the premise.\\nWhereas the lessee hereby agree to pay the electricity charges separate to the concerned authority without arrears at the time of vacating the premises the same will be deducted from the advance amount.\\nWhereas the lessee hereby agreed to pay the said rent to lessor on or before 5th of every English calendar month.\\nWhereas either party should give 1 month prior notice for termination of this lease.\\nWhereas the lessee shall use the schedule house for residential purpose only.\\nNot for any purpose.\\nWhereas the lessee hereby agreed to keep the premises/fittings in good and tenantable condition without damages ,if any damages caused by lessee, the same will replaced by the lessee or the the said amount will be deducted from the advance.\\nWhereas the lessee shall not make any additional alteration to the schedule premises.\\nWhereas the lessee shall not allow the lessor or his legal representative in the schedule premises under the lease for inspection schedule premises at all reasonable times.\\nWhereas as the lessee shall not store and keep any highly inflammable explosive materials endangering life and property in the schedule property and neighbourhood.\\nWhereas at the time of the vacating the leased portion of the lessee shall not ask or demand any compensation from the lessor at any cost and shall hand over the vacant possession of the house to the lessor party only.\\nWhereas the lessee hereby agreed to re-paint the schedule premises at the time of vacating ,if fails to do so, paint charges will be deducted by the lessor from the advance amount.\\nAll the piece and parcels of the property bearing ground floor, premises situated at No.9 18th Main, 5th Cross, BTM 1st Stage, Thavaerekere post, Bangalore- 560029.\\nConsisting of: one hall, kitchen one bedroom,\\nFittings:\\nIN WITNESS WHEREOF the above named parties lessor and lessee have\\nAffixed their signature to this rental agreement made on the day, month and year first written at Bangalore.\\nWITNESSES:\\n1.\\nLESSOR\\nLESSEE\",\n",
       "  {'entities': [(75, 96, 'AggStart'),\n",
       "    (2207, 2227, 'Notice'),\n",
       "    (113, 130, 'PartyOne'),\n",
       "    (871, 879, 'AggValue')]}),\n",
       " ('© “Lesconcierges Help Desk” ©\\nFor rental agreement request take only the details as\\nmentioned below.\\nNote: Request you to fill the details in capital letters and these all details are mandatory:\\nRequest number(SRF) and Desk Name\\nValue of stamp paper(Rs.20 or 50 or 100 or 200)\\nCommencing(starting) date of agreement\\t: 01-04-2014\\nMonthly Rent amount (in words also)\\t: EIGHT THOUSAND ONLY\\nSecurity Deposit or advance amount (in words also): FIFTY THOUSAND ONLY\\n6. Owner NAME and Address: ...SHIVANAND,NO 17,6th MAIN,2nd CROSS,VINAYAKA\\nLAYOUT,CHINNAPANNAHALLI,MARATHAHALLI,BANGALORE- 560037\\n7. Tenant NAME and Address: VIVEK CHANDRA MALLIK, 1st FLOOR,NO 17,6th MAIN,2nd CROSS,VINAYAKA LAYOUT,CHINNAPANNAHLLI.MARATHAHALLI,BANGALORE-560037\\nProperty address (Schedule) (address of which place you are going to stay/use for rent): 1st FLOOR,NO 17,6th MAIN,2nd\\nCROSS,VINAYAKA,LAYOUT,CHINNAPANNAHLLI.MARATHAHALLI,BANGALORE-560037\\nAlong with Fittings and Fixtures: Fans:-\\t2\\tNo’s, Tube lights:-\\t2 ...No’s, Bedrooms:-\\t2...\\nNo’s, Geyser :...0.. No’s, Attached bathroom& toilet: Yes\\nCost: Total charges Rs. 200/- (for stamp paper of Rs.20/-), 250/- (For stamp paper ofRs.50/-) and 300/-(for stamp paper of Rs.100/-)\\nTAT: 2working days\\nNote: Stamp paper value will be depends on security or advance amount.\\nFor eg: If the advance below 20.000/- then 20 rupees stamp paper is required. If it is above 20,000 to below 50.000 then 50/- rupees stamp paper is required, if it above 50.000 the 100/- stamp paper is required.\\nSignature of Customer/Applicant',\n",
       "  {'entities': [(616, 636, 'PartyTwo'),\n",
       "    (367, 386, 'AggValue'),\n",
       "    (318, 328, 'AggStart'),\n",
       "    (489, 498, 'PartyOne')]}),\n",
       " (\"\\n\\n\\n\\n\\n\\n\\n\\n\\n\\n\\n\\n\\n\\n\\n\\n\\n\\n\\n\\n\\n\\n\\n\\n\\n\\n\\n\\n\\n\\n\\n\\nRENTAL- AGREEMENT\\nThis RENTAL AGREEMENT IS made and executed on 06th day of March 2013 at Hyderabad. By and between\\nSmt C.BHAGYAMMA, w/o C.GOVARDHAN REDDY, age about 52 years. Occ: Housewife R/O H.N04-8-38, Manjeera Nagar, Sangareddy Mandal, Medak District, AP.\\nHEREINAFTER CALLED THE FIRST PARTY THE “OWNER” WHICH TERM SHALL MEAN AND INCLUDE ALL HIS HER HEIRS EXECUTORS. ADMINISTRATORS LEGAL REPRESENTATIVES AND ASSIGNEES\\nAND\\nM/S. JP INTERIO, M/S.SRI JAYAM HOUSING & CONSTRUCTIONS & M/S.SRI JAYAM HOUSING & CONSTRUCTIONS Pvt.Ltd. represented by its Managing Director & Managing partner B.JAYA PRAKASH. S/O. B JAGANNADHA RAO, aged about 33 years. Occ Business R/O BHEL-LIG-6, Ramachandrapuram, Medak District, AP\\nHEREINAFTER CALLED THE SECOND PARTY THE “TENANT” WHICH TERM SHALL MEAN AND INCLUDE ALL HIS/HER HEIRS EXECUTORS ADMINISTRATORS LEGAL REPRESENTATIVES AND ASSIGNEES\\nContd..2..\\n\\n..2..\\nWhereas the second party was in search of a suitable accommodation for his business purpose by name and style of *’ M/S. JP INTERIO,” & M/S.”SRI JAYAM HOUSING & CONSTRUCTIONS” M/S.SRI JAYAM HOUSING & CONSTRUCTIONS Pvt.Ltd. and being satisfied with the FLAT NO 204, 2nd Floor, BR's Sharada Hema durga Galaxy, Situated Chandanagar, Hydearabad-500 050, Ranga Reddy District, Andhra Pradesh.\\nWhereas the first party got the Flat No.204, llnd Floor, BR's Sharada Hema Durga Galaxy, Situated Chandanagar, Hydearabad-500 050, Ranga Reddy District, Andhra Pradesh, and offered to let out on\\nRent the said Flat NO.204, llnd Floor, BR Sharada Hema durga Galaxy, situated at Chandanagar, Hyderabad-500 050, Ranga Reddy District, Andhra Pradesh, to the second party for his business\\nPurpose on the terms and conditions agreed upon by both the parties as mentioned below.\\nNOW THE AGREEMENT WITHNESSESTH AS UNDER\\nThis tenancy is for a period of 11 months commencing from 06th day of April 2013 the date on which possession of the said flat is delivered and time to time it will be extended the tenancy period with consent of both parties\\nThe monthly Flat Rent is of RS. 13,000/- (Rupees Thirteen Thousand Only) per month and payable within the 10th day of same month.\\nThe tenant paid an amount of Rs.36,000/- (Rupees Thirty Six Thousand Only) by the way of cash as the advance which will not carry any interest and is refundable at the time of vacating the said Flat.\\nThe tenant shall pay the electricity charges & maintenance charges of the said flat regularly without any dues.\\nThe first arty desires to terminate the tenancy for any reason or the second arty desires to vacate the said Flat can be terminated by ONE month notice on either side.\\nThe sad flat will be used only for Business purpose and it will be in a proper Tenantable Condition.\\nThe said Flat shall keep the premises with all fixtures Electrical installations etc... In condition as it is let subject to reasonable wear & tear.\\nThat the tenant herein shall not store any dangerous or highly inflammable material in the demised premises at any time.\\nAt all times, during the term of tenancy to keep and maintain the premises clean, Tidy, Healthy in and watertight in all seasons and further in good and substantial repair reasonable wear & tear expected.\\nThe terms and conditions arrived at above by both the parties are with their own free will and consent and without any coercion or dues from anybody.\\nWITNESSES:\\tOWNER\\nl.\\nTENANT\",\n",
       "  {'entities': [(96, 118, 'AggStart'),\n",
       "    (2626, 2642, 'Notice'),\n",
       "    (148, 163, 'PartyOne'),\n",
       "    (2077, 2087, 'AggValue')]}),\n",
       " ('STAMP DUTY KARNATAKA\\nc$j5Coz3f$ 3oc>rtjs s&o^c^ost ^C7e)©c> &sd: &&. 2/\\nds\\tafss&de dTOjSczSrt eroaiaieef«^*^x\\nThis sheet can be used for any document _ . , ,\\nrossssSrfrS d,\\nWR E N T A L AGREEMENT”\\nThis Rental Agreement is made and Executed on\\nat Bangalore, by and Between:- wef 1/4/2014\\nMr .Giddappa S/o lute Nagappa\\nD No.134 2nd cross\\nShunthi L/o Rumamurthynagar\\nBangalore 560016\\nHereinafter Called the \"OWNER\" of the One Part: Ms Pottumurthi Udayalaxmi W/o Ramakr ishna Kajjam\\nH No.27-7 Main Bazar,\\nMiryalaguda, i, Nalgonda Dist A p 503207.\\nHereinafter called the \"TENANT\" of the Other Part witnesseth as follows terms and conditions.\\n1. Whereas the Tenant has paid Advance amount of Rs.40,000/- ( Forty thousand only\\t).; to the owner.\\nThis amount shall not carry any interest and this is refundable at the time vacating.. If any arrears balance that charges will deducted from the advance amount at the time of vacating.\\nhas agreed to pay the Rental Charges of thousand three hundred only\\t) t<\\nmonth regularly.\\nthe Electrcity charges separately to\\no\\n\\n4f This Rental Agreement Duration for only 11(Eleven) months from this date of Agreement. If both the parties mutual understanding it can be extended.\\nThe Tenancy can be terminated by either party by giving Two Month notice to the opposite party.\\nWhereas the Tenant shall not make any addition?! alteration to the schedule premises and tenant keep the portion clean and good tenantable conditions.\\nWhereas the Tenant shall use the Schedule premises for Residential purpose only and should not use for any illegal or immoral purposes.\\nWhereas the Tenant should pay painting charges at the time vacating the premises.\\nS C H E D u L E\"\\nThe House premises situated at No. 184 1st floor 2nd cross\\nohanchi h/o, Ruma.murth.yne.gar. Bangalore 560016 consists of 1 BHK. with bathroom & toilet.\\nIn witness whereof the party is hereto have signed this Rental Agreement on the day,month and year first above written in front of the following witnesses.\\n\\n\\n\\n\\n\\n\\n\\n\\n\\n\\n\\n\\n\\n\\n',\n",
       "  {'entities': [(964, 991, 'AggValue'),\n",
       "    (429, 454, 'PartyTwo'),\n",
       "    (1261, 1277, 'Notice'),\n",
       "    (287, 299, 'PartyOne'),\n",
       "    (278, 286, 'AggStart')]}),\n",
       " ('RENTAL AGREEMENT\\nThis Rental Agreement is made and executed at Bangalore on this the 1st May 2005 by and between:\\nMrs. S.Sakunthala,\\nHno: 4E,10-12-1,\\nREDNAM ALCAZAR,\\nOpp. SBI Main, Old Jail Road Jn,\\nVishakapatnam - 530020\\nHereinafter called as the “LESSOR” (which expression shall mean and include wherever the context so requires admits his heirs, executors, representatives and assigns) of the ONE PART;\\nAnd:\\nV.V.Ravi Kian„\\nS/o V.R.G.Sastry,\\nA.S.Rao Nagar,\\nHyderabad Andhra Pradesh.-36\\nHereinafter called the “LESSEE” (Which expression shall mean and include wherever the context so requires, admits his executors, representatives and assigns) of the OTHER PART.\\nWITNESSES AS FOLLOWS:\\nWhereas the Lessor is the absolute owner of the Fourth Floor residential premises bearing No:407A, T.C.Palya Main Road, Ram murthy nagar, Bangalore-16, which are morefully described in the Schedule written here under and hereinafter referred to as the “Schedule Property”.\\nWhereas the Lessor has agreed to grant a lease of the said premises to the Lessee under the following terms and conditions.\\nDURATION: The duration of the Lease shall be for a period of 11 (Eleven) months commencing from 1st April 2010 and is subject to renewal thereafter under mutually agreed terms and conditions by the Lessor and the Lessee with an enhancement of 5% in the monthly rent.\\nRENT: The monthly rent payable by the Lessee to the LESSOR for the Schedule Property shall be Rs. 9,000/- (Nine thousand and two hundred rupees only). This amount shall be paid every month within tenth day of subsequent month.\\nELECTRICITY AND WATER CHARGES: The Lessee shall pay the Electricity charges to the concerned department regularly\\nINTERNAL MAINTENANCE: The Lessee shall maintain the Schedule Property in a state of good order and condition and shall not cause any damage or disfigurement to the schedule property there in always expecting fair wear and tear.\\nLIABLE FOR DAMAGES: It is agreed that any damages caused by the Lessee in the Schedule Property shall be made good by the Lessee promptly.\\nUSER: The Schedule Property shall be used by the Lessee only for residential purpose and shall not use or permit the same for any business or occupation or any unlawful purpose.\\nDEPOSIT: The Lessee has paid a sum of Rs. 80,000/- (Rs. Eighty thousand only) by way of cash as Security Deposit. The same amount shall be refundable by the Lessor to the Lessee without any interest at the time of vacating the Schedule Premises.\\nTERMINATION OF LEASE: Either party may give one month notice in writing to terminate this Lease agreement.\\nNotwithstanding what is stated above, the agreement shall be revoked by the Lessor, if the Lessee is in default in the payment of the rent and/or other charges three months after the same have fallen due or if the Lessee commits breach of any terms and conditions of this agreement.\\nSCHEDULE PROPERTY\\nFourth Floor of the residential premises situated at HNO:407 A, T.C. Palya Main Road, Ram murthy nagar, Bangalore-560037, Consisting of three Bedrooms, hall, kitchen, two attached Toilet and Bathrooms.\\nFittings and Fixtures:\\n\\n\\nIn WITNESS WHEREOF the parties have executed this agreement in the presence of the following witnesses on the day, month and year as first above mentioned.\\nWITNESSES:\\n1.\\n2.\\n',\n",
       "  {'entities': [(114, 131, 'PartyOne'),\n",
       "    (2527, 2543, 'Notice'),\n",
       "    (411, 424, 'PartyTwo'),\n",
       "    (85, 97, 'AggStart'),\n",
       "    (1445, 1454, 'AggValue')]}),\n",
       " ('RENTfft\\tENT\\nThis Rental Agreement is made and executed on this the .?.??& day of\\t\\t2010 at Hyderabad, by and between:\\nM. V, V« VI JAY A SHANKAR, S/o, M, Rangaiah\\nR/o. Flat No. 309 , SHEETAL.ENCLAVE, JE12DIJNETLA,\\t\\nRanga Reddy Districto\\n(Hereinafter called the “LANDLORD”)\\nAND\\nMADDIREDDY BHARGAVA REDDY, S/O,MADDIREDDY SUBBA REDDY, R/o,Flat No.303, SHEETAL ENCLAVE, JEEDIMETLA,\\nRanga Reddy District\\t•\\n(Hereinafter called the “TENANT”)\\nWHEREAS the Landlord is the absolute owner and possessor of the bearing No Flat NOe2sfi 303» sheetal enclave, jeedimetla\\nRANGA REDDY DISTRICT\\nWHEREAS the tenant approached the landlord and requested him/her to let-out the said House/Plot on the rental basis and the same is accepted.\\nWHEREAS the tenant agreed to pay the monthly rent on or before\\n5th day of every month at Rs\\t9.99.7.9°\\t p.m. and agreed to\\nbear Electricity, Water Charges etc., as applicable, is valid from 11 months,.for the purposes of .Resident iai__|iroofo\\nIn witnesses whereof both the parties have signed on this the Rental Agreement before the following witnesses:\\nWITNESSES:\\n\\n\\n\\n\\n\\n\\n\\n\\n\\n',\n",
       "  {'entities': [(117, 142, 'PartyOne'), (275, 300, 'PartyTwo')]}),\n",
       " ('\\n\\nTHIS RENTAL AGREEMENT is made on this, the March 22nd day 2013 (TWO THOUSAND Thirteen) at Chennai.\\nBETWEEN\\nMr.Kamal, aged about 32 years, son of Appar Sundar residing at Pursawalkam, Kosapt Chennai-12 , hereinafter called the \"LESSOR\" which term shall mean and include whatever the context so admits and permits his legal heirs, legal representative, executors, administrators and assigns of ONE PART and represented by his father/mother -POA agent (in case of power of attorney), Appar, aged about 62 years residing at Pursawalkam, , Chennai — 600 012, as agent as per adjudicated power of attorney dated 22.03.13\\nAND\\nMr.V.Arun Kumar S/O of Mr.Veda Chalam, hereinafter called the \"LESSEE\" which term shall mean and include whatever the context so admits and permits his legal heirs, legal representative, executors, administrators and assigns of OTHER PART.\\nWHEREAS the LESSOR herein is the sole and absolute owner of all that piece and parcel of the residential flat, Old No.97, Kanda Swamy Koil street, Kosapet, Pursawalkam Chennai 600012 and more particularly described in the SCHEDULE hereunder.\\nAND WHEREAS THE LESSEE has approached the LESSOR to demise the SCHEULE mentioned FLAT on Monthly rental basis for Residential purpose for a period of 12 months on the terms and conditions hereinafter mentioned and the LESSOR has also herby agreed to demise the SCHEDULE mentioned FLAT to the LESSEE on a monthly rental on the following terms and condition.\\nNOW THIS LEASE AGREEMENT WITNESSTH AS FOLLOWS:\\nThe Lease shall be initially for a period of 12 months, commencing from 23.03.13 and\\nshall expire on the 23.03.14, upon completion of 12 months.\\nThe Lease is strictly for Residential purpose to accommodate the occupier of the LESSEE. The Lease is according to the English Calendar Month.\\nThe LESSEE has agreed to pay the Monthly Amenity charges on or before 5th day of the every succeeding month for the demised property more fully described in the SCHEDULE hereunder in the following manner.\\nRs 15000.00 per month (Rupees Twelve Thousand only) towards Rent.\\nRs 100000 (Rupees One lakh only) as one time interest free deposit to be paid by the LESSEE at the time of taking possession of the premises and refunded by the LESSOR at the time of receiving vacant possession of the premises (Refer Point 16 for details)\\nApart from the monthly rent, the LESSEE shall pay Maintenance Charges (Rs 1000 per month, directly paid to Mr.Kamal), Electricity Consumption charges (At actuals) and Water Charges (Rs.500/month) if any to the authorities concerned. The Maintenance charge relates to charges and expenses incurred for the maintenance of the premises such as maintenance of common area, electricity, charges relating to common area and salaries paid to the servants for the maintenance of the Building.\\nThat the LESSOR shall have full control over the supervision and management in respect of the said flat and the LESSEE shall not, in any way, interfere with the LESSOR\\'S right of maintenance nor the LESSOR interfere with the LESSEE\\'S rights of quiet & peaceful undisturbed tenancy & occupation.\\nThe LESSEE should keep the demised premises in good and tenantable condition, as any prudent person would do with his/her property.\\nThe LESSEE shall not use the demised premises for any purpose other than for which it was let out nor shall sub-let or sub-lease the portion let out to him to any third party.\\nThe LESSEE shall not commit default in the payment of rents and if the LESSEE fails to pay the monthly rent within the stipulated time for two consecutive months, the\\nlease shall stand cancelled and the LESSEE shall vacate the FLAT forthwith.\\nThe LESSEE covenants to keep the demised premises in good and tenantable condition during the continuance of this Lease and also no make any permanent additions or alteration in the same.\\nThat, in case of damage caused by the LESSEE to the SAID PREMISES during the period of use, LESSEE shall be held responsible for compensation and other charges as the case may be and such charges may be adjusted from the security deposit amount when the same is refunded upon completion of the licensing agreement tenure (Vacation of flat).\\nThe LESSEE shall handle the fittings and fixtures in the Demised premises and maintain the same properly.\\nThe LESSEE agrees to pay the monthly General Maintenance charges (Rs.1500/month) directly to The Flat Owner Mr.Kamal. The LESSEE pay in proportion to the charges and expenses incurred for the maintenance of the premises such as maintenance of common area, electricity, charges relating to common area and salaries paid to the servants for the maintenance of the Building.\\nThe LESSOR shall pay all taxes and Levies due to Municipal Corporation.\\nThat the LESSEE shall not create any untoward disturbance or nuisance and shall not allow any anti-social person in the SAID PREMISES.\\nThat the LESSEE shall not keep or store any illegal inflammable article or explosives that endanger life and property.\\nEither The LESSOR or the LESSEE may terminate the Lease agreement by giving written notice 2 (Two) months in advance. However the LESSEE is free to terminate the licensing agreement with a shorter notice period in which case the monthly rental for the premises & fixtures only, for the period of two months, shall be paid as compensation to the LESSOR.\\nThat no interest shall be payable on the deposit amount, which would be refunded by the LESSOR after deducting the arrears in rent and damages if any, at the time of LESSEE vacating and handing over the vacant and peaceful possession of the demise premises to LESSOR.\\n\\nThat the said lease shall stand automatically terminated in case the LESSEE fails to comply with any of the stipulated terms and conditions of this agreement.\\nOn the Expiry of the Lease Period of 12 months, this Lease Agreement can be renewed on the 5% increase of rent per annum, after expiry of the agreement and conditions for a further period of 12 / 24 months upon execution of a fresh lease agreement.\\nSCHEDULE\\nALL THAT PIECE AND PARCEL OF FLAT BEING NO 97,Kanda Swamy Koil Street, Kosapet, Chennai-600012.\\nIN WITNESS WHEREOF this agreement upon above-mentioned terms and conditions both the\\nLESSOR and LESSEE hereby are subscribing their respective hands and seals to the day,\\nmonth and year first above written.\\nSIGNED SEALED AND DELIVERED IN PRESENCE OF WITNESSES:\\n1.\\nSIGNATURE OF THE LESSOR OR POA Agent\\nSIGNATURE OF THE AUTHORISED SIGNATORY OF THE LESSEE\\nFixtures List\\na) Fans\\tb) Geysers\\tc) Tube Lights\\td) Exhaust Fan\\t\\ne) Other\\t',\n",
       "  {'entities': [(621, 636, 'PartyTwo'),\n",
       "    (2066, 2075, 'AggValue'),\n",
       "    (109, 117, 'PartyOne'),\n",
       "    (1579, 1587, 'AggStart'),\n",
       "    (1612, 1620, 'AggEnd'),\n",
       "    (2429, 2437, 'PartyOne'),\n",
       "    (4396, 4404, 'PartyOne')]}),\n",
       " (\"\\n\\n\\n\\nHOUSE (fully furnished)\\nLEASE/RENTAL AGREEMENT\\nKNOW ALL MEN BY THESE PRESENTS:\\nThis HOUSE (FULLY FURNISHED) LEASE/RENTAL AGREEMENT is made and executed at the City of Olongapo City, Philippines this 19th day of July, 2011, by and between:\\n(MARITES M. ALICANTE), of legal age, single, Filipino, and with residence and postal address at No. 50-20th Jonson St., East Bajac- Bajac- Olongapo City hereinafter referred to as the LANDLORD.\\n-AND-\\nJASMIN B. BAKER and EDWARD RAY BAKER, JR., spouses, of legal ages, and with residence and postal address at Phase 1, Block 2-Lot 7, Magdalena Homes, Sto. Tomas, Subic, Zambales, hereinafter referred\\nto as the TENANTS.\\nWITNESSETH; That\\nWHEREAS, the LANDLORD is the owner of HOUSE (FULLY FURNISHED), a\\nresidential property situated at Phase 1, Block 2-Lot 7, Magdalena Homes, Sto. Tomas, Suibc, Zambales;\\nWHEREAS, the LANDLORD agrees to lease-out the property to the TENANTS and the TENANTS is willing to lease the same;\\nNOW THEREFORE, for and in consideration of the foregoing premises, the LANDLORD leases unto the TENANTS and the TENANTS hereby accepts from the LANDLORD the LEASED premises, subject to the following:\\nTERMS AND CONDITIONS\\nPURPOSES: That premises hereby leased shall be used exclusively by the TENANTS for residential purposes only and shall not be diverted to other uses. It is hereby expressly agreed that if at any time the premises are used for other purposes, the LANDLORD shall have the right to rescind this contract without prejudice to its other rights under the law.\\nTERM: This term of this lease agreement is for THREE (3) MONTHS, from 16 July 2011 to 16 October 2011 inclusive. Upon its expiration, this agreement may be renewed under such terms and conditions as my be mutually agreed upon by both parties, written notice of intention to renew the lease shall be served to the LANDLORD not later than seven (7) days prior to the expiry date of the period herein agreed upon.\\nLEASE/RENTAL RATE: The monthly rental rate for the leased premises shall be\\nin PESOS: TWENTY-TWO THOUSAND (P 22,000.00), Philippine Currency. All rental payments shall be payable to the LANDLORD.\\nSECURITY DEPOSIT: That upon signing of this AGREEMENT, the TENANTS agrees to pay the one (1) month advance and two (2) months security deposit to the LANDLORD on or before August 6, 2011 in an amount equivalent to the rent for THREE (3) MONTHS or the sum of PESOS: SIXTY-SIX THOUSAND (P 66,000.00),\\nPhilippine Currency (said payment shall be made in the form of cash or cashier's check and is all due on or before 6 August 2011) , wherein the two (2) months deposit shall be applied and shall answer partially for damages and any other obligations; Dues or resulting from violation(s) of any of the provision of this contract, to secure TENANT’S faithful performance of the terms of this lease. The security deposit shall not exceed two times the monthly rent.\\nAfter all the TENANTS have vacated, leaving the premises vacant, the LANDLORD may use the security deposit for the cleaning of the premises, any unusual wear and tear to the premises or common areas, non-payment of utilities and any or other amounts owed pursuant to the lease agreement.\\nTENANT may not use said deposit for rent owed during the term of the agreement. Within 21 days of the TENANT vacating the premises, LANDLORD shall furnish TENANTS a written statement indicating any amounts deducted from the security deposit and returning the balance to the TENANTS. If TENANTS fails to furnish a forwarding address to LANDLORD, then LANDLORD shall send said statement and any security deposit refund to the leased premises.\\nThe next monthly payment for the house rental due to the TENANTS is on 16 August 2011 in the amount of TWENTY-TWO THOUSAND PESOS (PhP22,000.00).\\nDEFAULT PAYMENT: In case of default by the TENANTS in the payment of the rent, such as when the checks are dishonored or delay in payment, the LANDLORD at its option may terminate this contract and eject the TENANTS. The LANDLORD has the right to padlock the premises when the TENANTS is in default of payment for One (1) month and may forfeit whatever rental deposit or advances have been given by the LANDLORD.\\nSUB-LEASE: The TENANTS shall not directly or indirectly sublet, allow or permit the leased premises to be occupied in whole or in part by any person, form or corporation, neither shall the TENANTS assign its rights hereunder to any other person or entity and no right of interest thereto or therein shall be conferred on or vested in anyone by the TENANTS without the LANDLORD'S written approval.\\nOCCUPANTS: The premises shall not be occupied by any person other than those designated above as TENANTS with the exception of the following named persons:\\nIf LANDLORD, with written consent, allows for additional persons to occupy the\\npremises, the rent shall be increased by P\\tfor each such person. Any person\\nstaying 14 days cumulative or longer, without the LANDLORD'S written consent, shall be considered as occupying the premises in violation of this agreement.\\nCONDITION OF PREMISES: TENANTS acknowledges that the premises have been inspected. TENANTS acknowledges that said premises have been cleaned and all items, fixtures, appliances, and appurtenances are in complete working order (the details of the items herewith attached as Annex (A) hereof. TENANTS promises to keep the premises in a neat and sanitary condition and to immediately reimburse landlord for any sums necessary to repair any item, fixture or appurtenance that needed service due to TENANT'S, or TENANT'S invitee, misuse or negligence.\\nTENANTS shall be responsible for the cleaning or repair to any plumbing fixture where a stoppage has occurred. TENANTS shall also be responsible for repair or replacement of the garbage disposal where the cause has been a result of bones, grease, pits, or any other item which normally causes blockage of the mechanism.\\nALTERATIONS: TENANTS shall not make any alterations to the premises, including but not limited to installing aerials, lighting fixtures, dishwashers, washing machines, dryers or other items without first obtaining written permission from LANDLORD. TENANT shall not change or install locks, paint, or wallpaper said premises without LANDLORD'S prior written consent, TENANTS shall not place placards, signs, or other exhibits in a window or any other place where they can be viewed by other residents or by the general public.\\nLANDLORD'S RIGHT OF ENTRY: LANDLORD may enter and inspect the premises during normal business hours and upon reasonable advance notice of at least 24 hours to TENANTS. LANDLORD is permitted to make all alterations, repairs and maintenance that in LANDLORD'S judgment is necessary to perform. In addition LANDLORD has all right to enter the leased premises. If the work performed requires that TENANTS temporarily vacate the unit, then TENANTS shall vacate for this temporary period upon being served a 7 days notice by LANDLORD. TENANTS agree that in such event that TENANTS will be solely compensated by a corresponding reduction in rent for those many days that TENANTS was temporarily displaced.\\nIf the work to be performed requires the cooperation of TENANTS to perform certain tasks, then those tasks shall be performed upon serving 24 hours written notice by LANDLORD. (EXAMPLE -removing food items from cabinets so that the unit may be sprayed for pests).\\nREPAIRS BY LANDLORD: Where a repair is the responsibility of the LANDLORD, TENANTS must notify LANDLORD with a written notice stating what item needs servicing or repair. TENANTS must give LANDLORD a reasonable opportunity to service or repair said item. TENANTS acknowledges that rent will not be withheld unless a written notice has been served on LANDLORD giving LANDLORD a reasonable time to fix said item. Under no circumstances may TENANT withhold rent unless said item constitutes a substantial breach of the warrantee of habitability.\\nPUBLIC UTILITIES: The TENANTS shall pay for its electric consumption, cable TV, water, association dues and other public services and utilities during the duration of the lease/rent.\\nFORCE MAJEURE: If whole or any part of the leased premises shall be destroyed or damaged by flood, lightning, typhoon, earthquake, storm, riot or any other unforeseen disabling cause of acts of God, as to render the leased premises during the term substantially unfit for use and occupation of the TENANTS, then this lease contract may be terminated without compensation by the LANDLORD or by the TENANTS by notice in writing to the other.\\nLANDLORD’S RIGHT OF ENTRY: The LANDLORD or its authorized agent shall after giving due notice to the TENANTS shall have the right to enter the premises in the presence of the TENANTS or its representative at any reasonable hour to examine the same or make repairs therein or for the operation and maintenance of the building or to exhibit the leased premises to prospective TENANTS, or for any other lawful purposes which it may deem necessary.\\nEXPIRATION OF LEASE: At the expiration of the term of this lease/rental agreement or cancellation thereof, as herein provided, the TENANTS will promptly deliver to the LANDLORD the leased premises with all corresponding keys and in as good and tenable condition as the same is now, ordinary wear and tear expected devoid of all occupants, movable furniture, articles and effects of any kind. Non-compliance with the terms of this clause by the TENANTS will give the LANDLORD the right, at the latter's option, to refuse to accept the delivery of the premises and compel the TENANTS to pay rent therefrom at the same rate plus Twenty Five (25) % thereof as penalty until the TENANTS shall have complied with the terms hereof. The same penalty shall be imposed in case the TENANTS fail to leave the premises after the expiration of this House (Fully Furnished) Lease/Rental Agreement or termination for any reason whatsoever.\\nENTIRE AGREEMENT: The foregoing agreement, including any attachments incorporated by reference, constitute the entire agreement between the parties and supersedes any oral or written representations or agreements that may have been made by either party. Further, TENANTS represents that TENANTS has relied solely on TENANTS’ judgment in entering into this agreement. TENANTS acknowledges having been advised to consult with independent legal counsel before entering into this Agreement and has decided to waive such representation and advice. TENANTS acknowledges that TENANTS has read and understood this agreement and has been furnished a duplicate original.\\n\\nThis HOUSE (FULLY FURNISHED) LEASE/RENTAL AGREEMENT shall be valid and binding between the parties, their successors-in-interest and assigns.\\nIN WITNESS WHEREOF, parties herein affixed their signatures on 19 July 2011 at Olongapo City, Philippines.\\n(MARITES M. ALICANTE\\nLANDLORD\\nEDWARD RAY BAKER, JR.\\nTENANT\\nSigned in the presence of:\\nACKNOWLEDGEMENT\\nRepublic of the Philippines)\\nOlongapo City\\t) S.S\\nBEFORE ME, personally appeared:\\nName\\tPersonal ID Number\\tDate/Place Issued\\nMARITES M. ALICANTE\\t\\t \\t\\nJASMIN B. BAKER\\t\\t \\t\\nEDWARD RAY BAKER\\t\\t \\t\\nKnown to me and to me known to be the same persons who executed the foregoing instrument and acknowledged to me that the same is their free and voluntary act and deed.\\nThis instrument consisting of four (4) page/s, including the page on which this acknowledgement is written, has been signed on each and every page thereof by the concerned parties and their witnesses, and sealed with my notarial seal.\\nWITNESS MY HAND AND SEAL, on the date and place first above written.\\nNotary Public\\nDoc. No.\\t;\\nPage No.\\t\\nBook No.\\t\\nSeries of 2011.\\n\",\n",
       "  {'entities': [(443, 479, 'PartyTwo'),\n",
       "    (6577, 6604, 'Notice'),\n",
       "    (203, 225, 'AggStart'),\n",
       "    (244, 263, 'PartyOne'),\n",
       "    (10859, 10878, 'PartyOne'),\n",
       "    (11083, 11102, 'PartyOne'),\n",
       "    (2055, 2066, 'AggValue')]}),\n",
       " ('\\n\\n\\n\\n\\n\\n\\nRENTAL AGREEMENT\\nThis agreement of tenancy is made and exceuted at chennai on this 5th day of JUNE 2009 between B. Boobalan aged about 40 years, residing at #5/54, Nethaji Street, Okkiyam Pettai, PTC Quarters, Chennai - 600097. Herein after referred to as the \"OWNER\" of one part and Mr. CHEBOLU VSR DIKSHITULU aged about 22 years residig at #5/54, Nethaji Street, Okkiyam Pettai, PTC Quarters, Chennai - 600097. Herein after referred as the \"TENANT\" in consideration of the rent and condition stated:\\nNOW THIS AGREEMENT WITNESSETH AS FOLLOWS:\\nThe tenant shall pay a monthly rent of Rs. 6500/- (Rupees Six Thousand and Five Hundred Only) from the date of occupation on or before 10th of every month.\\nThe tenant has deposited the Owner a sum of Rs. 30000 (Rupees Thirty Thousands Only) as a security deposit. The said sum shall not carry any interest but will be refunded in full to the tenant on the termination of the tenancy and the Owner has acknowledged the same.\\nThe tenancy shall be enforced for a period of 11 months from this date of agreement and the month of tenancy being the English calendar month.\\n\\nThe Owner shall have the right to terminate the tenancy if the tenant fails to pay the rents regularly for a consecutive period of 3 months or commits breach of any of the terms herein and take position of the premises.\\nThe Owner shall allow the tenant in peaceful possession and enjoyment of the premises during the continuance of the tenancy provided the tenant acts upto the terms of the agreement.\\nThe tenancy may be renewed for the periods manually agreed between the parties of the terms and conditions to be specified at the time.\\nIt is hereby agreed that minimum one month notice on either side is required for the termination of the tenancy.\\nThe tenant shall keep the premises in good condition in good repair and deliver the same to the owner at the expiry of the rental agreement period if any damages made at the premises the tenant shall bear cost of repair.\\nThe tenant shall pay electric charges. Water charges will be paid by the owner.\\nIN WITNESS WHERE OF the PARTIES hereto have set their hands and subscribed heir signature on this RENTAL AGREEMENT,the day,month and year first above written in the presence of:-\\nWITNESS:\\nTENANT',\n",
       "  {'entities': [(291, 317, 'PartyTwo'),\n",
       "    (90, 110, 'AggStart'),\n",
       "    (1690, 1706, 'Notice'),\n",
       "    (119, 130, 'PartyOne'),\n",
       "    (590, 598, 'AggValue')]}),\n",
       " ('\\n\\n\\n\\n\\n\\n\\n\\n\\n\\n\\n\\n\\n\\n\\n\\n\\n\\nRENTAL AGREEMENT\\nTHIS DEED OF RENTAL AGREEMENT ENTERED INTO AT CHENNAI ON 21st OF MARCH 2010 BETWEEN Mr. P C MATHEW, S/O K JOSEPH CHACKO, hereinafter called the party of the first part and between Mr. L GOPINATH S/o of G LAKSHMI NARISIMHAN after called the party of the second part witnesses.\\nWhereas the party of the first part being the owner of the premises at Flat No C 8 SAMS AVENUE APPARTMENT No 65 VALLUVAR ST ARUMBAKKAM CHENNAI 600106 has agreed to let the above premises to the party of the second part for residential use on a monthly rent of Rs.9000 (Rupees Nine Thousand Only) plus monthly maintenance expenses levied on by the association, on condition of his accepting to take on hire the house with amenities provided therein and whereas the party of the second part has agreed and will occupy the premises From 1st April 2010.\\nThe lessor hereby let on lease the house to the lessee on a monthly rent of Rs.9000/-(Rupees Seven thousand only) for a period of 11 months starting from 1st of April 2010. The amount shall be paid before 5th of the succeeding calendar month without any deduction whatsoever.\\nThe lease is for a period of 11 months, commencing from this day, 1st of April 2010.\\nThe lessor hereby grants to the lessees to use and occupy the ground floor of the said house for residential purpose only and not for godown, storage of articles, packing/unpacking or for any other business purposes.\\nThe lessee had kept deposited with the lessor a sum of Rs.90000/-(Rupees Ninety Five thousand only), as deposit without interest for the due performance of this agreement. The deposit shall not entitle the lessee to withhold any payment of monthly rent.\\nThe said deposit shall be refundable to the lessee at the time the lessee hands over the vacant possession of the said house. If any damages is done by the lessee to the house during the subsistence of the lease herein granted and any arrears of rent due, the lessor shall be entitled to adjust aforesaid deposit the amount necessary for making good such damages and or rents due.\\nDamages if any to the basins, pans, water taps doors and windows, walls, alcops, electrical fittings, glazed tiles etc; or any part of the house will be made good or replaced by the lessor and the lessee has to bear the entire cost for any such replacement/repair or the lessee may get it done at his cost with the knowledge and prior consent of the lessor. In the default of the lessee to undertake the repair/replacement of the damaged property or to meet the expenses, the same will be adjusted from the rent advance lying with the lessor.\\nThe lessor or their authorized agents shall be entitled to enter upon the said house to inspect the conditions of the premises or to get repairs done or for other lawful purpose thereof at all reasonable times and the lessee shall allow them to so enter.\\nThe lessor shall not make structural alterations in the said house or add any fixtures without the prior permission of the lessor.\\nThe lessee shall pay electricity charges regularly as per the meter reading and also undertake house maintenance and water charges.\\nThe lessor shall pay the property tax and other taxes on the house.\\nIf the lessee commits breach of any of the conditions here above mentioned notwithstanding the period herein above mentioned, the lessor shall be at liberty to revoke and or cancel the lease granted forthwith.\\nTwo months notice on either side shall be the condition for the lessor and lessee to terminate this lease to voluntarily vacate the premises.\\nNotwithstanding anything contained above, the lessor can terminate the lease in case the lessee defaults in payment of rent and amenity charges for two month.\\nIf the lessee desires to have this lease deed renewed for a further period after the expiry of eleven months, one month advance notice should be given in writing to the lessor for negotiating renewal on terms and conditions to be mutually agreed upon.\\nThe lessee shall observe and perform all rules regarding conditions, covenants and stipulations relating to the user of the house as laid down from time to time and shall keep the lessor indemnified against any non observance of breach thereof.\\nThe lessor upon termination of the agreement will peacefully and quietly deliver unto the lessor the possession of the said premises together with fixtures and fittings and in substantially the same condition.\\nIN WITNESS WHEREOF THE LESSOR AND LESSEES HAVE HEREUNTO SIGNED THE DAY AND YEAR ABOVE WRITTEN.\\nWITNESS :\\tParty of the First Part:\\nParty of the Second Part:',\n",
       "  {'entities': [(3824, 3848, 'Notice'),\n",
       "    (92, 110, 'AggStart'),\n",
       "    (119, 133, 'PartyOne'),\n",
       "    (215, 229, 'PartyTwo'),\n",
       "    (571, 578, 'AggValue'),\n",
       "    (937, 944, 'AggValue')]})]"
      ]
     },
     "execution_count": 191,
     "metadata": {},
     "output_type": "execute_result"
    }
   ],
   "source": [
    "annotuple"
   ]
  },
  {
   "cell_type": "markdown",
   "metadata": {},
   "source": [
    "## Training the model with 100 iterations and the losses are printed through the function."
   ]
  },
  {
   "cell_type": "code",
   "execution_count": 192,
   "metadata": {
    "ExecuteTime": {
     "end_time": "2021-05-04T10:10:13.926534Z",
     "start_time": "2021-05-04T10:03:14.848689Z"
    },
    "scrolled": true
   },
   "outputs": [
    {
     "name": "stdout",
     "output_type": "stream",
     "text": [
      "Statring iteration 0\n",
      "{'ner': 7644.150391501519}\n",
      "Statring iteration 1\n",
      "{'ner': 1398.0613526066404}\n",
      "Statring iteration 2\n",
      "{'ner': 5011.345945935511}\n",
      "Statring iteration 3\n",
      "{'ner': 2420.945880664166}\n",
      "Statring iteration 4\n",
      "{'ner': 3413.2436084559176}\n",
      "Statring iteration 5\n",
      "{'ner': 4829.112955668291}\n",
      "Statring iteration 6\n",
      "{'ner': 4044.0342490845346}\n",
      "Statring iteration 7\n",
      "{'ner': 3483.026417168183}\n",
      "Statring iteration 8\n",
      "{'ner': 3657.345768572367}\n",
      "Statring iteration 9\n",
      "{'ner': 3138.3011355750054}\n",
      "Statring iteration 10\n",
      "{'ner': 2859.130341049936}\n",
      "Statring iteration 11\n",
      "{'ner': 3723.887276487717}\n",
      "Statring iteration 12\n",
      "{'ner': 3052.7944301775565}\n",
      "Statring iteration 13\n",
      "{'ner': 1566.852116390254}\n",
      "Statring iteration 14\n",
      "{'ner': 2777.122884001488}\n",
      "Statring iteration 15\n",
      "{'ner': 885.0190954142001}\n",
      "Statring iteration 16\n",
      "{'ner': 1339.3809387462009}\n",
      "Statring iteration 17\n",
      "{'ner': 1070.7870012368794}\n",
      "Statring iteration 18\n",
      "{'ner': 545.929514824466}\n",
      "Statring iteration 19\n",
      "{'ner': 481.5410712187019}\n",
      "Statring iteration 20\n",
      "{'ner': 404.48478764154095}\n",
      "Statring iteration 21\n",
      "{'ner': 291.4046194195482}\n",
      "Statring iteration 22\n",
      "{'ner': 305.22707075285615}\n",
      "Statring iteration 23\n",
      "{'ner': 256.03930124579637}\n",
      "Statring iteration 24\n",
      "{'ner': 340.99493298129875}\n",
      "Statring iteration 25\n",
      "{'ner': 154.0488287261502}\n",
      "Statring iteration 26\n",
      "{'ner': 422.5376211463527}\n",
      "Statring iteration 27\n",
      "{'ner': 394.0663835792108}\n",
      "Statring iteration 28\n",
      "{'ner': 507.75419036491445}\n",
      "Statring iteration 29\n",
      "{'ner': 641.3918398278646}\n",
      "Statring iteration 30\n",
      "{'ner': 149.7095175196446}\n",
      "Statring iteration 31\n",
      "{'ner': 482.5130564385781}\n",
      "Statring iteration 32\n",
      "{'ner': 457.67593478197455}\n",
      "Statring iteration 33\n",
      "{'ner': 743.3973398381779}\n",
      "Statring iteration 34\n",
      "{'ner': 779.0236363809981}\n",
      "Statring iteration 35\n",
      "{'ner': 220.3806393382195}\n",
      "Statring iteration 36\n",
      "{'ner': 331.17255690027565}\n",
      "Statring iteration 37\n",
      "{'ner': 209.62240299408865}\n",
      "Statring iteration 38\n",
      "{'ner': 120.71162671963684}\n",
      "Statring iteration 39\n",
      "{'ner': 191.12186232493022}\n",
      "Statring iteration 40\n",
      "{'ner': 245.21617478305632}\n",
      "Statring iteration 41\n",
      "{'ner': 186.9580081049282}\n",
      "Statring iteration 42\n",
      "{'ner': 154.00006123572155}\n",
      "Statring iteration 43\n",
      "{'ner': 186.09738518531327}\n",
      "Statring iteration 44\n",
      "{'ner': 557.2108864411578}\n",
      "Statring iteration 45\n",
      "{'ner': 84.78729902797383}\n",
      "Statring iteration 46\n",
      "{'ner': 237.96055406877363}\n",
      "Statring iteration 47\n",
      "{'ner': 474.91500736763396}\n",
      "Statring iteration 48\n",
      "{'ner': 114.8019608588848}\n",
      "Statring iteration 49\n",
      "{'ner': 65.90833284290855}\n",
      "Statring iteration 50\n",
      "{'ner': 133.82472113585206}\n",
      "Statring iteration 51\n",
      "{'ner': 82.60782598314628}\n",
      "Statring iteration 52\n",
      "{'ner': 121.90395354490217}\n",
      "Statring iteration 53\n",
      "{'ner': 199.18117769162504}\n",
      "Statring iteration 54\n",
      "{'ner': 99.23719111524883}\n",
      "Statring iteration 55\n",
      "{'ner': 609.1340244240803}\n",
      "Statring iteration 56\n",
      "{'ner': 246.50332485120074}\n",
      "Statring iteration 57\n",
      "{'ner': 67.08097639282136}\n",
      "Statring iteration 58\n",
      "{'ner': 262.9530752175064}\n",
      "Statring iteration 59\n",
      "{'ner': 190.60844645372185}\n",
      "Statring iteration 60\n",
      "{'ner': 44.134131703905666}\n",
      "Statring iteration 61\n",
      "{'ner': 101.07289896984177}\n",
      "Statring iteration 62\n",
      "{'ner': 154.81968173571244}\n",
      "Statring iteration 63\n",
      "{'ner': 69.1979534508782}\n",
      "Statring iteration 64\n",
      "{'ner': 179.21700320502498}\n",
      "Statring iteration 65\n",
      "{'ner': 253.92318417764199}\n",
      "Statring iteration 66\n",
      "{'ner': 810.1540593295315}\n",
      "Statring iteration 67\n",
      "{'ner': 64.08355456383924}\n",
      "Statring iteration 68\n",
      "{'ner': 64.50661957105031}\n",
      "Statring iteration 69\n",
      "{'ner': 297.94584676000323}\n",
      "Statring iteration 70\n",
      "{'ner': 293.70671753843834}\n",
      "Statring iteration 71\n",
      "{'ner': 43.75057284693746}\n",
      "Statring iteration 72\n",
      "{'ner': 236.2709474571381}\n",
      "Statring iteration 73\n",
      "{'ner': 192.52731523278453}\n",
      "Statring iteration 74\n",
      "{'ner': 119.23604944198317}\n",
      "Statring iteration 75\n",
      "{'ner': 61.882528442532006}\n",
      "Statring iteration 76\n",
      "{'ner': 258.5478164944124}\n",
      "Statring iteration 77\n",
      "{'ner': 388.93866921317374}\n",
      "Statring iteration 78\n",
      "{'ner': 54.45370887968281}\n",
      "Statring iteration 79\n",
      "{'ner': 37.86444221640413}\n",
      "Statring iteration 80\n",
      "{'ner': 115.17745346699624}\n",
      "Statring iteration 81\n",
      "{'ner': 170.12527878057688}\n",
      "Statring iteration 82\n",
      "{'ner': 73.69691041980967}\n",
      "Statring iteration 83\n",
      "{'ner': 12.903513905939931}\n",
      "Statring iteration 84\n",
      "{'ner': 96.777344317013}\n",
      "Statring iteration 85\n",
      "{'ner': 273.71967247260704}\n",
      "Statring iteration 86\n",
      "{'ner': 43.04341252349924}\n",
      "Statring iteration 87\n",
      "{'ner': 24.78077216076953}\n",
      "Statring iteration 88\n",
      "{'ner': 40.01425046016916}\n",
      "Statring iteration 89\n",
      "{'ner': 36.285593633527796}\n",
      "Statring iteration 90\n",
      "{'ner': 103.43216496686811}\n",
      "Statring iteration 91\n",
      "{'ner': 30.339091989366594}\n",
      "Statring iteration 92\n",
      "{'ner': 17.78014429025507}\n",
      "Statring iteration 93\n",
      "{'ner': 32.58529328812814}\n",
      "Statring iteration 94\n",
      "{'ner': 56.07616569076355}\n",
      "Statring iteration 95\n",
      "{'ner': 30.96845374440665}\n",
      "Statring iteration 96\n",
      "{'ner': 112.53690258861118}\n",
      "Statring iteration 97\n",
      "{'ner': 73.96247897279538}\n",
      "Statring iteration 98\n",
      "{'ner': 98.1054314949569}\n",
      "Statring iteration 99\n",
      "{'ner': 49.07344340627177}\n"
     ]
    }
   ],
   "source": [
    "import random\n",
    "prdnlp = train_spacy(TRAIN_DATA, 100)"
   ]
  },
  {
   "cell_type": "code",
   "execution_count": 193,
   "metadata": {
    "ExecuteTime": {
     "end_time": "2021-05-04T10:10:19.114371Z",
     "start_time": "2021-05-04T10:10:19.110300Z"
    }
   },
   "outputs": [
    {
     "data": {
      "text/plain": [
       "<spacy.lang.en.English at 0x7fe384acb280>"
      ]
     },
     "execution_count": 193,
     "metadata": {},
     "output_type": "execute_result"
    }
   ],
   "source": [
    "prdnlp"
   ]
  },
  {
   "cell_type": "markdown",
   "metadata": {},
   "source": [
    "### Changing directory to point to validation docs"
   ]
  },
  {
   "cell_type": "code",
   "execution_count": 195,
   "metadata": {
    "ExecuteTime": {
     "end_time": "2021-05-04T10:15:15.265642Z",
     "start_time": "2021-05-04T10:15:15.262775Z"
    }
   },
   "outputs": [],
   "source": [
    "os.chdir(\"/Users/sahmehta/Downloads/Zycus/Validation_Data/\")"
   ]
  },
  {
   "cell_type": "code",
   "execution_count": 196,
   "metadata": {
    "ExecuteTime": {
     "end_time": "2021-05-04T10:15:23.453355Z",
     "start_time": "2021-05-04T10:15:23.448969Z"
    }
   },
   "outputs": [
    {
     "data": {
      "text/plain": [
       "['24158401-Rental-Agreement.pdf.docx',\n",
       " '228094620-Rental-Agreement.pdf.docx',\n",
       " '195231682-This-RENTAL-AGREEMENT-is-Made-and-Executed-on-24th-Day-of-September.pdf.docx',\n",
       " '63793679-Rental-Agreement.pdf.docx',\n",
       " '239419594-Rental-Agreement.pdf.docx',\n",
       " '95980236-Rental-Agreement.pdf.docx',\n",
       " '156155545-Rental-Agreement-Kns-Home.pdf.docx',\n",
       " '269135973-Udaya-Rental-Agreement.pdf.docx']"
      ]
     },
     "execution_count": 196,
     "metadata": {},
     "output_type": "execute_result"
    }
   ],
   "source": [
    "mylist_val = [f for f in glob.glob(\"*.docx\")]\n",
    "\n",
    "mylist_val"
   ]
  },
  {
   "cell_type": "code",
   "execution_count": 238,
   "metadata": {
    "ExecuteTime": {
     "end_time": "2021-05-04T11:21:59.766877Z",
     "start_time": "2021-05-04T11:21:59.721486Z"
    }
   },
   "outputs": [],
   "source": [
    "#Test your text\n",
    "doc = prdnlp(getText(mylist_val[0]))"
   ]
  },
  {
   "cell_type": "markdown",
   "metadata": {},
   "source": [
    "### Demo entity from model"
   ]
  },
  {
   "cell_type": "code",
   "execution_count": 239,
   "metadata": {
    "ExecuteTime": {
     "end_time": "2021-05-04T11:22:00.107227Z",
     "start_time": "2021-05-04T11:22:00.103595Z"
    }
   },
   "outputs": [
    {
     "name": "stdout",
     "output_type": "stream",
     "text": [
      "1st day of April 2008 68 89 AggStart\n",
      "1-04-08) by and between 91 114 AggEnd\n",
      "Rs 80,000 1818 1827 AggValue\n",
      "two months notice 2054 2071 Notice\n",
      "two months notice 2147 2164 Notice\n"
     ]
    }
   ],
   "source": [
    "for ent in doc.ents:\n",
    "    print(ent.text, ent.start_char, ent.end_char, ent.label_)"
   ]
  },
  {
   "cell_type": "code",
   "execution_count": 210,
   "metadata": {
    "ExecuteTime": {
     "end_time": "2021-05-04T10:20:20.922169Z",
     "start_time": "2021-05-04T10:20:20.919567Z"
    }
   },
   "outputs": [],
   "source": [
    "from spacy.gold import GoldParse\n",
    "from spacy.scorer import Scorer"
   ]
  },
  {
   "cell_type": "code",
   "execution_count": 219,
   "metadata": {
    "ExecuteTime": {
     "end_time": "2021-05-04T10:27:45.739869Z",
     "start_time": "2021-05-04T10:27:45.736098Z"
    }
   },
   "outputs": [],
   "source": [
    "def evaluate(ner_model, examples):\n",
    "    scorer = Scorer()\n",
    "    for sents, ents in examples:\n",
    "        doc_gold = ner_model.make_doc(sents)\n",
    "        gold = GoldParse(doc_gold, entities=ents['entities'])\n",
    "        pred_value = ner_model(sents)\n",
    "        scorer.score(pred_value, gold)\n",
    "    return scorer.scores"
   ]
  },
  {
   "cell_type": "code",
   "execution_count": 220,
   "metadata": {
    "ExecuteTime": {
     "end_time": "2021-05-04T10:28:06.682115Z",
     "start_time": "2021-05-04T10:28:05.172264Z"
    }
   },
   "outputs": [
    {
     "name": "stdout",
     "output_type": "stream",
     "text": [
      "{'uas': 0.0, 'las': 0.0, 'las_per_type': {'': {'p': 0.0, 'r': 0.0, 'f': 0.0}}, 'ents_p': 94.68085106382979, 'ents_r': 94.68085106382979, 'ents_f': 94.68085106382979, 'ents_per_type': {'AggValue': {'p': 100.0, 'r': 93.33333333333333, 'f': 96.55172413793103}, 'PartyOne': {'p': 100.0, 'r': 91.30434782608695, 'f': 95.45454545454545}, 'PartyTwo': {'p': 95.65217391304348, 'r': 100.0, 'f': 97.77777777777777}, 'AggStart': {'p': 100.0, 'r': 100.0, 'f': 100.0}, 'Notice': {'p': 88.88888888888889, 'r': 80.0, 'f': 84.21052631578948}, 'AggEnd': {'p': 57.14285714285714, 'r': 100.0, 'f': 72.72727272727273}}, 'tags_acc': 0.0, 'token_acc': 100.0, 'textcat_score': 0.0, 'textcats_per_cat': {}}\n"
     ]
    }
   ],
   "source": [
    "results = evaluate(prdnlp, TRAIN_DATA)\n",
    "print(results)"
   ]
  },
  {
   "cell_type": "markdown",
   "metadata": {},
   "source": [
    "## Evaluation gives a high recall as can be seen below.\n",
    "## The F-beta scores are 95.45, 97.8, 84.2 and 72.8 respectively.\n",
    "## The training data has lesser number of files and hence the results although an encouragement, should therefore be tried to generalise based on a higher number of training files. "
   ]
  },
  {
   "cell_type": "markdown",
   "metadata": {},
   "source": [
    "### We have a good structure to build upon and hence this can act as a solid foundation for when there are higher number of files available."
   ]
  },
  {
   "cell_type": "code",
   "execution_count": 221,
   "metadata": {
    "ExecuteTime": {
     "end_time": "2021-05-04T10:31:51.830234Z",
     "start_time": "2021-05-04T10:31:51.826000Z"
    },
    "scrolled": true
   },
   "outputs": [
    {
     "data": {
      "text/plain": [
       "{'uas': 0.0,\n",
       " 'las': 0.0,\n",
       " 'las_per_type': {'': {'p': 0.0, 'r': 0.0, 'f': 0.0}},\n",
       " 'ents_p': 94.68085106382979,\n",
       " 'ents_r': 94.68085106382979,\n",
       " 'ents_f': 94.68085106382979,\n",
       " 'ents_per_type': {'AggValue': {'p': 100.0,\n",
       "   'r': 93.33333333333333,\n",
       "   'f': 96.55172413793103},\n",
       "  'PartyOne': {'p': 100.0, 'r': 91.30434782608695, 'f': 95.45454545454545},\n",
       "  'PartyTwo': {'p': 95.65217391304348, 'r': 100.0, 'f': 97.77777777777777},\n",
       "  'AggStart': {'p': 100.0, 'r': 100.0, 'f': 100.0},\n",
       "  'Notice': {'p': 88.88888888888889, 'r': 80.0, 'f': 84.21052631578948},\n",
       "  'AggEnd': {'p': 57.14285714285714, 'r': 100.0, 'f': 72.72727272727273}},\n",
       " 'tags_acc': 0.0,\n",
       " 'token_acc': 100.0,\n",
       " 'textcat_score': 0.0,\n",
       " 'textcats_per_cat': {}}"
      ]
     },
     "execution_count": 221,
     "metadata": {},
     "output_type": "execute_result"
    }
   ],
   "source": [
    "results.to"
   ]
  },
  {
   "cell_type": "markdown",
   "metadata": {},
   "source": [
    "### Model is saved to Disk. Name can be entered by the user."
   ]
  },
  {
   "cell_type": "code",
   "execution_count": 222,
   "metadata": {
    "ExecuteTime": {
     "end_time": "2021-05-04T10:35:04.406020Z",
     "start_time": "2021-05-04T10:34:55.369621Z"
    }
   },
   "outputs": [
    {
     "name": "stdout",
     "output_type": "stream",
     "text": [
      "Enter your Model Name: NER-Rental\n"
     ]
    }
   ],
   "source": [
    "# Save our trained Model\n",
    "modelfile = input(\"Enter your Model Name: \")\n",
    "prdnlp.to_disk(modelfile)"
   ]
  },
  {
   "cell_type": "markdown",
   "metadata": {},
   "source": [
    "_"
   ]
  },
  {
   "cell_type": "markdown",
   "metadata": {},
   "source": [
    "### While above approach was focussed on getting the model and annotations right. Below is non-standard (non formatted code) to output annotations into a proper csv.\n",
    "## Outputs are saved into a folder for ease of access : OutputCSVs."
   ]
  },
  {
   "cell_type": "code",
   "execution_count": 328,
   "metadata": {
    "ExecuteTime": {
     "end_time": "2021-05-06T12:56:16.759099Z",
     "start_time": "2021-05-06T12:56:16.756397Z"
    }
   },
   "outputs": [],
   "source": [
    "os.chdir('/Users/sahmehta/Downloads/Zycus/')"
   ]
  },
  {
   "cell_type": "code",
   "execution_count": 330,
   "metadata": {
    "ExecuteTime": {
     "end_time": "2021-05-06T12:56:34.926429Z",
     "start_time": "2021-05-06T12:56:34.922249Z"
    }
   },
   "outputs": [],
   "source": [
    "import re\n",
    "def clean(text):\n",
    "    text=text.replace('/','.')\n",
    "    text=text.replace('\\\\','.')\n",
    "    text=text.replace('. ','.')\n",
    "    text=text.replace(', ','')\n",
    "    text=text.replace(',','')\n",
    "    text=text.replace('-','.')\n",
    "    text=text.replace('/','.')\n",
    "    text=text.replace('. ','.')\n",
    "    #text=text.lower()\n",
    "    return(text)"
   ]
  },
  {
   "cell_type": "code",
   "execution_count": 331,
   "metadata": {
    "ExecuteTime": {
     "end_time": "2021-05-06T12:56:36.923089Z",
     "start_time": "2021-05-06T12:56:36.582341Z"
    }
   },
   "outputs": [
    {
     "name": "stdout",
     "output_type": "stream",
     "text": [
      "343492954-Rent-Agreement-3E.pdf.docx Aggrement Value 11500.0 <class 'float'>\n",
      "343492954-Rent-Agreement-3E.pdf.docx Aggrement End Date 31.03.2015 <class 'str'>\n",
      "343492954-Rent-Agreement-3E.pdf.docx Renewal Notice (Days) 30.0 <class 'float'>\n",
      "343492954-Rent-Agreement-3E.pdf.docx Party One ANAND RAJ <class 'str'>\n",
      "343492954-Rent-Agreement-3E.pdf.docx Party Two  BEENA PURATHAYIL MADHAVAN <class 'str'>\n",
      "54945838-Rental-Agreement.pdf.docx Aggrement Value 5500.0 <class 'float'>\n",
      "54945838-Rental-Agreement.pdf.docx Aggrement Start Date 21.04.2011 <class 'str'>\n",
      "54945838-Rental-Agreement.pdf.docx Aggrement End Date 19.02.2012 <class 'str'>\n",
      "54945838-Rental-Agreement.pdf.docx Renewal Notice (Days) 60.0 <class 'float'>\n",
      "54945838-Rental-Agreement.pdf.docx Party One Asha Ramesh & Ramesh K.N <class 'str'>\n",
      "54945838-Rental-Agreement.pdf.docx Party Two Sadasivuni Deepthi & Sadasivuni Kiran <class 'str'>\n",
      "288024755-Rental-Agreement-1.pdf.docx Aggrement Value 5000.0 <class 'float'>\n",
      "288024755-Rental-Agreement-1.pdf.docx Aggrement End Date 20.09.2014 <class 'str'>\n",
      "288024755-Rental-Agreement-1.pdf.docx Renewal Notice (Days) nan <class 'float'>\n",
      "288024755-Rental-Agreement-1.pdf.docx Party One S T Nagaveni <class 'str'>\n",
      "288024755-Rental-Agreement-1.pdf.docx Party Two H N Madhu <class 'str'>\n",
      "267005869-Rental-Tenant.pdf.docx Aggrement Value 750.0 <class 'float'>\n",
      "267005869-Rental-Tenant.pdf.docx Aggrement Start Date 01.04.2014 <class 'str'>\n",
      "267005869-Rental-Tenant.pdf.docx Aggrement End Date 31.03.2015 <class 'str'>\n",
      "267005869-Rental-Tenant.pdf.docx Renewal Notice (Days) nan <class 'float'>\n",
      "267005869-Rental-Tenant.pdf.docx Party One  NEOH GUAT WAH  <class 'str'>\n",
      "267005869-Rental-Tenant.pdf.docx Party Two NORAIDA BINTI MOHD AZHARI  <class 'str'>\n",
      "62126501-Rental-Agreement.pdf.docx Aggrement Value 4200.0 <class 'float'>\n",
      "62126501-Rental-Agreement.pdf.docx Aggrement End Date 22.04.2012 <class 'str'>\n",
      "62126501-Rental-Agreement.pdf.docx Renewal Notice (Days) 90.0 <class 'float'>\n",
      "62126501-Rental-Agreement.pdf.docx Party One M.V Srinivas & M.V Madhumathi <class 'str'>\n",
      "62126501-Rental-Agreement.pdf.docx Party Two M.V Thirumalesh <class 'str'>\n",
      "50070534-RENTAL-AGREEMENT (1).pdf.docx Aggrement Value 10000.0 <class 'float'>\n",
      "50070534-RENTAL-AGREEMENT (1).pdf.docx Renewal Notice (Days) 90.0 <class 'float'>\n",
      "50070534-RENTAL-AGREEMENT (1).pdf.docx Party One  P. JohnsonRavikumar <class 'str'>\n",
      "50070534-RENTAL-AGREEMENT (1).pdf.docx Party Two Saravanan BV  <class 'str'>\n",
      "251798216-Rental-Agreement-Format1.pdf.docx Aggrement Value 8000.0 <class 'float'>\n",
      "251798216-Rental-Agreement-Format1.pdf.docx Renewal Notice (Days) nan <class 'float'>\n",
      "251798216-Rental-Agreement-Format1.pdf.docx Party One SHIVANAND <class 'str'>\n",
      "251798216-Rental-Agreement-Format1.pdf.docx Party Two VIVEK CHANDRA MALLIK <class 'str'>\n",
      "116950326-December-2012-Rental-Agreement.pdf.docx Aggrement Value 600.0 <class 'float'>\n",
      "116950326-December-2012-Rental-Agreement.pdf.docx Renewal Notice (Days) nan <class 'float'>\n",
      "116950326-December-2012-Rental-Agreement.pdf.docx Party One Yvonne Ly <class 'str'>\n",
      "116950326-December-2012-Rental-Agreement.pdf.docx Party Two James Alan Bush <class 'str'>\n",
      "54770958-Rental-Agreement.pdf.docx Aggrement Value 8000.0 <class 'float'>\n",
      "54770958-Rental-Agreement.pdf.docx Aggrement End Date 31.03.2012 <class 'str'>\n",
      "54770958-Rental-Agreement.pdf.docx Renewal Notice (Days) 90.0 <class 'float'>\n",
      "54770958-Rental-Agreement.pdf.docx Party One K. Parthasarathy <class 'str'>\n",
      "54770958-Rental-Agreement.pdf.docx Party Two Veerabrahmam Bathini <class 'str'>\n",
      "203615996-Rental-Agreement-Format.pdf.docx Aggrement Value 3500.0 <class 'float'>\n",
      "203615996-Rental-Agreement-Format.pdf.docx Aggrement Start Date 01.02.2008 <class 'str'>\n",
      "203615996-Rental-Agreement-Format.pdf.docx Aggrement End Date 31.01.2009 <class 'str'>\n",
      "203615996-Rental-Agreement-Format.pdf.docx Renewal Notice (Days) 30.0 <class 'float'>\n",
      "203615996-Rental-Agreement-Format.pdf.docx Party One  T.RADHA KRISHNAN  <class 'str'>\n",
      "203615996-Rental-Agreement-Format.pdf.docx Party Two ABHIJIT BHARADWAJ  <class 'str'>\n",
      "248636461-Rental-Agreement.pdf.docx Aggrement Value 2500.0 <class 'float'>\n",
      "248636461-Rental-Agreement.pdf.docx Aggrement Start Date 01.08.2014 <class 'str'>\n",
      "248636461-Rental-Agreement.pdf.docx Aggrement End Date 31.07.2015 <class 'str'>\n",
      "248636461-Rental-Agreement.pdf.docx Renewal Notice (Days) 120.0 <class 'float'>\n",
      "248636461-Rental-Agreement.pdf.docx Party One  M. Geetha <class 'str'>\n",
      "248636461-Rental-Agreement.pdf.docx Party Two  Siruvani Traders Private Limited  <class 'str'>\n",
      "195231682-This-RENTAL-AGREEMENT-is-Made-and-Executed-on-24th-Day-of-September.pdf.docx Aggrement Value 13000.0 <class 'float'>\n",
      "195231682-This-RENTAL-AGREEMENT-is-Made-and-Executed-on-24th-Day-of-September.pdf.docx Aggrement Start Date 06.04.2013 <class 'str'>\n",
      "195231682-This-RENTAL-AGREEMENT-is-Made-and-Executed-on-24th-Day-of-September.pdf.docx Aggrement End Date 05.03.2014 <class 'str'>\n",
      "195231682-This-RENTAL-AGREEMENT-is-Made-and-Executed-on-24th-Day-of-September.pdf.docx Renewal Notice (Days) 30.0 <class 'float'>\n",
      "195231682-This-RENTAL-AGREEMENT-is-Made-and-Executed-on-24th-Day-of-September.pdf.docx Party One C.BHAGYAMMA <class 'str'>\n",
      "195231682-This-RENTAL-AGREEMENT-is-Made-and-Executed-on-24th-Day-of-September.pdf.docx Party Two JP INTERIO <class 'str'>\n",
      "269760124-97646-41223-Rental-Agreement.pdf.docx Aggrement Value 7000.0 <class 'float'>\n",
      "269760124-97646-41223-Rental-Agreement.pdf.docx Aggrement End Date 31.02.2010 <class 'str'>\n",
      "269760124-97646-41223-Rental-Agreement.pdf.docx Renewal Notice (Days) 30.0 <class 'float'>\n",
      "269760124-97646-41223-Rental-Agreement.pdf.docx Party One Parasu Ram Mishra <class 'str'>\n",
      "269760124-97646-41223-Rental-Agreement.pdf.docx Party Two  P.Gangadhar  <class 'str'>\n",
      "249104436-House-Rental-Agreement.pdf.docx Aggrement Value 450.0 <class 'float'>\n",
      "249104436-House-Rental-Agreement.pdf.docx Aggrement Start Date 01.07.2014 <class 'str'>\n",
      "249104436-House-Rental-Agreement.pdf.docx Aggrement End Date 31.06.2015 <class 'str'>\n",
      "249104436-House-Rental-Agreement.pdf.docx Renewal Notice (Days) 30.0 <class 'float'>\n",
      "249104436-House-Rental-Agreement.pdf.docx Party One SUHAIMI BIN AG. AMAN AND NOOR AZEENAH BINTI MICHAEL <class 'str'>\n",
      "249104436-House-Rental-Agreement.pdf.docx Party Two MOHD KHAIRUN BIN ZAKARIA  <class 'str'>\n",
      "36199312-Rental-Agreement.pdf.docx Aggrement Value 3800.0 <class 'float'>\n",
      "36199312-Rental-Agreement.pdf.docx Aggrement Start Date 01.05.2010 <class 'str'>\n",
      "36199312-Rental-Agreement.pdf.docx Aggrement End Date 31.04.2011 <class 'str'>\n",
      "36199312-Rental-Agreement.pdf.docx Renewal Notice (Days) 30.0 <class 'float'>\n",
      "36199312-Rental-Agreement.pdf.docx Party One Balaji.R  <class 'str'>\n",
      "36199312-Rental-Agreement.pdf.docx Party Two Kartheek R <class 'str'>\n",
      "99699504-Rental-Agreement-English-Model.pdf.docx Aggrement Value 12000.0 <class 'float'>\n",
      "99699504-Rental-Agreement-English-Model.pdf.docx Aggrement Start Date  28.03.2012 <class 'str'>\n",
      "99699504-Rental-Agreement-English-Model.pdf.docx Renewal Notice (Days) 90.0 <class 'float'>\n",
      "99699504-Rental-Agreement-English-Model.pdf.docx Party One AR. SUBBIAH <class 'str'>\n",
      "99699504-Rental-Agreement-English-Model.pdf.docx Party Two P. SOCRATES <class 'str'>\n",
      "323828497-Rental-Agreement-Micky.pdf.docx Aggrement Value 800.0 <class 'float'>\n",
      "323828497-Rental-Agreement-Micky.pdf.docx Aggrement Start Date 01.04.2016 <class 'str'>\n",
      "323828497-Rental-Agreement-Micky.pdf.docx Renewal Notice (Days) 30.0 <class 'float'>\n",
      "323828497-Rental-Agreement-Micky.pdf.docx Party One RC AND PAUL PAULINO <class 'str'>\n",
      "323828497-Rental-Agreement-Micky.pdf.docx Party Two nan <class 'float'>\n",
      "170499354-Anand-Nagar-Agreement.pdf.docx Aggrement Value 8000.0 <class 'float'>\n",
      "170499354-Anand-Nagar-Agreement.pdf.docx Aggrement Start Date 05.04.2011 <class 'str'>\n",
      "170499354-Anand-Nagar-Agreement.pdf.docx Aggrement End Date 04.04.2012 <class 'str'>\n",
      "170499354-Anand-Nagar-Agreement.pdf.docx Renewal Notice (Days) 30.0 <class 'float'>\n",
      "170499354-Anand-Nagar-Agreement.pdf.docx Party One PADMAVATI <class 'str'>\n",
      "170499354-Anand-Nagar-Agreement.pdf.docx Party Two SANGHAMITRA PARIDA <class 'str'>\n",
      "6683127-House-Rental-Contract-GERALDINE-GALINATO-v2-Page-1.pdf.docx Aggrement Value 6500.0 <class 'float'>\n",
      "6683127-House-Rental-Contract-GERALDINE-GALINATO-v2-Page-1.pdf.docx Aggrement Start Date 20.05.2007 <class 'str'>\n",
      "6683127-House-Rental-Contract-GERALDINE-GALINATO-v2-Page-1.pdf.docx Aggrement End Date 20.05.2008 <class 'str'>\n",
      "6683127-House-Rental-Contract-GERALDINE-GALINATO-v2-Page-1.pdf.docx Renewal Notice (Days) 15.0 <class 'float'>\n",
      "6683127-House-Rental-Contract-GERALDINE-GALINATO-v2-Page-1.pdf.docx Party One Antonio Levy S. Ingles, Jr. and/or Mary Rose C. Ingles <class 'str'>\n",
      "6683127-House-Rental-Contract-GERALDINE-GALINATO-v2-Page-1.pdf.docx Party Two GERALDINE Q. GALINATO <class 'str'>\n",
      "56736420-Rental-Agreement.pdf.docx Aggrement Value 6500.0 <class 'float'>\n",
      "56736420-Rental-Agreement.pdf.docx Aggrement Start Date 05.06.2009 <class 'str'>\n",
      "56736420-Rental-Agreement.pdf.docx Aggrement End Date 04.05.2010 <class 'str'>\n",
      "56736420-Rental-Agreement.pdf.docx Renewal Notice (Days) 30.0 <class 'float'>\n",
      "56736420-Rental-Agreement.pdf.docx Party One B. Boobalan  <class 'str'>\n",
      "56736420-Rental-Agreement.pdf.docx Party Two CHEBOLU V S R DIKSHITULU  <class 'str'>\n",
      "63793679-Rental-Agreement.pdf.docx Aggrement Value 9000.0 <class 'float'>\n",
      "63793679-Rental-Agreement.pdf.docx Aggrement End Date 31.08.2012 <class 'str'>\n",
      "63793679-Rental-Agreement.pdf.docx Renewal Notice (Days) nan <class 'float'>\n",
      "63793679-Rental-Agreement.pdf.docx Party One S Parthasarathy <class 'str'>\n",
      "63793679-Rental-Agreement.pdf.docx Party Two Hari Kiran Tholeti <class 'str'>\n",
      "77112358-Jaggu-Rental-Agreemnt.pdf.docx Aggrement Value 4000.0 <class 'float'>\n",
      "77112358-Jaggu-Rental-Agreemnt.pdf.docx Aggrement End Date 09.04.2010 <class 'str'>\n",
      "77112358-Jaggu-Rental-Agreemnt.pdf.docx Renewal Notice (Days) 90.0 <class 'float'>\n",
      "77112358-Jaggu-Rental-Agreemnt.pdf.docx Party One E.Anwar  <class 'str'>\n",
      "77112358-Jaggu-Rental-Agreemnt.pdf.docx Party Two Mohammed Ishaq  <class 'str'>\n",
      "100999172-House-Rental-Agreement.pdf.docx Aggrement Value 14500.0 <class 'float'>\n",
      "100999172-House-Rental-Agreement.pdf.docx Aggrement Start Date 10.01.2011 <class 'str'>\n",
      "100999172-House-Rental-Agreement.pdf.docx Aggrement End Date 09.01.2012 <class 'str'>\n",
      "100999172-House-Rental-Agreement.pdf.docx Renewal Notice (Days) 90.0 <class 'float'>\n",
      "100999172-House-Rental-Agreement.pdf.docx Party One Namashivayam <class 'str'>\n",
      "100999172-House-Rental-Agreement.pdf.docx Party Two Thenmalar <class 'str'>\n",
      "392810415-RENT-AGREEMENT.pdf.docx Aggrement Value 23000.0 <class 'float'>\n",
      "392810415-RENT-AGREEMENT.pdf.docx Aggrement Start Date 01.09.2018 <class 'str'>\n",
      "392810415-RENT-AGREEMENT.pdf.docx Aggrement End Date 31.08.2021 <class 'str'>\n",
      "392810415-RENT-AGREEMENT.pdf.docx Renewal Notice (Days) 90.0 <class 'float'>\n",
      "392810415-RENT-AGREEMENT.pdf.docx Party One PARMESHWARI DEVI JOSHI <class 'str'>\n",
      "392810415-RENT-AGREEMENT.pdf.docx Party Two TECHNOCULTURE BUILDING CENTRE PRIVATE LIMITED <class 'str'>\n",
      "175488575-House-Rental-Agreement.pdf.docx Aggrement Value 600.0 <class 'float'>\n",
      "175488575-House-Rental-Agreement.pdf.docx Renewal Notice (Days) 30.0 <class 'float'>\n",
      "175488575-House-Rental-Agreement.pdf.docx Party One  ROHANI BINTI ISMAIL <class 'str'>\n",
      "175488575-House-Rental-Agreement.pdf.docx Party Two SECOND PARTY  <class 'str'>\n",
      "47854715-RENTAL-AGREEMENT.pdf.docx Aggrement Value 9000.0 <class 'float'>\n",
      "47854715-RENTAL-AGREEMENT.pdf.docx Aggrement Start Date 01.04.2010 <class 'str'>\n",
      "47854715-RENTAL-AGREEMENT.pdf.docx Aggrement End Date 31.02.2011 <class 'str'>\n",
      "47854715-RENTAL-AGREEMENT.pdf.docx Renewal Notice (Days) 60.0 <class 'float'>\n",
      "47854715-RENTAL-AGREEMENT.pdf.docx Party One  P C MATHEW <class 'str'>\n",
      "47854715-RENTAL-AGREEMENT.pdf.docx Party Two  L GOPINATH  <class 'str'>\n"
     ]
    },
    {
     "name": "stdout",
     "output_type": "stream",
     "text": [
      "95980236-Rental-Agreement.pdf.docx Aggrement Value 9000.0 <class 'float'>\n",
      "95980236-Rental-Agreement.pdf.docx Aggrement Start Date 01.04.2010 <class 'str'>\n",
      "95980236-Rental-Agreement.pdf.docx Aggrement End Date 31.03.2011 <class 'str'>\n",
      "95980236-Rental-Agreement.pdf.docx Renewal Notice (Days) 30.0 <class 'float'>\n",
      "95980236-Rental-Agreement.pdf.docx Party One  S.Sakunthala <class 'str'>\n",
      "95980236-Rental-Agreement.pdf.docx Party Two V.V.Ravi Kian <class 'str'>\n",
      "294331674-Rental-Agreement.pdf.docx Aggrement Value 3500.0 <class 'float'>\n",
      "294331674-Rental-Agreement.pdf.docx Aggrement Start Date 17.07.2014 <class 'str'>\n",
      "294331674-Rental-Agreement.pdf.docx Aggrement End Date 17.06.2015 <class 'str'>\n",
      "294331674-Rental-Agreement.pdf.docx Renewal Notice (Days) 30.0 <class 'float'>\n",
      "294331674-Rental-Agreement.pdf.docx Party One MICHAEL DELA CRUZ <class 'str'>\n",
      "294331674-Rental-Agreement.pdf.docx Party Two CATHERINE CABOCHA <class 'str'>\n",
      "136441742-Rental-Agreement-Format.pdf.docx Aggrement Value 15000.0 <class 'float'>\n",
      "136441742-Rental-Agreement-Format.pdf.docx Aggrement End Date 10.03.2013 <class 'str'>\n",
      "136441742-Rental-Agreement-Format.pdf.docx Renewal Notice (Days) 60.0 <class 'float'>\n",
      "136441742-Rental-Agreement-Format.pdf.docx Party One P. Raja. Sekhar <class 'str'>\n",
      "136441742-Rental-Agreement-Format.pdf.docx Party Two Venkata Bhyrava Murthy Mutnuri <class 'str'>\n",
      "334060786-House-Rental-Agreement.pdf.docx Aggrement Value 22000.0 <class 'float'>\n",
      "334060786-House-Rental-Agreement.pdf.docx Aggrement Start Date 16.07.2011 <class 'str'>\n",
      "334060786-House-Rental-Agreement.pdf.docx Aggrement End Date 16.10.2011 <class 'str'>\n",
      "334060786-House-Rental-Agreement.pdf.docx Renewal Notice (Days) nan <class 'float'>\n",
      "334060786-House-Rental-Agreement.pdf.docx Party One MARITES M. ALICANTE <class 'str'>\n",
      "334060786-House-Rental-Agreement.pdf.docx Party Two JASMIN B. BAKER and EDWARD RAY BAKER <class 'str'>\n",
      "6683129-House-Rental-Contract-Geraldine-Galinato-v2.pdf.docx Aggrement Value 6500.0 <class 'float'>\n",
      "6683129-House-Rental-Contract-Geraldine-Galinato-v2.pdf.docx Aggrement Start Date 20.05.2007 <class 'str'>\n",
      "6683129-House-Rental-Contract-Geraldine-Galinato-v2.pdf.docx Aggrement End Date 20.05.2008 <class 'str'>\n",
      "6683129-House-Rental-Contract-Geraldine-Galinato-v2.pdf.docx Renewal Notice (Days) 15.0 <class 'float'>\n",
      "6683129-House-Rental-Contract-Geraldine-Galinato-v2.pdf.docx Party One Antonio Levy S. Ingles, Jr. and/or Mary Rose C. Ingles <class 'str'>\n",
      "6683129-House-Rental-Contract-Geraldine-Galinato-v2.pdf.docx Party Two GERALDINE Q. GALINATO <class 'str'>\n",
      "216973836-Rental-Agreement-Sample.pdf.docx Aggrement Value 15000.0 <class 'float'>\n",
      "216973836-Rental-Agreement-Sample.pdf.docx Aggrement Start Date 23.03.2013  <class 'str'>\n",
      "216973836-Rental-Agreement-Sample.pdf.docx Aggrement End Date 23.03.2014 <class 'str'>\n",
      "216973836-Rental-Agreement-Sample.pdf.docx Renewal Notice (Days) 60.0 <class 'float'>\n",
      "216973836-Rental-Agreement-Sample.pdf.docx Party One Kamal <class 'str'>\n",
      "216973836-Rental-Agreement-Sample.pdf.docx Party Two V.Arun Kumar  <class 'str'>\n",
      "63057680-Rental-Agreement.pdf.docx Aggrement Value 450.0 <class 'float'>\n",
      "63057680-Rental-Agreement.pdf.docx Aggrement Start Date  17.08.2010  <class 'str'>\n",
      "63057680-Rental-Agreement.pdf.docx Aggrement End Date 22.08.2010 <class 'str'>\n",
      "63057680-Rental-Agreement.pdf.docx Renewal Notice (Days) nan <class 'float'>\n",
      "63057680-Rental-Agreement.pdf.docx Party One  Lagoon Landings LLC  <class 'str'>\n",
      "63057680-Rental-Agreement.pdf.docx Party Two John Public <class 'str'>\n",
      "62144960-Rental-Agreement.pdf.docx Aggrement Value 12000.0 <class 'float'>\n",
      "62144960-Rental-Agreement.pdf.docx Renewal Notice (Days) 30.0 <class 'float'>\n",
      "62144960-Rental-Agreement.pdf.docx Party One  Procall Private Limited <class 'str'>\n",
      "62144960-Rental-Agreement.pdf.docx Party Two M/s Telelogic India Pvt. Ltd <class 'str'>\n",
      "18325926-Rental-Agreement-1.pdf.docx Aggrement Value 4000.0 <class 'float'>\n",
      "18325926-Rental-Agreement-1.pdf.docx Aggrement Start Date 05.12.2008 <class 'str'>\n",
      "18325926-Rental-Agreement-1.pdf.docx Aggrement End Date 31.11.2009 <class 'str'>\n",
      "18325926-Rental-Agreement-1.pdf.docx Renewal Notice (Days) 90.0 <class 'float'>\n",
      "18325926-Rental-Agreement-1.pdf.docx Party One MR.K.Kuttan  <class 'str'>\n",
      "18325926-Rental-Agreement-1.pdf.docx Party Two P.M. Narayana Namboodri  <class 'str'>\n",
      "269137702-Rental-Agreement.pdf.docx Aggrement Value 8300.0 <class 'float'>\n",
      "269137702-Rental-Agreement.pdf.docx Aggrement Start Date 01.04.2014 <class 'str'>\n",
      "269137702-Rental-Agreement.pdf.docx Aggrement End Date 31.02.2013 <class 'str'>\n",
      "269137702-Rental-Agreement.pdf.docx Renewal Notice (Days) 30.0 <class 'float'>\n",
      "269137702-Rental-Agreement.pdf.docx Party One Giddappa <class 'str'>\n",
      "269137702-Rental-Agreement.pdf.docx Party Two Pottumurthi Udayalaxmi <class 'str'>\n",
      "269135973-Udaya-Rental-Agreement.pdf.docx Aggrement Value 8300.0 <class 'float'>\n",
      "269135973-Udaya-Rental-Agreement.pdf.docx Aggrement Start Date 01.04.2014 <class 'str'>\n",
      "269135973-Udaya-Rental-Agreement.pdf.docx Aggrement End Date 31.02.2013 <class 'str'>\n",
      "269135973-Udaya-Rental-Agreement.pdf.docx Renewal Notice (Days) 30.0 <class 'float'>\n",
      "269135973-Udaya-Rental-Agreement.pdf.docx Party One Giddappa <class 'str'>\n",
      "269135973-Udaya-Rental-Agreement.pdf.docx Party Two Pottumurthi Udayalaxmi <class 'str'>\n",
      "44737744-Maddireddy-Bhargava-Reddy-Rental-Agreement.pdf.docx Aggrement Value 3000.0 <class 'float'>\n",
      "44737744-Maddireddy-Bhargava-Reddy-Rental-Agreement.pdf.docx Aggrement Start Date 20.09.2010 <class 'str'>\n",
      "44737744-Maddireddy-Bhargava-Reddy-Rental-Agreement.pdf.docx Aggrement End Date 19.07.2011 <class 'str'>\n",
      "44737744-Maddireddy-Bhargava-Reddy-Rental-Agreement.pdf.docx Renewal Notice (Days) nan <class 'float'>\n",
      "44737744-Maddireddy-Bhargava-Reddy-Rental-Agreement.pdf.docx Party One M.V.V. VIJAYA SHANKAR <class 'str'>\n",
      "44737744-Maddireddy-Bhargava-Reddy-Rental-Agreement.pdf.docx Party Two MADDIREDDY BHARGAVA REDDY <class 'str'>\n",
      "308044452-Rental-Agreement.pdf.docx Aggrement Value nan <class 'float'>\n",
      "308044452-Rental-Agreement.pdf.docx Renewal Notice (Days) nan <class 'float'>\n",
      "308044452-Rental-Agreement.pdf.docx Party One N.VIJAY KUMAR <class 'str'>\n",
      "308044452-Rental-Agreement.pdf.docx Party Two DURGA SHANKAR GUPTA <class 'str'>\n",
      "95421373-Agreement.pdf.docx Aggrement Value 9000.0 <class 'float'>\n",
      "95421373-Agreement.pdf.docx Aggrement Start Date 11.03.2012 <class 'str'>\n",
      "95421373-Agreement.pdf.docx Aggrement End Date 10.02.2013 <class 'str'>\n",
      "95421373-Agreement.pdf.docx Renewal Notice (Days) 60.0 <class 'float'>\n",
      "95421373-Agreement.pdf.docx Party One M.SANTOSH  <class 'str'>\n",
      "95421373-Agreement.pdf.docx Party Two  Jeyanth B <class 'str'>\n",
      "46239065-Standard-Rental-Agreement-Rental-With-Performance-Fee.pdf.docx Aggrement Value 700.0 <class 'float'>\n",
      "46239065-Standard-Rental-Agreement-Rental-With-Performance-Fee.pdf.docx Aggrement Start Date 15.12.2008 <class 'str'>\n",
      "46239065-Standard-Rental-Agreement-Rental-With-Performance-Fee.pdf.docx Renewal Notice (Days) nan <class 'float'>\n",
      "46239065-Standard-Rental-Agreement-Rental-With-Performance-Fee.pdf.docx Party One  PROSPER 4 LESS,LLC <class 'str'>\n",
      "46239065-Standard-Rental-Agreement-Rental-With-Performance-Fee.pdf.docx Party Two Jose Luis Salcido  <class 'str'>\n",
      "81655723-Rental-Agreement.pdf.docx Aggrement Value 450.0 <class 'float'>\n",
      "81655723-Rental-Agreement.pdf.docx Aggrement Start Date 08.01.2011 <class 'str'>\n",
      "81655723-Rental-Agreement.pdf.docx Aggrement End Date 08.01.2012 <class 'str'>\n",
      "81655723-Rental-Agreement.pdf.docx Renewal Notice (Days) nan <class 'float'>\n",
      "81655723-Rental-Agreement.pdf.docx Party One LEE MING <class 'str'>\n",
      "81655723-Rental-Agreement.pdf.docx Party Two JIMMY SINAU <class 'str'>\n",
      "142106117-Rental-Agreement.pdf.docx Aggrement Value 7200.0 <class 'float'>\n",
      "142106117-Rental-Agreement.pdf.docx Aggrement Start Date 01.03.2011 <class 'str'>\n",
      "142106117-Rental-Agreement.pdf.docx Aggrement End Date 31.02.2012 <class 'str'>\n",
      "142106117-Rental-Agreement.pdf.docx Renewal Notice (Days) 30.0 <class 'float'>\n",
      "142106117-Rental-Agreement.pdf.docx Party One k.Sarguneswaran <class 'str'>\n",
      "142106117-Rental-Agreement.pdf.docx Party Two R.Mathankumar  <class 'str'>\n",
      "172\n"
     ]
    }
   ],
   "source": [
    "# prepair data for training\n",
    "data = []\n",
    "train_labels=pd.read_csv('TrainingTestSet.csv')\n",
    "data_index = list(train_labels.columns)\n",
    "count = 0\n",
    "new_data = []\n",
    "ph_1,ph_2,ph_3,ph_4,ph_5,ph_6 = [],[],[],[],[],[]\n",
    "for i in os.listdir('Training_data/'):\n",
    "    doc = docx.Document('Training_data/'+i)  # Creating word reader object.\n",
    "    paragraph = doc.paragraphs\n",
    "    st = \"\"\n",
    "    for j in paragraph:\n",
    "        st += clean(str(j.text))+\" \"\n",
    "    data.append(st)\n",
    "    temp = train_labels.loc[train_labels['File Name'] == i[:-9]]\n",
    "\n",
    "    entities = []\n",
    "    for col in data_index[1:]:\n",
    "        query = str(tuple(temp[col])[0])\n",
    "\n",
    "        if(col == 'Aggrement Start Date' or col == 'Aggrement End Date'):\n",
    "            if(st.find(query) != -1):\n",
    "                entities.append(\n",
    "                    [st.find(query), st.find(query)+len(query), col])\n",
    "                continue\n",
    "            if(type(tuple(temp[col])[0]) == type(8.0) and tuple(temp[col])[0] >= 0):\n",
    "                query = str(int(tuple(temp[col])[0]))\n",
    "            if(st.find(query) != -1 or st.lower().find(query.lower()) != -1):\n",
    "                entities.append(\n",
    "                    [st.find(query), st.find(query)+len(query), col])\n",
    "            print(i, col, query, type(tuple(temp[col])[0]))\n",
    "            ph_1.append(i)\n",
    "            ph_2.append(col)\n",
    "            ph_3.append(query)\n",
    "        else:\n",
    "            print(i, col, query, type(tuple(temp[col])[0]))\n",
    "            ph_4.append(i)\n",
    "            ph_5.append(col)\n",
    "            ph_6.append(query)\n",
    "            count += 1\n",
    "    new_data.append((st, {'entities': entities}))\n",
    "print(count)"
   ]
  },
  {
   "cell_type": "code",
   "execution_count": null,
   "metadata": {
    "ExecuteTime": {
     "end_time": "2021-05-06T12:57:23.566257Z",
     "start_time": "2021-05-06T12:57:23.524783Z"
    }
   },
   "outputs": [],
   "source": [
    "# pd.DataFrame(ph_1,ph_2).reset_index()\n",
    "pop_df_1 = pd.DataFrame(\n",
    "    {'ph1': ph_1,\n",
    "     'ph2': ph_2,\n",
    "     'ph3': ph_3\n",
    "     })\n",
    "\n",
    "pop_df_2 = pd.DataFrame(\n",
    "    {'ph1': ph_4,\n",
    "     'ph2': ph_5,\n",
    "     'ph3': ph_6\n",
    "     })\n",
    "\n",
    "pop_df_1 = pop_df_1.pivot(index='ph1',columns=\"ph2\",values=\"ph3\").reset_index()\n",
    "pop_df_2 = pop_df_2.pivot(index='ph1',columns=\"ph2\",values=\"ph3\").reset_index()"
   ]
  },
  {
   "cell_type": "code",
   "execution_count": 333,
   "metadata": {
    "ExecuteTime": {
     "end_time": "2021-05-06T12:57:55.368576Z",
     "start_time": "2021-05-06T12:57:55.362692Z"
    },
    "scrolled": true
   },
   "outputs": [],
   "source": [
    "output_csv = pd.merge(pop_df_1, pop_df_2, left_on='ph1', right_on='ph1', how='outer')"
   ]
  },
  {
   "cell_type": "code",
   "execution_count": 336,
   "metadata": {
    "ExecuteTime": {
     "end_time": "2021-05-06T12:58:27.398801Z",
     "start_time": "2021-05-06T12:58:27.395496Z"
    },
    "scrolled": true
   },
   "outputs": [],
   "source": [
    "output_csv = output_csv.rename(columns={\"ph1\":\"FileName\"})"
   ]
  },
  {
   "cell_type": "code",
   "execution_count": 344,
   "metadata": {
    "ExecuteTime": {
     "end_time": "2021-05-06T13:11:19.857076Z",
     "start_time": "2021-05-06T13:11:19.854296Z"
    }
   },
   "outputs": [],
   "source": [
    "os.chdir('/Users/sahmehta/Downloads/Zycus')"
   ]
  },
  {
   "cell_type": "markdown",
   "metadata": {},
   "source": [
    "## Redundant lines of code to replicate the above function for validation data. This has been done to avoid function based conflicts. Can be converted into a general function later. "
   ]
  },
  {
   "cell_type": "code",
   "execution_count": 349,
   "metadata": {
    "ExecuteTime": {
     "end_time": "2021-05-06T13:14:22.983485Z",
     "start_time": "2021-05-06T13:14:22.922098Z"
    },
    "scrolled": true
   },
   "outputs": [
    {
     "name": "stdout",
     "output_type": "stream",
     "text": [
      "24158401-Rental-Agreement.pdf.docx Aggrement Value 12000 <class 'int'>\n",
      "24158401-Rental-Agreement.pdf.docx Aggrement Start Date 01.04.2008 <class 'str'>\n",
      "24158401-Rental-Agreement.pdf.docx Aggrement End Date 31.03.2009 <class 'str'>\n",
      "24158401-Rental-Agreement.pdf.docx Renewal Notice (Days) 60.0 <class 'float'>\n",
      "24158401-Rental-Agreement.pdf.docx Party One Hanumaiah  <class 'str'>\n",
      "24158401-Rental-Agreement.pdf.docx Party Two  Vishal Bhardwaj  <class 'str'>\n",
      "228094620-Rental-Agreement.pdf.docx Aggrement Value 15000 <class 'int'>\n",
      "228094620-Rental-Agreement.pdf.docx Aggrement Start Date 07.07.2013 <class 'str'>\n",
      "228094620-Rental-Agreement.pdf.docx Aggrement End Date 06.06.2014 <class 'str'>\n",
      "228094620-Rental-Agreement.pdf.docx Renewal Notice (Days) 30.0 <class 'float'>\n",
      "228094620-Rental-Agreement.pdf.docx Party One  KAPIL MEHROTRA  <class 'str'>\n",
      "228094620-Rental-Agreement.pdf.docx Party Two .B.Kishore  <class 'str'>\n",
      "195231682-This-RENTAL-AGREEMENT-is-Made-and-Executed-on-24th-Day-of-September.pdf.docx Aggrement Value 13000 <class 'int'>\n",
      "195231682-This-RENTAL-AGREEMENT-is-Made-and-Executed-on-24th-Day-of-September.pdf.docx Aggrement Start Date 06.04.2013 <class 'str'>\n",
      "195231682-This-RENTAL-AGREEMENT-is-Made-and-Executed-on-24th-Day-of-September.pdf.docx Aggrement End Date 05.03.2014 <class 'str'>\n",
      "195231682-This-RENTAL-AGREEMENT-is-Made-and-Executed-on-24th-Day-of-September.pdf.docx Renewal Notice (Days) 30.0 <class 'float'>\n",
      "195231682-This-RENTAL-AGREEMENT-is-Made-and-Executed-on-24th-Day-of-September.pdf.docx Party One C.BHAGYAMMA <class 'str'>\n",
      "195231682-This-RENTAL-AGREEMENT-is-Made-and-Executed-on-24th-Day-of-September.pdf.docx Party Two JP INTERIO <class 'str'>\n",
      "63793679-Rental-Agreement.pdf.docx Aggrement Value 9000 <class 'int'>\n",
      "63793679-Rental-Agreement.pdf.docx Aggrement End Date 31.08.2012 <class 'str'>\n",
      "63793679-Rental-Agreement.pdf.docx Renewal Notice (Days) nan <class 'float'>\n",
      "63793679-Rental-Agreement.pdf.docx Party One S Parthasarathy <class 'str'>\n",
      "63793679-Rental-Agreement.pdf.docx Party Two Hari Kiran Tholeti <class 'str'>\n",
      "239419594-Rental-Agreement.pdf.docx Aggrement Value 9000 <class 'int'>\n",
      "239419594-Rental-Agreement.pdf.docx Aggrement Start Date 07.07.2014 <class 'str'>\n",
      "239419594-Rental-Agreement.pdf.docx Aggrement End Date 06.06.2015 <class 'str'>\n",
      "239419594-Rental-Agreement.pdf.docx Renewal Notice (Days) 90.0 <class 'float'>\n",
      "239419594-Rental-Agreement.pdf.docx Party One Abraham <class 'str'>\n",
      "239419594-Rental-Agreement.pdf.docx Party Two Annamalai <class 'str'>\n",
      "95980236-Rental-Agreement.pdf.docx Aggrement Value 9000 <class 'int'>\n",
      "95980236-Rental-Agreement.pdf.docx Aggrement Start Date 01.04.2010 <class 'str'>\n",
      "95980236-Rental-Agreement.pdf.docx Aggrement End Date 31.03.2011 <class 'str'>\n",
      "95980236-Rental-Agreement.pdf.docx Renewal Notice (Days) 30.0 <class 'float'>\n",
      "95980236-Rental-Agreement.pdf.docx Party One  S.Sakunthala <class 'str'>\n",
      "95980236-Rental-Agreement.pdf.docx Party Two V.V.Ravi Kian <class 'str'>\n",
      "156155545-Rental-Agreement-Kns-Home.pdf.docx Aggrement Value 12000 <class 'int'>\n",
      "156155545-Rental-Agreement-Kns-Home.pdf.docx Aggrement Start Date 15.12.2012 <class 'str'>\n",
      "156155545-Rental-Agreement-Kns-Home.pdf.docx Aggrement End Date 14.11.2013 <class 'str'>\n",
      "156155545-Rental-Agreement-Kns-Home.pdf.docx Renewal Notice (Days) 30.0 <class 'float'>\n",
      "156155545-Rental-Agreement-Kns-Home.pdf.docx Party One V.K.NATARAJ  <class 'str'>\n",
      "156155545-Rental-Agreement-Kns-Home.pdf.docx Party Two  VYSHNAVI DAIRY SPECIALITIES Private Ltd <class 'str'>\n",
      "269135973-Udaya-Rental-Agreement.pdf.docx Aggrement Value 8300 <class 'int'>\n",
      "269135973-Udaya-Rental-Agreement.pdf.docx Aggrement Start Date 01.04.2014 <class 'str'>\n",
      "269135973-Udaya-Rental-Agreement.pdf.docx Aggrement End Date 31.02.2013 <class 'str'>\n",
      "269135973-Udaya-Rental-Agreement.pdf.docx Renewal Notice (Days) 30.0 <class 'float'>\n",
      "269135973-Udaya-Rental-Agreement.pdf.docx Party One Giddappa <class 'str'>\n",
      "269135973-Udaya-Rental-Agreement.pdf.docx Party Two Pottumurthi Udayalaxmi <class 'str'>\n",
      "32\n"
     ]
    }
   ],
   "source": [
    "# load validation data\n",
    "data = []\n",
    "data_index = list(train_labels.columns)\n",
    "val_labels = pd.read_csv(\"ValidationSet.csv\")\n",
    "count = 0\n",
    "new_data = []\n",
    "ph_1,ph_2,ph_3,ph_4,ph_5,ph_6 = [],[],[],[],[],[]\n",
    "for i in os.listdir('Validation_Data/'):\n",
    "    doc = docx.Document('Validation_Data/'+i)  # Creating word reader object.\n",
    "    paragraph = doc.paragraphs\n",
    "    st = \"\"\n",
    "    for j in paragraph:\n",
    "        st += clean(str(j.text))+\" \"\n",
    "    data.append(st)\n",
    "    temp = val_labels.loc[val_labels['File Name'] == i[:-9]]\n",
    "    # convert in proper format\n",
    "    entities = []\n",
    "    for col in data_index[1:]:\n",
    "        query = str(tuple(temp[col])[0])\n",
    "        if(col == 'Aggrement Start Date' or col == 'Aggrement End Date'):\n",
    "            if(st.find(query) != -1):\n",
    "                entities.append(\n",
    "                    [st.find(query), st.find(query)+len(query), col])\n",
    "                continue\n",
    "            if(type(tuple(temp[col])[0]) == type(8.0) and tuple(temp[col])[0] >= 0):\n",
    "                query = str(int(tuple(temp[col])[0]))\n",
    "            if(st.find(query) != -1 or st.lower().find(query.lower()) != -1):\n",
    "                entities.append(\n",
    "                    [st.find(query), st.find(query)+len(query), col])\n",
    "            print(i, col, query, type(tuple(temp[col])[0]))\n",
    "            ph_1.append(i)\n",
    "            ph_2.append(col)\n",
    "            ph_3.append(query)\n",
    "        else:\n",
    "            print(i, col, query, type(tuple(temp[col])[0]))\n",
    "            ph_4.append(i)\n",
    "            ph_5.append(col)\n",
    "            ph_6.append(query)\n",
    "            count += 1\n",
    "    new_data.append((st, {'entities': entities}))\n",
    "print(count)"
   ]
  },
  {
   "cell_type": "code",
   "execution_count": 350,
   "metadata": {
    "ExecuteTime": {
     "end_time": "2021-05-06T13:14:50.600872Z",
     "start_time": "2021-05-06T13:14:50.581404Z"
    }
   },
   "outputs": [],
   "source": [
    "# pd.DataFrame(ph_1,ph_2).reset_index()\n",
    "pop_df_1 = pd.DataFrame(\n",
    "    {'ph1': ph_1,\n",
    "     'ph2': ph_2,\n",
    "     'ph3': ph_3\n",
    "     })\n",
    "\n",
    "pop_df_2 = pd.DataFrame(\n",
    "    {'ph1': ph_4,\n",
    "     'ph2': ph_5,\n",
    "     'ph3': ph_6\n",
    "     })\n",
    "\n",
    "pop_df_1 = pop_df_1.pivot(index='ph1',columns=\"ph2\",values=\"ph3\").reset_index()\n",
    "pop_df_2 = pop_df_2.pivot(index='ph1',columns=\"ph2\",values=\"ph3\").reset_index()\n",
    "\n",
    "output_csv_val = pd.merge(pop_df_1, pop_df_2, left_on='ph1', right_on='ph1', how='outer')\n",
    "\n",
    "output_csv_val = output_csv_val.rename(columns={\"ph1\":\"FileName\"})"
   ]
  },
  {
   "cell_type": "code",
   "execution_count": 351,
   "metadata": {
    "ExecuteTime": {
     "end_time": "2021-05-06T13:14:55.227403Z",
     "start_time": "2021-05-06T13:14:55.216767Z"
    }
   },
   "outputs": [
    {
     "data": {
      "text/html": [
       "<div>\n",
       "<style scoped>\n",
       "    .dataframe tbody tr th:only-of-type {\n",
       "        vertical-align: middle;\n",
       "    }\n",
       "\n",
       "    .dataframe tbody tr th {\n",
       "        vertical-align: top;\n",
       "    }\n",
       "\n",
       "    .dataframe thead th {\n",
       "        text-align: right;\n",
       "    }\n",
       "</style>\n",
       "<table border=\"1\" class=\"dataframe\">\n",
       "  <thead>\n",
       "    <tr style=\"text-align: right;\">\n",
       "      <th>ph2</th>\n",
       "      <th>FileName</th>\n",
       "      <th>Aggrement End Date</th>\n",
       "      <th>Aggrement Start Date</th>\n",
       "      <th>Aggrement Value</th>\n",
       "      <th>Party One</th>\n",
       "      <th>Party Two</th>\n",
       "      <th>Renewal Notice (Days)</th>\n",
       "    </tr>\n",
       "  </thead>\n",
       "  <tbody>\n",
       "    <tr>\n",
       "      <th>0</th>\n",
       "      <td>156155545-Rental-Agreement-Kns-Home.pdf.docx</td>\n",
       "      <td>14.11.2013</td>\n",
       "      <td>15.12.2012</td>\n",
       "      <td>12000</td>\n",
       "      <td>V.K.NATARAJ</td>\n",
       "      <td>VYSHNAVI DAIRY SPECIALITIES Private Ltd</td>\n",
       "      <td>30.0</td>\n",
       "    </tr>\n",
       "    <tr>\n",
       "      <th>1</th>\n",
       "      <td>195231682-This-RENTAL-AGREEMENT-is-Made-and-Ex...</td>\n",
       "      <td>05.03.2014</td>\n",
       "      <td>06.04.2013</td>\n",
       "      <td>13000</td>\n",
       "      <td>C.BHAGYAMMA</td>\n",
       "      <td>JP INTERIO</td>\n",
       "      <td>30.0</td>\n",
       "    </tr>\n",
       "    <tr>\n",
       "      <th>2</th>\n",
       "      <td>228094620-Rental-Agreement.pdf.docx</td>\n",
       "      <td>06.06.2014</td>\n",
       "      <td>07.07.2013</td>\n",
       "      <td>15000</td>\n",
       "      <td>KAPIL MEHROTRA</td>\n",
       "      <td>.B.Kishore</td>\n",
       "      <td>30.0</td>\n",
       "    </tr>\n",
       "    <tr>\n",
       "      <th>3</th>\n",
       "      <td>239419594-Rental-Agreement.pdf.docx</td>\n",
       "      <td>06.06.2015</td>\n",
       "      <td>07.07.2014</td>\n",
       "      <td>9000</td>\n",
       "      <td>Abraham</td>\n",
       "      <td>Annamalai</td>\n",
       "      <td>90.0</td>\n",
       "    </tr>\n",
       "    <tr>\n",
       "      <th>4</th>\n",
       "      <td>24158401-Rental-Agreement.pdf.docx</td>\n",
       "      <td>31.03.2009</td>\n",
       "      <td>01.04.2008</td>\n",
       "      <td>12000</td>\n",
       "      <td>Hanumaiah</td>\n",
       "      <td>Vishal Bhardwaj</td>\n",
       "      <td>60.0</td>\n",
       "    </tr>\n",
       "    <tr>\n",
       "      <th>5</th>\n",
       "      <td>269135973-Udaya-Rental-Agreement.pdf.docx</td>\n",
       "      <td>31.02.2013</td>\n",
       "      <td>01.04.2014</td>\n",
       "      <td>8300</td>\n",
       "      <td>Giddappa</td>\n",
       "      <td>Pottumurthi Udayalaxmi</td>\n",
       "      <td>30.0</td>\n",
       "    </tr>\n",
       "    <tr>\n",
       "      <th>6</th>\n",
       "      <td>63793679-Rental-Agreement.pdf.docx</td>\n",
       "      <td>31.08.2012</td>\n",
       "      <td>NaN</td>\n",
       "      <td>9000</td>\n",
       "      <td>S Parthasarathy</td>\n",
       "      <td>Hari Kiran Tholeti</td>\n",
       "      <td>nan</td>\n",
       "    </tr>\n",
       "    <tr>\n",
       "      <th>7</th>\n",
       "      <td>95980236-Rental-Agreement.pdf.docx</td>\n",
       "      <td>31.03.2011</td>\n",
       "      <td>01.04.2010</td>\n",
       "      <td>9000</td>\n",
       "      <td>S.Sakunthala</td>\n",
       "      <td>V.V.Ravi Kian</td>\n",
       "      <td>30.0</td>\n",
       "    </tr>\n",
       "  </tbody>\n",
       "</table>\n",
       "</div>"
      ],
      "text/plain": [
       "ph2                                           FileName Aggrement End Date  \\\n",
       "0         156155545-Rental-Agreement-Kns-Home.pdf.docx         14.11.2013   \n",
       "1    195231682-This-RENTAL-AGREEMENT-is-Made-and-Ex...         05.03.2014   \n",
       "2                  228094620-Rental-Agreement.pdf.docx         06.06.2014   \n",
       "3                  239419594-Rental-Agreement.pdf.docx         06.06.2015   \n",
       "4                   24158401-Rental-Agreement.pdf.docx         31.03.2009   \n",
       "5            269135973-Udaya-Rental-Agreement.pdf.docx         31.02.2013   \n",
       "6                   63793679-Rental-Agreement.pdf.docx         31.08.2012   \n",
       "7                   95980236-Rental-Agreement.pdf.docx         31.03.2011   \n",
       "\n",
       "ph2 Aggrement Start Date Aggrement Value         Party One  \\\n",
       "0             15.12.2012           12000      V.K.NATARAJ    \n",
       "1             06.04.2013           13000       C.BHAGYAMMA   \n",
       "2             07.07.2013           15000   KAPIL MEHROTRA    \n",
       "3             07.07.2014            9000           Abraham   \n",
       "4             01.04.2008           12000        Hanumaiah    \n",
       "5             01.04.2014            8300          Giddappa   \n",
       "6                    NaN            9000   S Parthasarathy   \n",
       "7             01.04.2010            9000      S.Sakunthala   \n",
       "\n",
       "ph2                                 Party Two Renewal Notice (Days)  \n",
       "0     VYSHNAVI DAIRY SPECIALITIES Private Ltd                  30.0  \n",
       "1                                  JP INTERIO                  30.0  \n",
       "2                                 .B.Kishore                   30.0  \n",
       "3                                   Annamalai                  90.0  \n",
       "4                            Vishal Bhardwaj                   60.0  \n",
       "5                      Pottumurthi Udayalaxmi                  30.0  \n",
       "6                          Hari Kiran Tholeti                   nan  \n",
       "7                               V.V.Ravi Kian                  30.0  "
      ]
     },
     "execution_count": 351,
     "metadata": {},
     "output_type": "execute_result"
    }
   ],
   "source": [
    "output_csv_val"
   ]
  },
  {
   "cell_type": "markdown",
   "metadata": {},
   "source": [
    "## The output CSVs with required labels can be seen above and are outputted into the folder mentioned. "
   ]
  },
  {
   "cell_type": "code",
   "execution_count": 352,
   "metadata": {
    "ExecuteTime": {
     "end_time": "2021-05-06T13:16:16.015497Z",
     "start_time": "2021-05-06T13:16:15.987991Z"
    }
   },
   "outputs": [],
   "source": [
    "output_csv.to_csv(\"OutputCSVs/Training_convert_labels.csv\")"
   ]
  },
  {
   "cell_type": "code",
   "execution_count": 353,
   "metadata": {
    "ExecuteTime": {
     "end_time": "2021-05-06T13:16:17.972944Z",
     "start_time": "2021-05-06T13:16:17.969183Z"
    }
   },
   "outputs": [],
   "source": [
    "output_csv_val.to_csv(\"OutputCSVs/Validation_convert_labels.csv\")"
   ]
  }
 ],
 "metadata": {
  "kernelspec": {
   "display_name": "Python 3",
   "language": "python",
   "name": "python3"
  },
  "language_info": {
   "codemirror_mode": {
    "name": "ipython",
    "version": 3
   },
   "file_extension": ".py",
   "mimetype": "text/x-python",
   "name": "python",
   "nbconvert_exporter": "python",
   "pygments_lexer": "ipython3",
   "version": "3.8.3"
  },
  "varInspector": {
   "cols": {
    "lenName": 16,
    "lenType": 16,
    "lenVar": 40
   },
   "kernels_config": {
    "python": {
     "delete_cmd_postfix": "",
     "delete_cmd_prefix": "del ",
     "library": "var_list.py",
     "varRefreshCmd": "print(var_dic_list())"
    },
    "r": {
     "delete_cmd_postfix": ") ",
     "delete_cmd_prefix": "rm(",
     "library": "var_list.r",
     "varRefreshCmd": "cat(var_dic_list()) "
    }
   },
   "types_to_exclude": [
    "module",
    "function",
    "builtin_function_or_method",
    "instance",
    "_Feature"
   ],
   "window_display": false
  }
 },
 "nbformat": 4,
 "nbformat_minor": 4
}
